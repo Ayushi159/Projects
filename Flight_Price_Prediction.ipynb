{
  "nbformat": 4,
  "nbformat_minor": 0,
  "metadata": {
    "colab": {
      "name": "Flight_Price_Prediction.ipynb",
      "provenance": [],
      "collapsed_sections": [],
      "include_colab_link": true
    },
    "kernelspec": {
      "display_name": "Python 3",
      "language": "python",
      "name": "python3"
    },
    "language_info": {
      "codemirror_mode": {
        "name": "ipython",
        "version": 3
      },
      "file_extension": ".py",
      "mimetype": "text/x-python",
      "name": "python",
      "nbconvert_exporter": "python",
      "pygments_lexer": "ipython3",
      "version": "3.8.3"
    }
  },
  "cells": [
    {
      "cell_type": "markdown",
      "metadata": {
        "id": "view-in-github",
        "colab_type": "text"
      },
      "source": [
        "<a href=\"https://colab.research.google.com/github/Ayushi159/Projects/blob/master/Flight_Price_Prediction.ipynb\" target=\"_parent\"><img src=\"https://colab.research.google.com/assets/colab-badge.svg\" alt=\"Open In Colab\"/></a>"
      ]
    },
    {
      "cell_type": "markdown",
      "metadata": {
        "id": "Je4TFA7ptq28"
      },
      "source": [
        "# FLIGHT PRICE PREDICTION"
      ]
    },
    {
      "cell_type": "markdown",
      "metadata": {
        "id": "La2OH33btq3C"
      },
      "source": [
        "prepared by: 20114261 Abdul Ahad Khan, 20114264 Ayushi Mishra, 20114271 Shubhendu Singh, 20114016 Razi Haneef, 20114021 Sk Raju"
      ]
    },
    {
      "cell_type": "markdown",
      "metadata": {
        "id": "fr5CyvYotq3D"
      },
      "source": [
        "# Importing the modules"
      ]
    },
    {
      "cell_type": "code",
      "metadata": {
        "id": "9xy0aI2atq3E"
      },
      "source": [
        "import pandas as pd\n",
        "import numpy as np\n",
        "import matplotlib.pyplot as plt\n",
        "%matplotlib inline\n",
        "import seaborn as sns\n",
        "import datetime"
      ],
      "execution_count": null,
      "outputs": []
    },
    {
      "cell_type": "markdown",
      "metadata": {
        "id": "i_kcM1Rstq3F"
      },
      "source": [
        "# Fitting all the columns in page width"
      ]
    },
    {
      "cell_type": "code",
      "metadata": {
        "id": "hmBQwkSNtq3G"
      },
      "source": [
        "pd.pandas.set_option('display.max_columns', None)"
      ],
      "execution_count": null,
      "outputs": []
    },
    {
      "cell_type": "markdown",
      "metadata": {
        "id": "JXnxB6ngtq3G"
      },
      "source": [
        "# Importing the datasets"
      ]
    },
    {
      "cell_type": "code",
      "metadata": {
        "colab": {
          "base_uri": "https://localhost:8080/"
        },
        "id": "qEeVbAOxtq3L",
        "outputId": "a85fca42-9c6c-42c6-c702-974f29ec7057"
      },
      "source": [
        "dataset_1 = pd.read_csv('pek-sha.csv')\n",
        "dataset_2 = pd.read_csv('sha-pek.csv')\n",
        "dataset = pd.concat([dataset_1,dataset_2], ignore_index = True)\n",
        "print(dataset.shape)"
      ],
      "execution_count": null,
      "outputs": [
        {
          "output_type": "stream",
          "text": [
            "(568917, 14)\n"
          ],
          "name": "stdout"
        }
      ]
    },
    {
      "cell_type": "markdown",
      "metadata": {
        "id": "KysatfPmtq3R"
      },
      "source": [
        "# Data head and tail"
      ]
    },
    {
      "cell_type": "code",
      "metadata": {
        "colab": {
          "base_uri": "https://localhost:8080/",
          "height": 309
        },
        "id": "yxiaiBQxtq3S",
        "outputId": "3a8a1389-9f77-42a7-d128-a0aa7d87f9d1"
      },
      "source": [
        "dataset.head()"
      ],
      "execution_count": null,
      "outputs": [
        {
          "output_type": "execute_result",
          "data": {
            "text/html": [
              "<div>\n",
              "<style scoped>\n",
              "    .dataframe tbody tr th:only-of-type {\n",
              "        vertical-align: middle;\n",
              "    }\n",
              "\n",
              "    .dataframe tbody tr th {\n",
              "        vertical-align: top;\n",
              "    }\n",
              "\n",
              "    .dataframe thead th {\n",
              "        text-align: right;\n",
              "    }\n",
              "</style>\n",
              "<table border=\"1\" class=\"dataframe\">\n",
              "  <thead>\n",
              "    <tr style=\"text-align: right;\">\n",
              "      <th></th>\n",
              "      <th>ID</th>\n",
              "      <th>flightNumber</th>\n",
              "      <th>craftTypeCode</th>\n",
              "      <th>depAirport</th>\n",
              "      <th>traAirport</th>\n",
              "      <th>arrAirport</th>\n",
              "      <th>departureDate</th>\n",
              "      <th>arrivalDate</th>\n",
              "      <th>cabinClass</th>\n",
              "      <th>priceClass</th>\n",
              "      <th>price</th>\n",
              "      <th>rate</th>\n",
              "      <th>createDate</th>\n",
              "      <th>dateDifference</th>\n",
              "    </tr>\n",
              "  </thead>\n",
              "  <tbody>\n",
              "    <tr>\n",
              "      <th>0</th>\n",
              "      <td>14393</td>\n",
              "      <td>HO1252</td>\n",
              "      <td>320</td>\n",
              "      <td>PEK</td>\n",
              "      <td>NaN</td>\n",
              "      <td>SHA</td>\n",
              "      <td>2019-01-04 06:35:00</td>\n",
              "      <td>2019-01-04 08:55:00</td>\n",
              "      <td>C</td>\n",
              "      <td>C</td>\n",
              "      <td>1860</td>\n",
              "      <td>1.00</td>\n",
              "      <td>2019-01-03 14:26:15</td>\n",
              "      <td>1</td>\n",
              "    </tr>\n",
              "    <tr>\n",
              "      <th>1</th>\n",
              "      <td>14409</td>\n",
              "      <td>MU5138</td>\n",
              "      <td>33L</td>\n",
              "      <td>PEK</td>\n",
              "      <td>NaN</td>\n",
              "      <td>SHA</td>\n",
              "      <td>2019-01-04 07:00:00</td>\n",
              "      <td>2019-01-04 09:15:00</td>\n",
              "      <td>C</td>\n",
              "      <td>I</td>\n",
              "      <td>1640</td>\n",
              "      <td>0.31</td>\n",
              "      <td>2019-01-03 14:26:15</td>\n",
              "      <td>1</td>\n",
              "    </tr>\n",
              "    <tr>\n",
              "      <th>2</th>\n",
              "      <td>14415</td>\n",
              "      <td>MU5138</td>\n",
              "      <td>33L</td>\n",
              "      <td>PEK</td>\n",
              "      <td>NaN</td>\n",
              "      <td>SHA</td>\n",
              "      <td>2019-01-04 07:00:00</td>\n",
              "      <td>2019-01-04 09:15:00</td>\n",
              "      <td>C</td>\n",
              "      <td>J</td>\n",
              "      <td>5360</td>\n",
              "      <td>1.00</td>\n",
              "      <td>2019-01-03 14:26:15</td>\n",
              "      <td>1</td>\n",
              "    </tr>\n",
              "    <tr>\n",
              "      <th>3</th>\n",
              "      <td>14429</td>\n",
              "      <td>HU7605</td>\n",
              "      <td>350</td>\n",
              "      <td>PEK</td>\n",
              "      <td>NaN</td>\n",
              "      <td>SHA</td>\n",
              "      <td>2019-01-04 07:20:00</td>\n",
              "      <td>2019-01-04 09:35:00</td>\n",
              "      <td>C</td>\n",
              "      <td>I</td>\n",
              "      <td>1635</td>\n",
              "      <td>0.29</td>\n",
              "      <td>2019-01-03 14:26:15</td>\n",
              "      <td>1</td>\n",
              "    </tr>\n",
              "    <tr>\n",
              "      <th>4</th>\n",
              "      <td>14431</td>\n",
              "      <td>HU7605</td>\n",
              "      <td>350</td>\n",
              "      <td>PEK</td>\n",
              "      <td>NaN</td>\n",
              "      <td>SHA</td>\n",
              "      <td>2019-01-04 07:20:00</td>\n",
              "      <td>2019-01-04 09:35:00</td>\n",
              "      <td>C</td>\n",
              "      <td>I</td>\n",
              "      <td>1640</td>\n",
              "      <td>0.29</td>\n",
              "      <td>2019-01-03 14:26:15</td>\n",
              "      <td>1</td>\n",
              "    </tr>\n",
              "  </tbody>\n",
              "</table>\n",
              "</div>"
            ],
            "text/plain": [
              "      ID flightNumber craftTypeCode depAirport traAirport arrAirport  \\\n",
              "0  14393       HO1252           320        PEK        NaN        SHA   \n",
              "1  14409       MU5138           33L        PEK        NaN        SHA   \n",
              "2  14415       MU5138           33L        PEK        NaN        SHA   \n",
              "3  14429       HU7605           350        PEK        NaN        SHA   \n",
              "4  14431       HU7605           350        PEK        NaN        SHA   \n",
              "\n",
              "         departureDate          arrivalDate cabinClass priceClass  price  \\\n",
              "0  2019-01-04 06:35:00  2019-01-04 08:55:00          C          C   1860   \n",
              "1  2019-01-04 07:00:00  2019-01-04 09:15:00          C          I   1640   \n",
              "2  2019-01-04 07:00:00  2019-01-04 09:15:00          C          J   5360   \n",
              "3  2019-01-04 07:20:00  2019-01-04 09:35:00          C          I   1635   \n",
              "4  2019-01-04 07:20:00  2019-01-04 09:35:00          C          I   1640   \n",
              "\n",
              "   rate           createDate  dateDifference  \n",
              "0  1.00  2019-01-03 14:26:15               1  \n",
              "1  0.31  2019-01-03 14:26:15               1  \n",
              "2  1.00  2019-01-03 14:26:15               1  \n",
              "3  0.29  2019-01-03 14:26:15               1  \n",
              "4  0.29  2019-01-03 14:26:15               1  "
            ]
          },
          "metadata": {
            "tags": []
          },
          "execution_count": 5
        }
      ]
    },
    {
      "cell_type": "code",
      "metadata": {
        "colab": {
          "base_uri": "https://localhost:8080/",
          "height": 309
        },
        "id": "JBis1MW_tq3S",
        "outputId": "5492a83b-b248-457e-9f04-8ed16a45661d"
      },
      "source": [
        "dataset.tail()"
      ],
      "execution_count": null,
      "outputs": [
        {
          "output_type": "execute_result",
          "data": {
            "text/html": [
              "<div>\n",
              "<style scoped>\n",
              "    .dataframe tbody tr th:only-of-type {\n",
              "        vertical-align: middle;\n",
              "    }\n",
              "\n",
              "    .dataframe tbody tr th {\n",
              "        vertical-align: top;\n",
              "    }\n",
              "\n",
              "    .dataframe thead th {\n",
              "        text-align: right;\n",
              "    }\n",
              "</style>\n",
              "<table border=\"1\" class=\"dataframe\">\n",
              "  <thead>\n",
              "    <tr style=\"text-align: right;\">\n",
              "      <th></th>\n",
              "      <th>ID</th>\n",
              "      <th>flightNumber</th>\n",
              "      <th>craftTypeCode</th>\n",
              "      <th>depAirport</th>\n",
              "      <th>traAirport</th>\n",
              "      <th>arrAirport</th>\n",
              "      <th>departureDate</th>\n",
              "      <th>arrivalDate</th>\n",
              "      <th>cabinClass</th>\n",
              "      <th>priceClass</th>\n",
              "      <th>price</th>\n",
              "      <th>rate</th>\n",
              "      <th>createDate</th>\n",
              "      <th>dateDifference</th>\n",
              "    </tr>\n",
              "  </thead>\n",
              "  <tbody>\n",
              "    <tr>\n",
              "      <th>568912</th>\n",
              "      <td>77617774</td>\n",
              "      <td>MU5389</td>\n",
              "      <td>325</td>\n",
              "      <td>SHA</td>\n",
              "      <td>LYA</td>\n",
              "      <td>PEK</td>\n",
              "      <td>2019-07-21 07:20:00</td>\n",
              "      <td>2019-07-21 12:00:00</td>\n",
              "      <td>Y</td>\n",
              "      <td>R</td>\n",
              "      <td>830</td>\n",
              "      <td>0.56</td>\n",
              "      <td>2019-07-14 23:28:01</td>\n",
              "      <td>7</td>\n",
              "    </tr>\n",
              "    <tr>\n",
              "      <th>568913</th>\n",
              "      <td>77617775</td>\n",
              "      <td>MU5389</td>\n",
              "      <td>325</td>\n",
              "      <td>SHA</td>\n",
              "      <td>LYA</td>\n",
              "      <td>PEK</td>\n",
              "      <td>2019-07-21 07:20:00</td>\n",
              "      <td>2019-07-21 12:00:00</td>\n",
              "      <td>Y</td>\n",
              "      <td>R</td>\n",
              "      <td>880</td>\n",
              "      <td>0.60</td>\n",
              "      <td>2019-07-14 23:28:01</td>\n",
              "      <td>7</td>\n",
              "    </tr>\n",
              "    <tr>\n",
              "      <th>568914</th>\n",
              "      <td>77617776</td>\n",
              "      <td>MU5389</td>\n",
              "      <td>325</td>\n",
              "      <td>SHA</td>\n",
              "      <td>LYA</td>\n",
              "      <td>PEK</td>\n",
              "      <td>2019-07-21 07:20:00</td>\n",
              "      <td>2019-07-21 12:00:00</td>\n",
              "      <td>Y</td>\n",
              "      <td>R</td>\n",
              "      <td>920</td>\n",
              "      <td>0.62</td>\n",
              "      <td>2019-07-14 23:28:01</td>\n",
              "      <td>7</td>\n",
              "    </tr>\n",
              "    <tr>\n",
              "      <th>568915</th>\n",
              "      <td>77617777</td>\n",
              "      <td>MU5389</td>\n",
              "      <td>325</td>\n",
              "      <td>SHA</td>\n",
              "      <td>LYA</td>\n",
              "      <td>PEK</td>\n",
              "      <td>2019-07-21 07:20:00</td>\n",
              "      <td>2019-07-21 12:00:00</td>\n",
              "      <td>Y</td>\n",
              "      <td>R</td>\n",
              "      <td>790</td>\n",
              "      <td>0.54</td>\n",
              "      <td>2019-07-14 23:28:01</td>\n",
              "      <td>7</td>\n",
              "    </tr>\n",
              "    <tr>\n",
              "      <th>568916</th>\n",
              "      <td>77617779</td>\n",
              "      <td>MU5389</td>\n",
              "      <td>325</td>\n",
              "      <td>SHA</td>\n",
              "      <td>LYA</td>\n",
              "      <td>PEK</td>\n",
              "      <td>2019-07-21 07:20:00</td>\n",
              "      <td>2019-07-21 12:00:00</td>\n",
              "      <td>Y</td>\n",
              "      <td>Y</td>\n",
              "      <td>1490</td>\n",
              "      <td>1.00</td>\n",
              "      <td>2019-07-14 23:28:01</td>\n",
              "      <td>7</td>\n",
              "    </tr>\n",
              "  </tbody>\n",
              "</table>\n",
              "</div>"
            ],
            "text/plain": [
              "              ID flightNumber craftTypeCode depAirport traAirport arrAirport  \\\n",
              "568912  77617774       MU5389           325        SHA        LYA        PEK   \n",
              "568913  77617775       MU5389           325        SHA        LYA        PEK   \n",
              "568914  77617776       MU5389           325        SHA        LYA        PEK   \n",
              "568915  77617777       MU5389           325        SHA        LYA        PEK   \n",
              "568916  77617779       MU5389           325        SHA        LYA        PEK   \n",
              "\n",
              "              departureDate          arrivalDate cabinClass priceClass  price  \\\n",
              "568912  2019-07-21 07:20:00  2019-07-21 12:00:00          Y          R    830   \n",
              "568913  2019-07-21 07:20:00  2019-07-21 12:00:00          Y          R    880   \n",
              "568914  2019-07-21 07:20:00  2019-07-21 12:00:00          Y          R    920   \n",
              "568915  2019-07-21 07:20:00  2019-07-21 12:00:00          Y          R    790   \n",
              "568916  2019-07-21 07:20:00  2019-07-21 12:00:00          Y          Y   1490   \n",
              "\n",
              "        rate           createDate  dateDifference  \n",
              "568912  0.56  2019-07-14 23:28:01               7  \n",
              "568913  0.60  2019-07-14 23:28:01               7  \n",
              "568914  0.62  2019-07-14 23:28:01               7  \n",
              "568915  0.54  2019-07-14 23:28:01               7  \n",
              "568916  1.00  2019-07-14 23:28:01               7  "
            ]
          },
          "metadata": {
            "tags": []
          },
          "execution_count": 6
        }
      ]
    },
    {
      "cell_type": "markdown",
      "metadata": {
        "id": "Ku86Zb_Ytq3T"
      },
      "source": [
        "# Finding the length of unique values for each attribute"
      ]
    },
    {
      "cell_type": "code",
      "metadata": {
        "colab": {
          "base_uri": "https://localhost:8080/"
        },
        "id": "s2LQrzuEtq3U",
        "outputId": "5b5debac-e118-420a-ec33-d043e1fecbe6"
      },
      "source": [
        "dataset.nunique()"
      ],
      "execution_count": null,
      "outputs": [
        {
          "output_type": "execute_result",
          "data": {
            "text/plain": [
              "ID                568917\n",
              "flightNumber         100\n",
              "craftTypeCode         45\n",
              "depAirport             2\n",
              "traAirport             1\n",
              "arrAirport             2\n",
              "departureDate      12823\n",
              "arrivalDate        14704\n",
              "cabinClass             3\n",
              "priceClass            32\n",
              "price                681\n",
              "rate                  87\n",
              "createDate          1249\n",
              "dateDifference        15\n",
              "dtype: int64"
            ]
          },
          "metadata": {
            "tags": []
          },
          "execution_count": 7
        }
      ]
    },
    {
      "cell_type": "code",
      "metadata": {
        "colab": {
          "base_uri": "https://localhost:8080/"
        },
        "id": "uFXO3poftq3U",
        "outputId": "b4417d8b-b43f-4c5d-b008-c52bde4d2edd"
      },
      "source": [
        "dataset.depAirport.unique()"
      ],
      "execution_count": null,
      "outputs": [
        {
          "output_type": "execute_result",
          "data": {
            "text/plain": [
              "array(['PEK', 'SHA'], dtype=object)"
            ]
          },
          "metadata": {
            "tags": []
          },
          "execution_count": 8
        }
      ]
    },
    {
      "cell_type": "code",
      "metadata": {
        "colab": {
          "base_uri": "https://localhost:8080/"
        },
        "id": "1Whtm6mRtq3V",
        "outputId": "4829c4b5-fdb9-4f4a-b5da-99a4c18d0fc6"
      },
      "source": [
        "dataset.arrAirport.unique()"
      ],
      "execution_count": null,
      "outputs": [
        {
          "output_type": "execute_result",
          "data": {
            "text/plain": [
              "array(['SHA', 'PEK'], dtype=object)"
            ]
          },
          "metadata": {
            "tags": []
          },
          "execution_count": 9
        }
      ]
    },
    {
      "cell_type": "code",
      "metadata": {
        "colab": {
          "base_uri": "https://localhost:8080/"
        },
        "id": "Vu1kD7K4tq3V",
        "outputId": "fe28351e-d95b-4eb1-9bfd-17eba9b16b92"
      },
      "source": [
        "dataset.traAirport.unique()"
      ],
      "execution_count": null,
      "outputs": [
        {
          "output_type": "execute_result",
          "data": {
            "text/plain": [
              "array([nan, 'LYA'], dtype=object)"
            ]
          },
          "metadata": {
            "tags": []
          },
          "execution_count": 10
        }
      ]
    },
    {
      "cell_type": "code",
      "metadata": {
        "colab": {
          "base_uri": "https://localhost:8080/"
        },
        "id": "Qcz6WYtrtq3W",
        "outputId": "9206dd7e-7d23-4aec-dd1a-12b8cf6d9e24"
      },
      "source": [
        "dataset.cabinClass.unique()"
      ],
      "execution_count": null,
      "outputs": [
        {
          "output_type": "execute_result",
          "data": {
            "text/plain": [
              "array(['C', 'F', 'Y'], dtype=object)"
            ]
          },
          "metadata": {
            "tags": []
          },
          "execution_count": 11
        }
      ]
    },
    {
      "cell_type": "code",
      "metadata": {
        "colab": {
          "base_uri": "https://localhost:8080/"
        },
        "id": "mjenyR3xtq3W",
        "outputId": "c4993935-18e2-4267-c482-b0aa09ae78ad"
      },
      "source": [
        "dataset.priceClass.unique()"
      ],
      "execution_count": null,
      "outputs": [
        {
          "output_type": "execute_result",
          "data": {
            "text/plain": [
              "array(['C', 'I', 'J', 'R', 'D', 'Z', 'Q', 'A', 'F', 'P', 'U', 'T', 'Y',\n",
              "       'S', 'W', 'L', 'S1', 'V', 'B', 'M', 'G', 'H', 'K', 'E', 'N', 'X',\n",
              "       'M1', 'BZ', 'XC', 'MC', 'NZ', 'VZ'], dtype=object)"
            ]
          },
          "metadata": {
            "tags": []
          },
          "execution_count": 12
        }
      ]
    },
    {
      "cell_type": "markdown",
      "metadata": {
        "id": "ofF7jZMVtq3X"
      },
      "source": [
        "# Checking the missing values"
      ]
    },
    {
      "cell_type": "code",
      "metadata": {
        "colab": {
          "base_uri": "https://localhost:8080/"
        },
        "id": "DrRILn4mtq3Y",
        "outputId": "9a67f819-27fb-400e-f2ed-407d296ee3db"
      },
      "source": [
        "#This will check the missing values percentage in columns \n",
        "features_with_na=[features for features in dataset.columns if dataset[features].isnull().sum()>1]\n",
        "for feature in features_with_na:\n",
        "    print(feature, np.round(dataset[feature].isnull().mean()*100, 4),  ' % missing values')"
      ],
      "execution_count": null,
      "outputs": [
        {
          "output_type": "stream",
          "text": [
            "traAirport 98.0909  % missing values\n"
          ],
          "name": "stdout"
        }
      ]
    },
    {
      "cell_type": "code",
      "metadata": {
        "colab": {
          "base_uri": "https://localhost:8080/",
          "height": 292
        },
        "id": "RqMCQhZBtq3Z",
        "outputId": "6fda6f82-71f3-41a3-81c9-ceb474cdb97b"
      },
      "source": [
        "#This will check the importance of missing values\n",
        "for feature in features_with_na:\n",
        "    data = dataset.copy()\n",
        "    \n",
        "    data[feature] = np.where(data[feature].isnull(),0,1)\n",
        "    data.groupby(feature)['price'].mean().plot.bar()\n",
        "    plt.title(feature)\n",
        "    plt.show()"
      ],
      "execution_count": null,
      "outputs": [
        {
          "output_type": "display_data",
          "data": {
            "image/png": "[encoded data removed]",
            "text/plain": [
              "<Figure size 432x288 with 1 Axes>"
            ]
          },
          "metadata": {
            "tags": []
          }
        }
      ]
    },
    {
      "cell_type": "markdown",
      "metadata": {
        "id": "jxuZ0Lmmtq3a"
      },
      "source": [
        "# Data description"
      ]
    },
    {
      "cell_type": "code",
      "metadata": {
        "colab": {
          "base_uri": "https://localhost:8080/",
          "height": 221
        },
        "id": "COLTJLq1tq3a",
        "outputId": "57f47da8-f77d-4b10-8e4d-73bb8076c128"
      },
      "source": [
        "numerical_features = [feature for feature in dataset.columns if dataset[feature].dtypes != 'O']   \n",
        "print('Number of numerical variables: ', len(numerical_features))\n",
        "dataset[numerical_features].head()"
      ],
      "execution_count": null,
      "outputs": [
        {
          "output_type": "stream",
          "text": [
            "Number of numerical variables:  4\n"
          ],
          "name": "stdout"
        },
        {
          "output_type": "execute_result",
          "data": {
            "text/html": [
              "<div>\n",
              "<style scoped>\n",
              "    .dataframe tbody tr th:only-of-type {\n",
              "        vertical-align: middle;\n",
              "    }\n",
              "\n",
              "    .dataframe tbody tr th {\n",
              "        vertical-align: top;\n",
              "    }\n",
              "\n",
              "    .dataframe thead th {\n",
              "        text-align: right;\n",
              "    }\n",
              "</style>\n",
              "<table border=\"1\" class=\"dataframe\">\n",
              "  <thead>\n",
              "    <tr style=\"text-align: right;\">\n",
              "      <th></th>\n",
              "      <th>ID</th>\n",
              "      <th>price</th>\n",
              "      <th>rate</th>\n",
              "      <th>dateDifference</th>\n",
              "    </tr>\n",
              "  </thead>\n",
              "  <tbody>\n",
              "    <tr>\n",
              "      <th>0</th>\n",
              "      <td>14393</td>\n",
              "      <td>1860</td>\n",
              "      <td>1.00</td>\n",
              "      <td>1</td>\n",
              "    </tr>\n",
              "    <tr>\n",
              "      <th>1</th>\n",
              "      <td>14409</td>\n",
              "      <td>1640</td>\n",
              "      <td>0.31</td>\n",
              "      <td>1</td>\n",
              "    </tr>\n",
              "    <tr>\n",
              "      <th>2</th>\n",
              "      <td>14415</td>\n",
              "      <td>5360</td>\n",
              "      <td>1.00</td>\n",
              "      <td>1</td>\n",
              "    </tr>\n",
              "    <tr>\n",
              "      <th>3</th>\n",
              "      <td>14429</td>\n",
              "      <td>1635</td>\n",
              "      <td>0.29</td>\n",
              "      <td>1</td>\n",
              "    </tr>\n",
              "    <tr>\n",
              "      <th>4</th>\n",
              "      <td>14431</td>\n",
              "      <td>1640</td>\n",
              "      <td>0.29</td>\n",
              "      <td>1</td>\n",
              "    </tr>\n",
              "  </tbody>\n",
              "</table>\n",
              "</div>"
            ],
            "text/plain": [
              "      ID  price  rate  dateDifference\n",
              "0  14393   1860  1.00               1\n",
              "1  14409   1640  0.31               1\n",
              "2  14415   5360  1.00               1\n",
              "3  14429   1635  0.29               1\n",
              "4  14431   1640  0.29               1"
            ]
          },
          "metadata": {
            "tags": []
          },
          "execution_count": 15
        }
      ]
    },
    {
      "cell_type": "code",
      "metadata": {
        "colab": {
          "base_uri": "https://localhost:8080/",
          "height": 297
        },
        "id": "W339cWeptq3b",
        "outputId": "a89b3c67-3caf-4e9e-d0a1-f2da13775857"
      },
      "source": [
        "dataset.describe()"
      ],
      "execution_count": null,
      "outputs": [
        {
          "output_type": "execute_result",
          "data": {
            "text/html": [
              "<div>\n",
              "<style scoped>\n",
              "    .dataframe tbody tr th:only-of-type {\n",
              "        vertical-align: middle;\n",
              "    }\n",
              "\n",
              "    .dataframe tbody tr th {\n",
              "        vertical-align: top;\n",
              "    }\n",
              "\n",
              "    .dataframe thead th {\n",
              "        text-align: right;\n",
              "    }\n",
              "</style>\n",
              "<table border=\"1\" class=\"dataframe\">\n",
              "  <thead>\n",
              "    <tr style=\"text-align: right;\">\n",
              "      <th></th>\n",
              "      <th>ID</th>\n",
              "      <th>price</th>\n",
              "      <th>rate</th>\n",
              "      <th>dateDifference</th>\n",
              "    </tr>\n",
              "  </thead>\n",
              "  <tbody>\n",
              "    <tr>\n",
              "      <th>count</th>\n",
              "      <td>5.689170e+05</td>\n",
              "      <td>568917.000000</td>\n",
              "      <td>568917.000000</td>\n",
              "      <td>568917.000000</td>\n",
              "    </tr>\n",
              "    <tr>\n",
              "      <th>mean</th>\n",
              "      <td>3.709192e+07</td>\n",
              "      <td>2203.161693</td>\n",
              "      <td>0.768114</td>\n",
              "      <td>6.586815</td>\n",
              "    </tr>\n",
              "    <tr>\n",
              "      <th>std</th>\n",
              "      <td>2.292971e+07</td>\n",
              "      <td>1747.347610</td>\n",
              "      <td>0.250103</td>\n",
              "      <td>7.407127</td>\n",
              "    </tr>\n",
              "    <tr>\n",
              "      <th>min</th>\n",
              "      <td>3.149000e+03</td>\n",
              "      <td>235.000000</td>\n",
              "      <td>0.000000</td>\n",
              "      <td>-1.000000</td>\n",
              "    </tr>\n",
              "    <tr>\n",
              "      <th>25%</th>\n",
              "      <td>1.747548e+07</td>\n",
              "      <td>1010.000000</td>\n",
              "      <td>0.530000</td>\n",
              "      <td>2.000000</td>\n",
              "    </tr>\n",
              "    <tr>\n",
              "      <th>50%</th>\n",
              "      <td>3.573651e+07</td>\n",
              "      <td>1490.000000</td>\n",
              "      <td>0.860000</td>\n",
              "      <td>5.000000</td>\n",
              "    </tr>\n",
              "    <tr>\n",
              "      <th>75%</th>\n",
              "      <td>5.574632e+07</td>\n",
              "      <td>2980.000000</td>\n",
              "      <td>1.000000</td>\n",
              "      <td>7.000000</td>\n",
              "    </tr>\n",
              "    <tr>\n",
              "      <th>max</th>\n",
              "      <td>8.016500e+07</td>\n",
              "      <td>6410.000000</td>\n",
              "      <td>1.000000</td>\n",
              "      <td>30.000000</td>\n",
              "    </tr>\n",
              "  </tbody>\n",
              "</table>\n",
              "</div>"
            ],
            "text/plain": [
              "                 ID          price           rate  dateDifference\n",
              "count  5.689170e+05  568917.000000  568917.000000   568917.000000\n",
              "mean   3.709192e+07    2203.161693       0.768114        6.586815\n",
              "std    2.292971e+07    1747.347610       0.250103        7.407127\n",
              "min    3.149000e+03     235.000000       0.000000       -1.000000\n",
              "25%    1.747548e+07    1010.000000       0.530000        2.000000\n",
              "50%    3.573651e+07    1490.000000       0.860000        5.000000\n",
              "75%    5.574632e+07    2980.000000       1.000000        7.000000\n",
              "max    8.016500e+07    6410.000000       1.000000       30.000000"
            ]
          },
          "metadata": {
            "tags": []
          },
          "execution_count": 16
        }
      ]
    },
    {
      "cell_type": "code",
      "metadata": {
        "id": "0iB3Wq_gtq3c"
      },
      "source": [
        ""
      ],
      "execution_count": null,
      "outputs": []
    },
    {
      "cell_type": "markdown",
      "metadata": {
        "id": "mbsfWmFftq3c"
      },
      "source": [
        "# Adding some columns of interest"
      ]
    },
    {
      "cell_type": "code",
      "metadata": {
        "id": "89Ms8Egktq3c"
      },
      "source": [
        "# Adding a columne named journey,for depAirport 'PEK' we are treating as onward journey and putting 0 in the column value,\n",
        "#for depAirport 'SHA' we are treating as return journey and putting 1 in the column value.\n",
        "dataset['journey'] = np.where(dataset['depAirport']=='PEK',0,1)"
      ],
      "execution_count": null,
      "outputs": []
    },
    {
      "cell_type": "code",
      "metadata": {
        "id": "ukZcztZLtq3d"
      },
      "source": [
        "#Adding a column named indirectFlight, if it is a direct flight then putting 0 in the column value else 1.\n",
        "dataset['indirectFlight'] = np.where(dataset['traAirport']=='LYA',1,0)"
      ],
      "execution_count": null,
      "outputs": []
    },
    {
      "cell_type": "code",
      "metadata": {
        "id": "gLR6Wpoptq3d"
      },
      "source": [
        "#extracting departure year,month,date,day,hour from departureDate\n",
        "dataset['depYear'] = pd.DatetimeIndex(dataset['departureDate']).year\n",
        "dataset['depMonth'] = pd.DatetimeIndex(dataset['departureDate']).month\n",
        "dataset['depDate'] = pd.DatetimeIndex(dataset['departureDate']).day\n",
        "dataset['depDay'] = pd.DatetimeIndex(dataset['departureDate']).dayofweek\n",
        "dataset['depHour'] = pd.DatetimeIndex(dataset['departureDate']).hour"
      ],
      "execution_count": null,
      "outputs": []
    },
    {
      "cell_type": "code",
      "metadata": {
        "id": "CVJLBFZptq3d"
      },
      "source": [
        "#extracting create year,month,date,day,hour from createDate\n",
        "dataset['creYear'] = pd.DatetimeIndex(dataset['createDate']).year\n",
        "dataset['creMonth'] = pd.DatetimeIndex(dataset['createDate']).month\n",
        "dataset['creDate'] = pd.DatetimeIndex(dataset['createDate']).day\n",
        "dataset['creDay'] = pd.DatetimeIndex(dataset['createDate']).dayofweek\n",
        "dataset['creHour'] = pd.DatetimeIndex(dataset['createDate']).hour"
      ],
      "execution_count": null,
      "outputs": []
    },
    {
      "cell_type": "code",
      "metadata": {
        "id": "2DzY9Ohdtq3e"
      },
      "source": [
        "#converting object type into datetime type\n",
        "dataset['departureDate'] = pd.to_datetime(dataset['departureDate'])\n",
        "dataset['arrivalDate'] = pd.to_datetime(dataset['arrivalDate'])\n",
        "dataset['createDate'] = pd.to_datetime(dataset['createDate'])"
      ],
      "execution_count": null,
      "outputs": []
    },
    {
      "cell_type": "code",
      "metadata": {
        "id": "ue3Ip0Q1tq3g"
      },
      "source": [
        "#Adding a column named flightDuration which is the difference between departure and arrival\n",
        "dataset['flightDuration']= (dataset['arrivalDate']-dataset['departureDate']).astype('timedelta64[m]')"
      ],
      "execution_count": null,
      "outputs": []
    },
    {
      "cell_type": "markdown",
      "metadata": {
        "id": "7raUu_-Qtq3h"
      },
      "source": [
        "# Dropping rows with invalid value"
      ]
    },
    {
      "cell_type": "code",
      "metadata": {
        "colab": {
          "base_uri": "https://localhost:8080/"
        },
        "id": "Jqzu4j7Utq3h",
        "outputId": "81d2f61e-8bd7-4d1d-f04d-a0dd4a110947"
      },
      "source": [
        "#removing rows if it has booking after departure\n",
        "dataset =  dataset[((dataset['departureDate']-dataset['createDate'])/np.timedelta64(1,'s'))>0]\n",
        "dataset.shape"
      ],
      "execution_count": null,
      "outputs": [
        {
          "output_type": "execute_result",
          "data": {
            "text/plain": [
              "(568742, 27)"
            ]
          },
          "metadata": {
            "tags": []
          },
          "execution_count": 23
        }
      ]
    },
    {
      "cell_type": "code",
      "metadata": {
        "id": "Rglx-ic5tq3i"
      },
      "source": [
        "dataset_validRowValues = dataset[dataset.dateDifference >=0]"
      ],
      "execution_count": null,
      "outputs": []
    },
    {
      "cell_type": "code",
      "metadata": {
        "colab": {
          "base_uri": "https://localhost:8080/"
        },
        "id": "HYRxTP0otq3i",
        "outputId": "44df09cc-6e74-4c4e-e363-0e936d243ba8"
      },
      "source": [
        "dataset.price.mean()"
      ],
      "execution_count": null,
      "outputs": [
        {
          "output_type": "execute_result",
          "data": {
            "text/plain": [
              "2203.121142802888"
            ]
          },
          "metadata": {
            "tags": []
          },
          "execution_count": 25
        }
      ]
    },
    {
      "cell_type": "code",
      "metadata": {
        "colab": {
          "base_uri": "https://localhost:8080/"
        },
        "id": "xnka2mwBtq3j",
        "outputId": "a3d02226-b17a-4207-bfd5-e68916e21ca9"
      },
      "source": [
        "dataset_validRowValues.price.mean()"
      ],
      "execution_count": null,
      "outputs": [
        {
          "output_type": "execute_result",
          "data": {
            "text/plain": [
              "2203.121142802888"
            ]
          },
          "metadata": {
            "tags": []
          },
          "execution_count": 26
        }
      ]
    },
    {
      "cell_type": "code",
      "metadata": {
        "id": "mi_ntQeLtq3j"
      },
      "source": [
        ""
      ],
      "execution_count": null,
      "outputs": []
    },
    {
      "cell_type": "code",
      "metadata": {
        "id": "F5swan4vtq3j"
      },
      "source": [
        "dataset = dataset_validRowValues"
      ],
      "execution_count": null,
      "outputs": []
    },
    {
      "cell_type": "code",
      "metadata": {
        "colab": {
          "base_uri": "https://localhost:8080/"
        },
        "id": "m3zVnJUatq3k",
        "outputId": "f36f6d74-5031-4a38-800b-c2f17fc3e6f6"
      },
      "source": [
        "dataset.shape"
      ],
      "execution_count": null,
      "outputs": [
        {
          "output_type": "execute_result",
          "data": {
            "text/plain": [
              "(568742, 27)"
            ]
          },
          "metadata": {
            "tags": []
          },
          "execution_count": 28
        }
      ]
    },
    {
      "cell_type": "code",
      "metadata": {
        "id": "Dhh90aevtq3l"
      },
      "source": [
        ""
      ],
      "execution_count": null,
      "outputs": []
    },
    {
      "cell_type": "code",
      "metadata": {
        "colab": {
          "base_uri": "https://localhost:8080/",
          "height": 309
        },
        "id": "uN18sZzBtq3l",
        "outputId": "4ea37e37-a4e9-420b-fd74-a41399d7349c"
      },
      "source": [
        "dataset.head()"
      ],
      "execution_count": null,
      "outputs": [
        {
          "output_type": "execute_result",
          "data": {
            "text/html": [
              "<div>\n",
              "<style scoped>\n",
              "    .dataframe tbody tr th:only-of-type {\n",
              "        vertical-align: middle;\n",
              "    }\n",
              "\n",
              "    .dataframe tbody tr th {\n",
              "        vertical-align: top;\n",
              "    }\n",
              "\n",
              "    .dataframe thead th {\n",
              "        text-align: right;\n",
              "    }\n",
              "</style>\n",
              "<table border=\"1\" class=\"dataframe\">\n",
              "  <thead>\n",
              "    <tr style=\"text-align: right;\">\n",
              "      <th></th>\n",
              "      <th>ID</th>\n",
              "      <th>flightNumber</th>\n",
              "      <th>craftTypeCode</th>\n",
              "      <th>depAirport</th>\n",
              "      <th>traAirport</th>\n",
              "      <th>arrAirport</th>\n",
              "      <th>departureDate</th>\n",
              "      <th>arrivalDate</th>\n",
              "      <th>cabinClass</th>\n",
              "      <th>priceClass</th>\n",
              "      <th>price</th>\n",
              "      <th>rate</th>\n",
              "      <th>createDate</th>\n",
              "      <th>dateDifference</th>\n",
              "      <th>journey</th>\n",
              "      <th>indirectFlight</th>\n",
              "      <th>depYear</th>\n",
              "      <th>depMonth</th>\n",
              "      <th>depDate</th>\n",
              "      <th>depDay</th>\n",
              "      <th>depHour</th>\n",
              "      <th>creYear</th>\n",
              "      <th>creMonth</th>\n",
              "      <th>creDate</th>\n",
              "      <th>creDay</th>\n",
              "      <th>creHour</th>\n",
              "      <th>flightDuration</th>\n",
              "    </tr>\n",
              "  </thead>\n",
              "  <tbody>\n",
              "    <tr>\n",
              "      <th>0</th>\n",
              "      <td>14393</td>\n",
              "      <td>HO1252</td>\n",
              "      <td>320</td>\n",
              "      <td>PEK</td>\n",
              "      <td>NaN</td>\n",
              "      <td>SHA</td>\n",
              "      <td>2019-01-04 06:35:00</td>\n",
              "      <td>2019-01-04 08:55:00</td>\n",
              "      <td>C</td>\n",
              "      <td>C</td>\n",
              "      <td>1860</td>\n",
              "      <td>1.00</td>\n",
              "      <td>2019-01-03 14:26:15</td>\n",
              "      <td>1</td>\n",
              "      <td>0</td>\n",
              "      <td>0</td>\n",
              "      <td>2019</td>\n",
              "      <td>1</td>\n",
              "      <td>4</td>\n",
              "      <td>4</td>\n",
              "      <td>6</td>\n",
              "      <td>2019</td>\n",
              "      <td>1</td>\n",
              "      <td>3</td>\n",
              "      <td>3</td>\n",
              "      <td>14</td>\n",
              "      <td>140.0</td>\n",
              "    </tr>\n",
              "    <tr>\n",
              "      <th>1</th>\n",
              "      <td>14409</td>\n",
              "      <td>MU5138</td>\n",
              "      <td>33L</td>\n",
              "      <td>PEK</td>\n",
              "      <td>NaN</td>\n",
              "      <td>SHA</td>\n",
              "      <td>2019-01-04 07:00:00</td>\n",
              "      <td>2019-01-04 09:15:00</td>\n",
              "      <td>C</td>\n",
              "      <td>I</td>\n",
              "      <td>1640</td>\n",
              "      <td>0.31</td>\n",
              "      <td>2019-01-03 14:26:15</td>\n",
              "      <td>1</td>\n",
              "      <td>0</td>\n",
              "      <td>0</td>\n",
              "      <td>2019</td>\n",
              "      <td>1</td>\n",
              "      <td>4</td>\n",
              "      <td>4</td>\n",
              "      <td>7</td>\n",
              "      <td>2019</td>\n",
              "      <td>1</td>\n",
              "      <td>3</td>\n",
              "      <td>3</td>\n",
              "      <td>14</td>\n",
              "      <td>135.0</td>\n",
              "    </tr>\n",
              "    <tr>\n",
              "      <th>2</th>\n",
              "      <td>14415</td>\n",
              "      <td>MU5138</td>\n",
              "      <td>33L</td>\n",
              "      <td>PEK</td>\n",
              "      <td>NaN</td>\n",
              "      <td>SHA</td>\n",
              "      <td>2019-01-04 07:00:00</td>\n",
              "      <td>2019-01-04 09:15:00</td>\n",
              "      <td>C</td>\n",
              "      <td>J</td>\n",
              "      <td>5360</td>\n",
              "      <td>1.00</td>\n",
              "      <td>2019-01-03 14:26:15</td>\n",
              "      <td>1</td>\n",
              "      <td>0</td>\n",
              "      <td>0</td>\n",
              "      <td>2019</td>\n",
              "      <td>1</td>\n",
              "      <td>4</td>\n",
              "      <td>4</td>\n",
              "      <td>7</td>\n",
              "      <td>2019</td>\n",
              "      <td>1</td>\n",
              "      <td>3</td>\n",
              "      <td>3</td>\n",
              "      <td>14</td>\n",
              "      <td>135.0</td>\n",
              "    </tr>\n",
              "    <tr>\n",
              "      <th>3</th>\n",
              "      <td>14429</td>\n",
              "      <td>HU7605</td>\n",
              "      <td>350</td>\n",
              "      <td>PEK</td>\n",
              "      <td>NaN</td>\n",
              "      <td>SHA</td>\n",
              "      <td>2019-01-04 07:20:00</td>\n",
              "      <td>2019-01-04 09:35:00</td>\n",
              "      <td>C</td>\n",
              "      <td>I</td>\n",
              "      <td>1635</td>\n",
              "      <td>0.29</td>\n",
              "      <td>2019-01-03 14:26:15</td>\n",
              "      <td>1</td>\n",
              "      <td>0</td>\n",
              "      <td>0</td>\n",
              "      <td>2019</td>\n",
              "      <td>1</td>\n",
              "      <td>4</td>\n",
              "      <td>4</td>\n",
              "      <td>7</td>\n",
              "      <td>2019</td>\n",
              "      <td>1</td>\n",
              "      <td>3</td>\n",
              "      <td>3</td>\n",
              "      <td>14</td>\n",
              "      <td>135.0</td>\n",
              "    </tr>\n",
              "    <tr>\n",
              "      <th>4</th>\n",
              "      <td>14431</td>\n",
              "      <td>HU7605</td>\n",
              "      <td>350</td>\n",
              "      <td>PEK</td>\n",
              "      <td>NaN</td>\n",
              "      <td>SHA</td>\n",
              "      <td>2019-01-04 07:20:00</td>\n",
              "      <td>2019-01-04 09:35:00</td>\n",
              "      <td>C</td>\n",
              "      <td>I</td>\n",
              "      <td>1640</td>\n",
              "      <td>0.29</td>\n",
              "      <td>2019-01-03 14:26:15</td>\n",
              "      <td>1</td>\n",
              "      <td>0</td>\n",
              "      <td>0</td>\n",
              "      <td>2019</td>\n",
              "      <td>1</td>\n",
              "      <td>4</td>\n",
              "      <td>4</td>\n",
              "      <td>7</td>\n",
              "      <td>2019</td>\n",
              "      <td>1</td>\n",
              "      <td>3</td>\n",
              "      <td>3</td>\n",
              "      <td>14</td>\n",
              "      <td>135.0</td>\n",
              "    </tr>\n",
              "  </tbody>\n",
              "</table>\n",
              "</div>"
            ],
            "text/plain": [
              "      ID flightNumber craftTypeCode depAirport traAirport arrAirport  \\\n",
              "0  14393       HO1252           320        PEK        NaN        SHA   \n",
              "1  14409       MU5138           33L        PEK        NaN        SHA   \n",
              "2  14415       MU5138           33L        PEK        NaN        SHA   \n",
              "3  14429       HU7605           350        PEK        NaN        SHA   \n",
              "4  14431       HU7605           350        PEK        NaN        SHA   \n",
              "\n",
              "        departureDate         arrivalDate cabinClass priceClass  price  rate  \\\n",
              "0 2019-01-04 06:35:00 2019-01-04 08:55:00          C          C   1860  1.00   \n",
              "1 2019-01-04 07:00:00 2019-01-04 09:15:00          C          I   1640  0.31   \n",
              "2 2019-01-04 07:00:00 2019-01-04 09:15:00          C          J   5360  1.00   \n",
              "3 2019-01-04 07:20:00 2019-01-04 09:35:00          C          I   1635  0.29   \n",
              "4 2019-01-04 07:20:00 2019-01-04 09:35:00          C          I   1640  0.29   \n",
              "\n",
              "           createDate  dateDifference  journey  indirectFlight  depYear  \\\n",
              "0 2019-01-03 14:26:15               1        0               0     2019   \n",
              "1 2019-01-03 14:26:15               1        0               0     2019   \n",
              "2 2019-01-03 14:26:15               1        0               0     2019   \n",
              "3 2019-01-03 14:26:15               1        0               0     2019   \n",
              "4 2019-01-03 14:26:15               1        0               0     2019   \n",
              "\n",
              "   depMonth  depDate  depDay  depHour  creYear  creMonth  creDate  creDay  \\\n",
              "0         1        4       4        6     2019         1        3       3   \n",
              "1         1        4       4        7     2019         1        3       3   \n",
              "2         1        4       4        7     2019         1        3       3   \n",
              "3         1        4       4        7     2019         1        3       3   \n",
              "4         1        4       4        7     2019         1        3       3   \n",
              "\n",
              "   creHour  flightDuration  \n",
              "0       14           140.0  \n",
              "1       14           135.0  \n",
              "2       14           135.0  \n",
              "3       14           135.0  \n",
              "4       14           135.0  "
            ]
          },
          "metadata": {
            "tags": []
          },
          "execution_count": 29
        }
      ]
    },
    {
      "cell_type": "markdown",
      "metadata": {
        "id": "vMnX6jPOtq3l"
      },
      "source": [
        "# Dropping some unnecessary columns"
      ]
    },
    {
      "cell_type": "code",
      "metadata": {
        "id": "MNT8mZtDtq3m"
      },
      "source": [
        "dataset = dataset.drop(['ID','depAirport','traAirport','arrAirport','departureDate','arrivalDate','createDate','depYear','creYear'],axis = 1)"
      ],
      "execution_count": null,
      "outputs": []
    },
    {
      "cell_type": "code",
      "metadata": {
        "colab": {
          "base_uri": "https://localhost:8080/",
          "height": 224
        },
        "id": "q1hkjyDctq3m",
        "outputId": "359f89c4-947c-4b7c-a41c-3db63fdf2981"
      },
      "source": [
        "dataset.head()"
      ],
      "execution_count": null,
      "outputs": [
        {
          "output_type": "execute_result",
          "data": {
            "text/html": [
              "<div>\n",
              "<style scoped>\n",
              "    .dataframe tbody tr th:only-of-type {\n",
              "        vertical-align: middle;\n",
              "    }\n",
              "\n",
              "    .dataframe tbody tr th {\n",
              "        vertical-align: top;\n",
              "    }\n",
              "\n",
              "    .dataframe thead th {\n",
              "        text-align: right;\n",
              "    }\n",
              "</style>\n",
              "<table border=\"1\" class=\"dataframe\">\n",
              "  <thead>\n",
              "    <tr style=\"text-align: right;\">\n",
              "      <th></th>\n",
              "      <th>flightNumber</th>\n",
              "      <th>craftTypeCode</th>\n",
              "      <th>cabinClass</th>\n",
              "      <th>priceClass</th>\n",
              "      <th>price</th>\n",
              "      <th>rate</th>\n",
              "      <th>dateDifference</th>\n",
              "      <th>journey</th>\n",
              "      <th>indirectFlight</th>\n",
              "      <th>depMonth</th>\n",
              "      <th>depDate</th>\n",
              "      <th>depDay</th>\n",
              "      <th>depHour</th>\n",
              "      <th>creMonth</th>\n",
              "      <th>creDate</th>\n",
              "      <th>creDay</th>\n",
              "      <th>creHour</th>\n",
              "      <th>flightDuration</th>\n",
              "    </tr>\n",
              "  </thead>\n",
              "  <tbody>\n",
              "    <tr>\n",
              "      <th>0</th>\n",
              "      <td>HO1252</td>\n",
              "      <td>320</td>\n",
              "      <td>C</td>\n",
              "      <td>C</td>\n",
              "      <td>1860</td>\n",
              "      <td>1.00</td>\n",
              "      <td>1</td>\n",
              "      <td>0</td>\n",
              "      <td>0</td>\n",
              "      <td>1</td>\n",
              "      <td>4</td>\n",
              "      <td>4</td>\n",
              "      <td>6</td>\n",
              "      <td>1</td>\n",
              "      <td>3</td>\n",
              "      <td>3</td>\n",
              "      <td>14</td>\n",
              "      <td>140.0</td>\n",
              "    </tr>\n",
              "    <tr>\n",
              "      <th>1</th>\n",
              "      <td>MU5138</td>\n",
              "      <td>33L</td>\n",
              "      <td>C</td>\n",
              "      <td>I</td>\n",
              "      <td>1640</td>\n",
              "      <td>0.31</td>\n",
              "      <td>1</td>\n",
              "      <td>0</td>\n",
              "      <td>0</td>\n",
              "      <td>1</td>\n",
              "      <td>4</td>\n",
              "      <td>4</td>\n",
              "      <td>7</td>\n",
              "      <td>1</td>\n",
              "      <td>3</td>\n",
              "      <td>3</td>\n",
              "      <td>14</td>\n",
              "      <td>135.0</td>\n",
              "    </tr>\n",
              "    <tr>\n",
              "      <th>2</th>\n",
              "      <td>MU5138</td>\n",
              "      <td>33L</td>\n",
              "      <td>C</td>\n",
              "      <td>J</td>\n",
              "      <td>5360</td>\n",
              "      <td>1.00</td>\n",
              "      <td>1</td>\n",
              "      <td>0</td>\n",
              "      <td>0</td>\n",
              "      <td>1</td>\n",
              "      <td>4</td>\n",
              "      <td>4</td>\n",
              "      <td>7</td>\n",
              "      <td>1</td>\n",
              "      <td>3</td>\n",
              "      <td>3</td>\n",
              "      <td>14</td>\n",
              "      <td>135.0</td>\n",
              "    </tr>\n",
              "    <tr>\n",
              "      <th>3</th>\n",
              "      <td>HU7605</td>\n",
              "      <td>350</td>\n",
              "      <td>C</td>\n",
              "      <td>I</td>\n",
              "      <td>1635</td>\n",
              "      <td>0.29</td>\n",
              "      <td>1</td>\n",
              "      <td>0</td>\n",
              "      <td>0</td>\n",
              "      <td>1</td>\n",
              "      <td>4</td>\n",
              "      <td>4</td>\n",
              "      <td>7</td>\n",
              "      <td>1</td>\n",
              "      <td>3</td>\n",
              "      <td>3</td>\n",
              "      <td>14</td>\n",
              "      <td>135.0</td>\n",
              "    </tr>\n",
              "    <tr>\n",
              "      <th>4</th>\n",
              "      <td>HU7605</td>\n",
              "      <td>350</td>\n",
              "      <td>C</td>\n",
              "      <td>I</td>\n",
              "      <td>1640</td>\n",
              "      <td>0.29</td>\n",
              "      <td>1</td>\n",
              "      <td>0</td>\n",
              "      <td>0</td>\n",
              "      <td>1</td>\n",
              "      <td>4</td>\n",
              "      <td>4</td>\n",
              "      <td>7</td>\n",
              "      <td>1</td>\n",
              "      <td>3</td>\n",
              "      <td>3</td>\n",
              "      <td>14</td>\n",
              "      <td>135.0</td>\n",
              "    </tr>\n",
              "  </tbody>\n",
              "</table>\n",
              "</div>"
            ],
            "text/plain": [
              "  flightNumber craftTypeCode cabinClass priceClass  price  rate  \\\n",
              "0       HO1252           320          C          C   1860  1.00   \n",
              "1       MU5138           33L          C          I   1640  0.31   \n",
              "2       MU5138           33L          C          J   5360  1.00   \n",
              "3       HU7605           350          C          I   1635  0.29   \n",
              "4       HU7605           350          C          I   1640  0.29   \n",
              "\n",
              "   dateDifference  journey  indirectFlight  depMonth  depDate  depDay  \\\n",
              "0               1        0               0         1        4       4   \n",
              "1               1        0               0         1        4       4   \n",
              "2               1        0               0         1        4       4   \n",
              "3               1        0               0         1        4       4   \n",
              "4               1        0               0         1        4       4   \n",
              "\n",
              "   depHour  creMonth  creDate  creDay  creHour  flightDuration  \n",
              "0        6         1        3       3       14           140.0  \n",
              "1        7         1        3       3       14           135.0  \n",
              "2        7         1        3       3       14           135.0  \n",
              "3        7         1        3       3       14           135.0  \n",
              "4        7         1        3       3       14           135.0  "
            ]
          },
          "metadata": {
            "tags": []
          },
          "execution_count": 31
        }
      ]
    },
    {
      "cell_type": "markdown",
      "metadata": {
        "id": "zWaULFzotq3m"
      },
      "source": [
        "# Adding an attribute named airline"
      ]
    },
    {
      "cell_type": "code",
      "metadata": {
        "id": "1XtDFHe7tq3n"
      },
      "source": [
        "dataset['airline'] = dataset['flightNumber'].astype(str).str[0:2]"
      ],
      "execution_count": null,
      "outputs": []
    },
    {
      "cell_type": "code",
      "metadata": {
        "colab": {
          "base_uri": "https://localhost:8080/",
          "height": 224
        },
        "id": "8500hP0otq3n",
        "outputId": "a847d477-1e9a-4991-eea2-de7377612628"
      },
      "source": [
        "dataset.head()"
      ],
      "execution_count": null,
      "outputs": [
        {
          "output_type": "execute_result",
          "data": {
            "text/html": [
              "<div>\n",
              "<style scoped>\n",
              "    .dataframe tbody tr th:only-of-type {\n",
              "        vertical-align: middle;\n",
              "    }\n",
              "\n",
              "    .dataframe tbody tr th {\n",
              "        vertical-align: top;\n",
              "    }\n",
              "\n",
              "    .dataframe thead th {\n",
              "        text-align: right;\n",
              "    }\n",
              "</style>\n",
              "<table border=\"1\" class=\"dataframe\">\n",
              "  <thead>\n",
              "    <tr style=\"text-align: right;\">\n",
              "      <th></th>\n",
              "      <th>flightNumber</th>\n",
              "      <th>craftTypeCode</th>\n",
              "      <th>cabinClass</th>\n",
              "      <th>priceClass</th>\n",
              "      <th>price</th>\n",
              "      <th>rate</th>\n",
              "      <th>dateDifference</th>\n",
              "      <th>journey</th>\n",
              "      <th>indirectFlight</th>\n",
              "      <th>depMonth</th>\n",
              "      <th>depDate</th>\n",
              "      <th>depDay</th>\n",
              "      <th>depHour</th>\n",
              "      <th>creMonth</th>\n",
              "      <th>creDate</th>\n",
              "      <th>creDay</th>\n",
              "      <th>creHour</th>\n",
              "      <th>flightDuration</th>\n",
              "      <th>airline</th>\n",
              "    </tr>\n",
              "  </thead>\n",
              "  <tbody>\n",
              "    <tr>\n",
              "      <th>0</th>\n",
              "      <td>HO1252</td>\n",
              "      <td>320</td>\n",
              "      <td>C</td>\n",
              "      <td>C</td>\n",
              "      <td>1860</td>\n",
              "      <td>1.00</td>\n",
              "      <td>1</td>\n",
              "      <td>0</td>\n",
              "      <td>0</td>\n",
              "      <td>1</td>\n",
              "      <td>4</td>\n",
              "      <td>4</td>\n",
              "      <td>6</td>\n",
              "      <td>1</td>\n",
              "      <td>3</td>\n",
              "      <td>3</td>\n",
              "      <td>14</td>\n",
              "      <td>140.0</td>\n",
              "      <td>HO</td>\n",
              "    </tr>\n",
              "    <tr>\n",
              "      <th>1</th>\n",
              "      <td>MU5138</td>\n",
              "      <td>33L</td>\n",
              "      <td>C</td>\n",
              "      <td>I</td>\n",
              "      <td>1640</td>\n",
              "      <td>0.31</td>\n",
              "      <td>1</td>\n",
              "      <td>0</td>\n",
              "      <td>0</td>\n",
              "      <td>1</td>\n",
              "      <td>4</td>\n",
              "      <td>4</td>\n",
              "      <td>7</td>\n",
              "      <td>1</td>\n",
              "      <td>3</td>\n",
              "      <td>3</td>\n",
              "      <td>14</td>\n",
              "      <td>135.0</td>\n",
              "      <td>MU</td>\n",
              "    </tr>\n",
              "    <tr>\n",
              "      <th>2</th>\n",
              "      <td>MU5138</td>\n",
              "      <td>33L</td>\n",
              "      <td>C</td>\n",
              "      <td>J</td>\n",
              "      <td>5360</td>\n",
              "      <td>1.00</td>\n",
              "      <td>1</td>\n",
              "      <td>0</td>\n",
              "      <td>0</td>\n",
              "      <td>1</td>\n",
              "      <td>4</td>\n",
              "      <td>4</td>\n",
              "      <td>7</td>\n",
              "      <td>1</td>\n",
              "      <td>3</td>\n",
              "      <td>3</td>\n",
              "      <td>14</td>\n",
              "      <td>135.0</td>\n",
              "      <td>MU</td>\n",
              "    </tr>\n",
              "    <tr>\n",
              "      <th>3</th>\n",
              "      <td>HU7605</td>\n",
              "      <td>350</td>\n",
              "      <td>C</td>\n",
              "      <td>I</td>\n",
              "      <td>1635</td>\n",
              "      <td>0.29</td>\n",
              "      <td>1</td>\n",
              "      <td>0</td>\n",
              "      <td>0</td>\n",
              "      <td>1</td>\n",
              "      <td>4</td>\n",
              "      <td>4</td>\n",
              "      <td>7</td>\n",
              "      <td>1</td>\n",
              "      <td>3</td>\n",
              "      <td>3</td>\n",
              "      <td>14</td>\n",
              "      <td>135.0</td>\n",
              "      <td>HU</td>\n",
              "    </tr>\n",
              "    <tr>\n",
              "      <th>4</th>\n",
              "      <td>HU7605</td>\n",
              "      <td>350</td>\n",
              "      <td>C</td>\n",
              "      <td>I</td>\n",
              "      <td>1640</td>\n",
              "      <td>0.29</td>\n",
              "      <td>1</td>\n",
              "      <td>0</td>\n",
              "      <td>0</td>\n",
              "      <td>1</td>\n",
              "      <td>4</td>\n",
              "      <td>4</td>\n",
              "      <td>7</td>\n",
              "      <td>1</td>\n",
              "      <td>3</td>\n",
              "      <td>3</td>\n",
              "      <td>14</td>\n",
              "      <td>135.0</td>\n",
              "      <td>HU</td>\n",
              "    </tr>\n",
              "  </tbody>\n",
              "</table>\n",
              "</div>"
            ],
            "text/plain": [
              "  flightNumber craftTypeCode cabinClass priceClass  price  rate  \\\n",
              "0       HO1252           320          C          C   1860  1.00   \n",
              "1       MU5138           33L          C          I   1640  0.31   \n",
              "2       MU5138           33L          C          J   5360  1.00   \n",
              "3       HU7605           350          C          I   1635  0.29   \n",
              "4       HU7605           350          C          I   1640  0.29   \n",
              "\n",
              "   dateDifference  journey  indirectFlight  depMonth  depDate  depDay  \\\n",
              "0               1        0               0         1        4       4   \n",
              "1               1        0               0         1        4       4   \n",
              "2               1        0               0         1        4       4   \n",
              "3               1        0               0         1        4       4   \n",
              "4               1        0               0         1        4       4   \n",
              "\n",
              "   depHour  creMonth  creDate  creDay  creHour  flightDuration airline  \n",
              "0        6         1        3       3       14           140.0      HO  \n",
              "1        7         1        3       3       14           135.0      MU  \n",
              "2        7         1        3       3       14           135.0      MU  \n",
              "3        7         1        3       3       14           135.0      HU  \n",
              "4        7         1        3       3       14           135.0      HU  "
            ]
          },
          "metadata": {
            "tags": []
          },
          "execution_count": 33
        }
      ]
    },
    {
      "cell_type": "code",
      "metadata": {
        "colab": {
          "base_uri": "https://localhost:8080/"
        },
        "id": "qDm0Csiptq3o",
        "outputId": "ce37cd34-d4ca-4f9a-97c3-8eab62ab7873"
      },
      "source": [
        "dataset.airline.unique()"
      ],
      "execution_count": null,
      "outputs": [
        {
          "output_type": "execute_result",
          "data": {
            "text/plain": [
              "array(['HO', 'MU', 'HU', 'CA', 'CZ', 'FM', 'MF'], dtype=object)"
            ]
          },
          "metadata": {
            "tags": []
          },
          "execution_count": 34
        }
      ]
    },
    {
      "cell_type": "code",
      "metadata": {
        "colab": {
          "base_uri": "https://localhost:8080/",
          "height": 334
        },
        "id": "dz8RsY-Mtq3p",
        "outputId": "80a4a0b3-e2c3-421d-ee73-9a81a46d14af"
      },
      "source": [
        "sns.catplot(y = \"price\", x = \"airline\", data = dataset.sort_values(\"price\", ascending = False), kind=\"boxen\", height = 6, aspect = 3)\n",
        "plt.show()"
      ],
      "execution_count": null,
      "outputs": [
        {
          "output_type": "display_data",
          "data": {
            "image/png": "[encoded data removed]",
            "text/plain": [
              "<Figure size 1296x432 with 1 Axes>"
            ]
          },
          "metadata": {
            "tags": []
          }
        }
      ]
    },
    {
      "cell_type": "markdown",
      "metadata": {
        "id": "dyR2U8ERtq3q"
      },
      "source": [
        "# Creating dummies for airline attribute"
      ]
    },
    {
      "cell_type": "code",
      "metadata": {
        "id": "cCLVVLXdtq3q"
      },
      "source": [
        "# As airline is Nominal Categorical data we will perform OneHotEncoding\n",
        "airline = dataset[[\"airline\"]]\n",
        "airline = pd.get_dummies(airline, drop_first= True)"
      ],
      "execution_count": null,
      "outputs": []
    },
    {
      "cell_type": "code",
      "metadata": {
        "colab": {
          "base_uri": "https://localhost:8080/",
          "height": 204
        },
        "id": "THc4hNYvtq3r",
        "outputId": "543cba1b-2973-4cce-cd21-9eabb7cb77c7"
      },
      "source": [
        "airline.head()"
      ],
      "execution_count": null,
      "outputs": [
        {
          "output_type": "execute_result",
          "data": {
            "text/html": [
              "<div>\n",
              "<style scoped>\n",
              "    .dataframe tbody tr th:only-of-type {\n",
              "        vertical-align: middle;\n",
              "    }\n",
              "\n",
              "    .dataframe tbody tr th {\n",
              "        vertical-align: top;\n",
              "    }\n",
              "\n",
              "    .dataframe thead th {\n",
              "        text-align: right;\n",
              "    }\n",
              "</style>\n",
              "<table border=\"1\" class=\"dataframe\">\n",
              "  <thead>\n",
              "    <tr style=\"text-align: right;\">\n",
              "      <th></th>\n",
              "      <th>airline_CZ</th>\n",
              "      <th>airline_FM</th>\n",
              "      <th>airline_HO</th>\n",
              "      <th>airline_HU</th>\n",
              "      <th>airline_MF</th>\n",
              "      <th>airline_MU</th>\n",
              "    </tr>\n",
              "  </thead>\n",
              "  <tbody>\n",
              "    <tr>\n",
              "      <th>0</th>\n",
              "      <td>0</td>\n",
              "      <td>0</td>\n",
              "      <td>1</td>\n",
              "      <td>0</td>\n",
              "      <td>0</td>\n",
              "      <td>0</td>\n",
              "    </tr>\n",
              "    <tr>\n",
              "      <th>1</th>\n",
              "      <td>0</td>\n",
              "      <td>0</td>\n",
              "      <td>0</td>\n",
              "      <td>0</td>\n",
              "      <td>0</td>\n",
              "      <td>1</td>\n",
              "    </tr>\n",
              "    <tr>\n",
              "      <th>2</th>\n",
              "      <td>0</td>\n",
              "      <td>0</td>\n",
              "      <td>0</td>\n",
              "      <td>0</td>\n",
              "      <td>0</td>\n",
              "      <td>1</td>\n",
              "    </tr>\n",
              "    <tr>\n",
              "      <th>3</th>\n",
              "      <td>0</td>\n",
              "      <td>0</td>\n",
              "      <td>0</td>\n",
              "      <td>1</td>\n",
              "      <td>0</td>\n",
              "      <td>0</td>\n",
              "    </tr>\n",
              "    <tr>\n",
              "      <th>4</th>\n",
              "      <td>0</td>\n",
              "      <td>0</td>\n",
              "      <td>0</td>\n",
              "      <td>1</td>\n",
              "      <td>0</td>\n",
              "      <td>0</td>\n",
              "    </tr>\n",
              "  </tbody>\n",
              "</table>\n",
              "</div>"
            ],
            "text/plain": [
              "   airline_CZ  airline_FM  airline_HO  airline_HU  airline_MF  airline_MU\n",
              "0           0           0           1           0           0           0\n",
              "1           0           0           0           0           0           1\n",
              "2           0           0           0           0           0           1\n",
              "3           0           0           0           1           0           0\n",
              "4           0           0           0           1           0           0"
            ]
          },
          "metadata": {
            "tags": []
          },
          "execution_count": 37
        }
      ]
    },
    {
      "cell_type": "markdown",
      "metadata": {
        "id": "U1RJ5dnVtq3r"
      },
      "source": [
        "# Label encoding for cabinClass"
      ]
    },
    {
      "cell_type": "code",
      "metadata": {
        "colab": {
          "base_uri": "https://localhost:8080/"
        },
        "id": "e90Iej1Ktq3s",
        "outputId": "ce008798-d704-4058-8dda-e96bf47ffeac"
      },
      "source": [
        "dataset[\"cabinClass\"].value_counts()"
      ],
      "execution_count": null,
      "outputs": [
        {
          "output_type": "execute_result",
          "data": {
            "text/plain": [
              "Y    367129\n",
              "C    139272\n",
              "F     62341\n",
              "Name: cabinClass, dtype: int64"
            ]
          },
          "metadata": {
            "tags": []
          },
          "execution_count": 38
        }
      ]
    },
    {
      "cell_type": "code",
      "metadata": {
        "colab": {
          "base_uri": "https://localhost:8080/",
          "height": 334
        },
        "id": "COVqZgs3tq3s",
        "outputId": "a141aba3-df76-4d36-9304-254ac1129edb"
      },
      "source": [
        "sns.catplot(y = \"price\", x = \"cabinClass\", data = dataset.sort_values(\"price\", ascending = False), kind=\"boxen\", height = 6, aspect = 3)\n",
        "plt.show()"
      ],
      "execution_count": null,
      "outputs": [
        {
          "output_type": "display_data",
          "data": {
            "image/png": "[encoded data removed]",
            "text/plain": [
              "<Figure size 1296x432 with 1 Axes>"
            ]
          },
          "metadata": {
            "tags": []
          }
        }
      ]
    },
    {
      "cell_type": "code",
      "metadata": {
        "id": "nLHc3RgPtq3t"
      },
      "source": [
        "# As cabinClass  is Ordinal Categorical data we will perform LabelEncoding\n",
        "dataset['cabinClass'] = np.where(dataset['cabinClass']=='F',3,np.where(dataset['cabinClass']=='C',2,1))"
      ],
      "execution_count": null,
      "outputs": []
    },
    {
      "cell_type": "code",
      "metadata": {
        "colab": {
          "base_uri": "https://localhost:8080/",
          "height": 224
        },
        "id": "imPRvVAxtq3t",
        "outputId": "442ecf6a-87bd-4de9-9bd2-2f45e2cd4487"
      },
      "source": [
        "dataset.head()"
      ],
      "execution_count": null,
      "outputs": [
        {
          "output_type": "execute_result",
          "data": {
            "text/html": [
              "<div>\n",
              "<style scoped>\n",
              "    .dataframe tbody tr th:only-of-type {\n",
              "        vertical-align: middle;\n",
              "    }\n",
              "\n",
              "    .dataframe tbody tr th {\n",
              "        vertical-align: top;\n",
              "    }\n",
              "\n",
              "    .dataframe thead th {\n",
              "        text-align: right;\n",
              "    }\n",
              "</style>\n",
              "<table border=\"1\" class=\"dataframe\">\n",
              "  <thead>\n",
              "    <tr style=\"text-align: right;\">\n",
              "      <th></th>\n",
              "      <th>flightNumber</th>\n",
              "      <th>craftTypeCode</th>\n",
              "      <th>cabinClass</th>\n",
              "      <th>priceClass</th>\n",
              "      <th>price</th>\n",
              "      <th>rate</th>\n",
              "      <th>dateDifference</th>\n",
              "      <th>journey</th>\n",
              "      <th>indirectFlight</th>\n",
              "      <th>depMonth</th>\n",
              "      <th>depDate</th>\n",
              "      <th>depDay</th>\n",
              "      <th>depHour</th>\n",
              "      <th>creMonth</th>\n",
              "      <th>creDate</th>\n",
              "      <th>creDay</th>\n",
              "      <th>creHour</th>\n",
              "      <th>flightDuration</th>\n",
              "      <th>airline</th>\n",
              "    </tr>\n",
              "  </thead>\n",
              "  <tbody>\n",
              "    <tr>\n",
              "      <th>0</th>\n",
              "      <td>HO1252</td>\n",
              "      <td>320</td>\n",
              "      <td>2</td>\n",
              "      <td>C</td>\n",
              "      <td>1860</td>\n",
              "      <td>1.00</td>\n",
              "      <td>1</td>\n",
              "      <td>0</td>\n",
              "      <td>0</td>\n",
              "      <td>1</td>\n",
              "      <td>4</td>\n",
              "      <td>4</td>\n",
              "      <td>6</td>\n",
              "      <td>1</td>\n",
              "      <td>3</td>\n",
              "      <td>3</td>\n",
              "      <td>14</td>\n",
              "      <td>140.0</td>\n",
              "      <td>HO</td>\n",
              "    </tr>\n",
              "    <tr>\n",
              "      <th>1</th>\n",
              "      <td>MU5138</td>\n",
              "      <td>33L</td>\n",
              "      <td>2</td>\n",
              "      <td>I</td>\n",
              "      <td>1640</td>\n",
              "      <td>0.31</td>\n",
              "      <td>1</td>\n",
              "      <td>0</td>\n",
              "      <td>0</td>\n",
              "      <td>1</td>\n",
              "      <td>4</td>\n",
              "      <td>4</td>\n",
              "      <td>7</td>\n",
              "      <td>1</td>\n",
              "      <td>3</td>\n",
              "      <td>3</td>\n",
              "      <td>14</td>\n",
              "      <td>135.0</td>\n",
              "      <td>MU</td>\n",
              "    </tr>\n",
              "    <tr>\n",
              "      <th>2</th>\n",
              "      <td>MU5138</td>\n",
              "      <td>33L</td>\n",
              "      <td>2</td>\n",
              "      <td>J</td>\n",
              "      <td>5360</td>\n",
              "      <td>1.00</td>\n",
              "      <td>1</td>\n",
              "      <td>0</td>\n",
              "      <td>0</td>\n",
              "      <td>1</td>\n",
              "      <td>4</td>\n",
              "      <td>4</td>\n",
              "      <td>7</td>\n",
              "      <td>1</td>\n",
              "      <td>3</td>\n",
              "      <td>3</td>\n",
              "      <td>14</td>\n",
              "      <td>135.0</td>\n",
              "      <td>MU</td>\n",
              "    </tr>\n",
              "    <tr>\n",
              "      <th>3</th>\n",
              "      <td>HU7605</td>\n",
              "      <td>350</td>\n",
              "      <td>2</td>\n",
              "      <td>I</td>\n",
              "      <td>1635</td>\n",
              "      <td>0.29</td>\n",
              "      <td>1</td>\n",
              "      <td>0</td>\n",
              "      <td>0</td>\n",
              "      <td>1</td>\n",
              "      <td>4</td>\n",
              "      <td>4</td>\n",
              "      <td>7</td>\n",
              "      <td>1</td>\n",
              "      <td>3</td>\n",
              "      <td>3</td>\n",
              "      <td>14</td>\n",
              "      <td>135.0</td>\n",
              "      <td>HU</td>\n",
              "    </tr>\n",
              "    <tr>\n",
              "      <th>4</th>\n",
              "      <td>HU7605</td>\n",
              "      <td>350</td>\n",
              "      <td>2</td>\n",
              "      <td>I</td>\n",
              "      <td>1640</td>\n",
              "      <td>0.29</td>\n",
              "      <td>1</td>\n",
              "      <td>0</td>\n",
              "      <td>0</td>\n",
              "      <td>1</td>\n",
              "      <td>4</td>\n",
              "      <td>4</td>\n",
              "      <td>7</td>\n",
              "      <td>1</td>\n",
              "      <td>3</td>\n",
              "      <td>3</td>\n",
              "      <td>14</td>\n",
              "      <td>135.0</td>\n",
              "      <td>HU</td>\n",
              "    </tr>\n",
              "  </tbody>\n",
              "</table>\n",
              "</div>"
            ],
            "text/plain": [
              "  flightNumber craftTypeCode  cabinClass priceClass  price  rate  \\\n",
              "0       HO1252           320           2          C   1860  1.00   \n",
              "1       MU5138           33L           2          I   1640  0.31   \n",
              "2       MU5138           33L           2          J   5360  1.00   \n",
              "3       HU7605           350           2          I   1635  0.29   \n",
              "4       HU7605           350           2          I   1640  0.29   \n",
              "\n",
              "   dateDifference  journey  indirectFlight  depMonth  depDate  depDay  \\\n",
              "0               1        0               0         1        4       4   \n",
              "1               1        0               0         1        4       4   \n",
              "2               1        0               0         1        4       4   \n",
              "3               1        0               0         1        4       4   \n",
              "4               1        0               0         1        4       4   \n",
              "\n",
              "   depHour  creMonth  creDate  creDay  creHour  flightDuration airline  \n",
              "0        6         1        3       3       14           140.0      HO  \n",
              "1        7         1        3       3       14           135.0      MU  \n",
              "2        7         1        3       3       14           135.0      MU  \n",
              "3        7         1        3       3       14           135.0      HU  \n",
              "4        7         1        3       3       14           135.0      HU  "
            ]
          },
          "metadata": {
            "tags": []
          },
          "execution_count": 41
        }
      ]
    },
    {
      "cell_type": "markdown",
      "metadata": {
        "id": "EBR7RMomtq3u"
      },
      "source": [
        "# Creating priceCategory in place of  priceClass attribute"
      ]
    },
    {
      "cell_type": "code",
      "metadata": {
        "colab": {
          "base_uri": "https://localhost:8080/",
          "height": 520
        },
        "id": "VjneAmx3tq3u",
        "outputId": "b2ffc365-e856-4aac-aff0-174dd0954e8d"
      },
      "source": [
        "data = dataset.copy()\n",
        "fig= plt.figure(figsize=(18,9))\n",
        "sns.set()\n",
        "data.groupby('priceClass')['price'].mean().sort_values(ascending = False).plot.bar()\n",
        "plt.title('priceClass vs price')\n",
        "plt.show()"
      ],
      "execution_count": null,
      "outputs": [
        {
          "output_type": "display_data",
          "data": {
            "image/png": "[encoded data removed]",
            "text/plain": [
              "<Figure size 1296x648 with 1 Axes>"
            ]
          },
          "metadata": {
            "tags": []
          }
        }
      ]
    },
    {
      "cell_type": "code",
      "metadata": {
        "id": "hGxI8X4Rtq3u"
      },
      "source": [
        ""
      ],
      "execution_count": null,
      "outputs": []
    },
    {
      "cell_type": "code",
      "metadata": {
        "colab": {
          "base_uri": "https://localhost:8080/",
          "height": 355
        },
        "id": "HXxcuPW5tq3v",
        "outputId": "5d539028-4245-4401-8445-ca27c9f2a521"
      },
      "source": [
        "fig= plt.figure(figsize=(15,5))\n",
        "data=dataset.copy()\n",
        "plt.scatter(data['priceClass'],data['price'])\n",
        "plt.xlabel('priceClass')\n",
        "plt.ylabel('price')\n",
        "plt.title('priceClass')\n",
        "plt.show()"
      ],
      "execution_count": null,
      "outputs": [
        {
          "output_type": "display_data",
          "data": {
            "image/png": "[encoded data removed]",
            "text/plain": [
              "<Figure size 1080x360 with 1 Axes>"
            ]
          },
          "metadata": {
            "tags": []
          }
        }
      ]
    },
    {
      "cell_type": "code",
      "metadata": {
        "colab": {
          "base_uri": "https://localhost:8080/"
        },
        "id": "G0u1ubxxtq3v",
        "outputId": "917338b3-af50-4571-81b4-7c71c9d339f1"
      },
      "source": [
        "dataset[\"priceClass\"].value_counts()"
      ],
      "execution_count": null,
      "outputs": [
        {
          "output_type": "execute_result",
          "data": {
            "text/plain": [
              "Y     68127\n",
              "J     58181\n",
              "B     54632\n",
              "W     36892\n",
              "R     33361\n",
              "F     33175\n",
              "V     25728\n",
              "I     25241\n",
              "Q     24992\n",
              "P     22496\n",
              "K     20780\n",
              "N     18789\n",
              "S     17197\n",
              "C     16355\n",
              "A     16141\n",
              "L     15098\n",
              "G     14379\n",
              "Z     14279\n",
              "T     11177\n",
              "D     10617\n",
              "U      7587\n",
              "M      6423\n",
              "S1     5427\n",
              "H      4865\n",
              "E      3254\n",
              "X      1886\n",
              "M1     1650\n",
              "MC        4\n",
              "XC        3\n",
              "VZ        3\n",
              "BZ        2\n",
              "NZ        1\n",
              "Name: priceClass, dtype: int64"
            ]
          },
          "metadata": {
            "tags": []
          },
          "execution_count": 44
        }
      ]
    },
    {
      "cell_type": "code",
      "metadata": {
        "id": "qXkqWrCZtq31"
      },
      "source": [
        "dataset['priceCategory']= dataset['priceClass']"
      ],
      "execution_count": null,
      "outputs": []
    },
    {
      "cell_type": "code",
      "metadata": {
        "colab": {
          "base_uri": "https://localhost:8080/",
          "height": 224
        },
        "id": "n1QsTNnUtq32",
        "outputId": "d74fc435-ede8-404a-bacc-270eda163341"
      },
      "source": [
        "dataset.head()"
      ],
      "execution_count": null,
      "outputs": [
        {
          "output_type": "execute_result",
          "data": {
            "text/html": [
              "<div>\n",
              "<style scoped>\n",
              "    .dataframe tbody tr th:only-of-type {\n",
              "        vertical-align: middle;\n",
              "    }\n",
              "\n",
              "    .dataframe tbody tr th {\n",
              "        vertical-align: top;\n",
              "    }\n",
              "\n",
              "    .dataframe thead th {\n",
              "        text-align: right;\n",
              "    }\n",
              "</style>\n",
              "<table border=\"1\" class=\"dataframe\">\n",
              "  <thead>\n",
              "    <tr style=\"text-align: right;\">\n",
              "      <th></th>\n",
              "      <th>flightNumber</th>\n",
              "      <th>craftTypeCode</th>\n",
              "      <th>cabinClass</th>\n",
              "      <th>priceClass</th>\n",
              "      <th>price</th>\n",
              "      <th>rate</th>\n",
              "      <th>dateDifference</th>\n",
              "      <th>journey</th>\n",
              "      <th>indirectFlight</th>\n",
              "      <th>depMonth</th>\n",
              "      <th>depDate</th>\n",
              "      <th>depDay</th>\n",
              "      <th>depHour</th>\n",
              "      <th>creMonth</th>\n",
              "      <th>creDate</th>\n",
              "      <th>creDay</th>\n",
              "      <th>creHour</th>\n",
              "      <th>flightDuration</th>\n",
              "      <th>airline</th>\n",
              "      <th>priceCategory</th>\n",
              "    </tr>\n",
              "  </thead>\n",
              "  <tbody>\n",
              "    <tr>\n",
              "      <th>0</th>\n",
              "      <td>HO1252</td>\n",
              "      <td>320</td>\n",
              "      <td>2</td>\n",
              "      <td>C</td>\n",
              "      <td>1860</td>\n",
              "      <td>1.00</td>\n",
              "      <td>1</td>\n",
              "      <td>0</td>\n",
              "      <td>0</td>\n",
              "      <td>1</td>\n",
              "      <td>4</td>\n",
              "      <td>4</td>\n",
              "      <td>6</td>\n",
              "      <td>1</td>\n",
              "      <td>3</td>\n",
              "      <td>3</td>\n",
              "      <td>14</td>\n",
              "      <td>140.0</td>\n",
              "      <td>HO</td>\n",
              "      <td>C</td>\n",
              "    </tr>\n",
              "    <tr>\n",
              "      <th>1</th>\n",
              "      <td>MU5138</td>\n",
              "      <td>33L</td>\n",
              "      <td>2</td>\n",
              "      <td>I</td>\n",
              "      <td>1640</td>\n",
              "      <td>0.31</td>\n",
              "      <td>1</td>\n",
              "      <td>0</td>\n",
              "      <td>0</td>\n",
              "      <td>1</td>\n",
              "      <td>4</td>\n",
              "      <td>4</td>\n",
              "      <td>7</td>\n",
              "      <td>1</td>\n",
              "      <td>3</td>\n",
              "      <td>3</td>\n",
              "      <td>14</td>\n",
              "      <td>135.0</td>\n",
              "      <td>MU</td>\n",
              "      <td>I</td>\n",
              "    </tr>\n",
              "    <tr>\n",
              "      <th>2</th>\n",
              "      <td>MU5138</td>\n",
              "      <td>33L</td>\n",
              "      <td>2</td>\n",
              "      <td>J</td>\n",
              "      <td>5360</td>\n",
              "      <td>1.00</td>\n",
              "      <td>1</td>\n",
              "      <td>0</td>\n",
              "      <td>0</td>\n",
              "      <td>1</td>\n",
              "      <td>4</td>\n",
              "      <td>4</td>\n",
              "      <td>7</td>\n",
              "      <td>1</td>\n",
              "      <td>3</td>\n",
              "      <td>3</td>\n",
              "      <td>14</td>\n",
              "      <td>135.0</td>\n",
              "      <td>MU</td>\n",
              "      <td>J</td>\n",
              "    </tr>\n",
              "    <tr>\n",
              "      <th>3</th>\n",
              "      <td>HU7605</td>\n",
              "      <td>350</td>\n",
              "      <td>2</td>\n",
              "      <td>I</td>\n",
              "      <td>1635</td>\n",
              "      <td>0.29</td>\n",
              "      <td>1</td>\n",
              "      <td>0</td>\n",
              "      <td>0</td>\n",
              "      <td>1</td>\n",
              "      <td>4</td>\n",
              "      <td>4</td>\n",
              "      <td>7</td>\n",
              "      <td>1</td>\n",
              "      <td>3</td>\n",
              "      <td>3</td>\n",
              "      <td>14</td>\n",
              "      <td>135.0</td>\n",
              "      <td>HU</td>\n",
              "      <td>I</td>\n",
              "    </tr>\n",
              "    <tr>\n",
              "      <th>4</th>\n",
              "      <td>HU7605</td>\n",
              "      <td>350</td>\n",
              "      <td>2</td>\n",
              "      <td>I</td>\n",
              "      <td>1640</td>\n",
              "      <td>0.29</td>\n",
              "      <td>1</td>\n",
              "      <td>0</td>\n",
              "      <td>0</td>\n",
              "      <td>1</td>\n",
              "      <td>4</td>\n",
              "      <td>4</td>\n",
              "      <td>7</td>\n",
              "      <td>1</td>\n",
              "      <td>3</td>\n",
              "      <td>3</td>\n",
              "      <td>14</td>\n",
              "      <td>135.0</td>\n",
              "      <td>HU</td>\n",
              "      <td>I</td>\n",
              "    </tr>\n",
              "  </tbody>\n",
              "</table>\n",
              "</div>"
            ],
            "text/plain": [
              "  flightNumber craftTypeCode  cabinClass priceClass  price  rate  \\\n",
              "0       HO1252           320           2          C   1860  1.00   \n",
              "1       MU5138           33L           2          I   1640  0.31   \n",
              "2       MU5138           33L           2          J   5360  1.00   \n",
              "3       HU7605           350           2          I   1635  0.29   \n",
              "4       HU7605           350           2          I   1640  0.29   \n",
              "\n",
              "   dateDifference  journey  indirectFlight  depMonth  depDate  depDay  \\\n",
              "0               1        0               0         1        4       4   \n",
              "1               1        0               0         1        4       4   \n",
              "2               1        0               0         1        4       4   \n",
              "3               1        0               0         1        4       4   \n",
              "4               1        0               0         1        4       4   \n",
              "\n",
              "   depHour  creMonth  creDate  creDay  creHour  flightDuration airline  \\\n",
              "0        6         1        3       3       14           140.0      HO   \n",
              "1        7         1        3       3       14           135.0      MU   \n",
              "2        7         1        3       3       14           135.0      MU   \n",
              "3        7         1        3       3       14           135.0      HU   \n",
              "4        7         1        3       3       14           135.0      HU   \n",
              "\n",
              "  priceCategory  \n",
              "0             C  \n",
              "1             I  \n",
              "2             J  \n",
              "3             I  \n",
              "4             I  "
            ]
          },
          "metadata": {
            "tags": []
          },
          "execution_count": 46
        }
      ]
    },
    {
      "cell_type": "code",
      "metadata": {
        "id": "YlbI1rwGtq32"
      },
      "source": [
        "dataset[\"priceCategory\"].replace({\"Y\": \"cat1\",\"B\": \"cat1\",\"W\": \"cat1\",\"V\": \"cat1\",\"K\": \"cat1\",\"N\": \"cat1\",\"S\": \"cat1\",\"L\": \"cat1\",\"G\": \"cat1\",\"T\": \"cat1\",\"U\": \"cat1\",\"M\": \"cat1\",\"H\": \"cat1\",\"E\": \"cat1\",\"I\": \"cat2\",\"Q\": \"cat2\",\"P\": \"cat2\",\"Z\": \"cat2\",\"A\": \"cat2\",\"R\": \"cat3\",\"D\": \"cat3\",\"C\": \"cat3\",\"J\": \"cat4\",\"F\": \"cat4\",\"S1\": \"cat5\",\"X\": \"cat5\",\"M1\": \"cat5\",\"MC\": \"cat5\",\"XC\": \"cat5\",\"BZ\": \"cat5\",\"NZ\": \"cat5\",\"VZ\": \"cat5\"}, inplace=True)"
      ],
      "execution_count": null,
      "outputs": []
    },
    {
      "cell_type": "code",
      "metadata": {
        "colab": {
          "base_uri": "https://localhost:8080/",
          "height": 224
        },
        "id": "cj7nD6Iptq33",
        "outputId": "5024563b-ff9d-4a6c-c3ce-15e0073d4787"
      },
      "source": [
        "dataset.head()"
      ],
      "execution_count": null,
      "outputs": [
        {
          "output_type": "execute_result",
          "data": {
            "text/html": [
              "<div>\n",
              "<style scoped>\n",
              "    .dataframe tbody tr th:only-of-type {\n",
              "        vertical-align: middle;\n",
              "    }\n",
              "\n",
              "    .dataframe tbody tr th {\n",
              "        vertical-align: top;\n",
              "    }\n",
              "\n",
              "    .dataframe thead th {\n",
              "        text-align: right;\n",
              "    }\n",
              "</style>\n",
              "<table border=\"1\" class=\"dataframe\">\n",
              "  <thead>\n",
              "    <tr style=\"text-align: right;\">\n",
              "      <th></th>\n",
              "      <th>flightNumber</th>\n",
              "      <th>craftTypeCode</th>\n",
              "      <th>cabinClass</th>\n",
              "      <th>priceClass</th>\n",
              "      <th>price</th>\n",
              "      <th>rate</th>\n",
              "      <th>dateDifference</th>\n",
              "      <th>journey</th>\n",
              "      <th>indirectFlight</th>\n",
              "      <th>depMonth</th>\n",
              "      <th>depDate</th>\n",
              "      <th>depDay</th>\n",
              "      <th>depHour</th>\n",
              "      <th>creMonth</th>\n",
              "      <th>creDate</th>\n",
              "      <th>creDay</th>\n",
              "      <th>creHour</th>\n",
              "      <th>flightDuration</th>\n",
              "      <th>airline</th>\n",
              "      <th>priceCategory</th>\n",
              "    </tr>\n",
              "  </thead>\n",
              "  <tbody>\n",
              "    <tr>\n",
              "      <th>0</th>\n",
              "      <td>HO1252</td>\n",
              "      <td>320</td>\n",
              "      <td>2</td>\n",
              "      <td>C</td>\n",
              "      <td>1860</td>\n",
              "      <td>1.00</td>\n",
              "      <td>1</td>\n",
              "      <td>0</td>\n",
              "      <td>0</td>\n",
              "      <td>1</td>\n",
              "      <td>4</td>\n",
              "      <td>4</td>\n",
              "      <td>6</td>\n",
              "      <td>1</td>\n",
              "      <td>3</td>\n",
              "      <td>3</td>\n",
              "      <td>14</td>\n",
              "      <td>140.0</td>\n",
              "      <td>HO</td>\n",
              "      <td>cat3</td>\n",
              "    </tr>\n",
              "    <tr>\n",
              "      <th>1</th>\n",
              "      <td>MU5138</td>\n",
              "      <td>33L</td>\n",
              "      <td>2</td>\n",
              "      <td>I</td>\n",
              "      <td>1640</td>\n",
              "      <td>0.31</td>\n",
              "      <td>1</td>\n",
              "      <td>0</td>\n",
              "      <td>0</td>\n",
              "      <td>1</td>\n",
              "      <td>4</td>\n",
              "      <td>4</td>\n",
              "      <td>7</td>\n",
              "      <td>1</td>\n",
              "      <td>3</td>\n",
              "      <td>3</td>\n",
              "      <td>14</td>\n",
              "      <td>135.0</td>\n",
              "      <td>MU</td>\n",
              "      <td>cat2</td>\n",
              "    </tr>\n",
              "    <tr>\n",
              "      <th>2</th>\n",
              "      <td>MU5138</td>\n",
              "      <td>33L</td>\n",
              "      <td>2</td>\n",
              "      <td>J</td>\n",
              "      <td>5360</td>\n",
              "      <td>1.00</td>\n",
              "      <td>1</td>\n",
              "      <td>0</td>\n",
              "      <td>0</td>\n",
              "      <td>1</td>\n",
              "      <td>4</td>\n",
              "      <td>4</td>\n",
              "      <td>7</td>\n",
              "      <td>1</td>\n",
              "      <td>3</td>\n",
              "      <td>3</td>\n",
              "      <td>14</td>\n",
              "      <td>135.0</td>\n",
              "      <td>MU</td>\n",
              "      <td>cat4</td>\n",
              "    </tr>\n",
              "    <tr>\n",
              "      <th>3</th>\n",
              "      <td>HU7605</td>\n",
              "      <td>350</td>\n",
              "      <td>2</td>\n",
              "      <td>I</td>\n",
              "      <td>1635</td>\n",
              "      <td>0.29</td>\n",
              "      <td>1</td>\n",
              "      <td>0</td>\n",
              "      <td>0</td>\n",
              "      <td>1</td>\n",
              "      <td>4</td>\n",
              "      <td>4</td>\n",
              "      <td>7</td>\n",
              "      <td>1</td>\n",
              "      <td>3</td>\n",
              "      <td>3</td>\n",
              "      <td>14</td>\n",
              "      <td>135.0</td>\n",
              "      <td>HU</td>\n",
              "      <td>cat2</td>\n",
              "    </tr>\n",
              "    <tr>\n",
              "      <th>4</th>\n",
              "      <td>HU7605</td>\n",
              "      <td>350</td>\n",
              "      <td>2</td>\n",
              "      <td>I</td>\n",
              "      <td>1640</td>\n",
              "      <td>0.29</td>\n",
              "      <td>1</td>\n",
              "      <td>0</td>\n",
              "      <td>0</td>\n",
              "      <td>1</td>\n",
              "      <td>4</td>\n",
              "      <td>4</td>\n",
              "      <td>7</td>\n",
              "      <td>1</td>\n",
              "      <td>3</td>\n",
              "      <td>3</td>\n",
              "      <td>14</td>\n",
              "      <td>135.0</td>\n",
              "      <td>HU</td>\n",
              "      <td>cat2</td>\n",
              "    </tr>\n",
              "  </tbody>\n",
              "</table>\n",
              "</div>"
            ],
            "text/plain": [
              "  flightNumber craftTypeCode  cabinClass priceClass  price  rate  \\\n",
              "0       HO1252           320           2          C   1860  1.00   \n",
              "1       MU5138           33L           2          I   1640  0.31   \n",
              "2       MU5138           33L           2          J   5360  1.00   \n",
              "3       HU7605           350           2          I   1635  0.29   \n",
              "4       HU7605           350           2          I   1640  0.29   \n",
              "\n",
              "   dateDifference  journey  indirectFlight  depMonth  depDate  depDay  \\\n",
              "0               1        0               0         1        4       4   \n",
              "1               1        0               0         1        4       4   \n",
              "2               1        0               0         1        4       4   \n",
              "3               1        0               0         1        4       4   \n",
              "4               1        0               0         1        4       4   \n",
              "\n",
              "   depHour  creMonth  creDate  creDay  creHour  flightDuration airline  \\\n",
              "0        6         1        3       3       14           140.0      HO   \n",
              "1        7         1        3       3       14           135.0      MU   \n",
              "2        7         1        3       3       14           135.0      MU   \n",
              "3        7         1        3       3       14           135.0      HU   \n",
              "4        7         1        3       3       14           135.0      HU   \n",
              "\n",
              "  priceCategory  \n",
              "0          cat3  \n",
              "1          cat2  \n",
              "2          cat4  \n",
              "3          cat2  \n",
              "4          cat2  "
            ]
          },
          "metadata": {
            "tags": []
          },
          "execution_count": 48
        }
      ]
    },
    {
      "cell_type": "code",
      "metadata": {
        "colab": {
          "base_uri": "https://localhost:8080/",
          "height": 334
        },
        "id": "E1aUUApLtq33",
        "outputId": "48f28f1e-4944-40d4-a121-261770ee6e4d"
      },
      "source": [
        "sns.catplot(y = \"price\", x = \"priceCategory\", data = dataset.sort_values(\"price\", ascending = False), kind=\"boxen\", height = 6, aspect = 3)\n",
        "plt.show()"
      ],
      "execution_count": null,
      "outputs": [
        {
          "output_type": "display_data",
          "data": {
            "image/png": "[encoded data removed]",
            "text/plain": [
              "<Figure size 1296x432 with 1 Axes>"
            ]
          },
          "metadata": {
            "tags": []
          }
        }
      ]
    },
    {
      "cell_type": "markdown",
      "metadata": {
        "id": "oJtQtLh8tq35"
      },
      "source": [
        "# Creating dummies for priceCategory attribute"
      ]
    },
    {
      "cell_type": "code",
      "metadata": {
        "id": "QZ0ReCYwtq35"
      },
      "source": [
        "# As priceCategory is Nominal Categorical data we will perform OneHotEncoding\n",
        "priceCategory = dataset[[\"priceCategory\"]]\n",
        "priceCategory = pd.get_dummies(priceCategory, drop_first= True)"
      ],
      "execution_count": null,
      "outputs": []
    },
    {
      "cell_type": "code",
      "metadata": {
        "colab": {
          "base_uri": "https://localhost:8080/",
          "height": 419
        },
        "id": "g7OuR3NKtq36",
        "outputId": "ad7f451b-46e5-4bb5-884c-3dca0ff4ec4c"
      },
      "source": [
        "priceCategory"
      ],
      "execution_count": null,
      "outputs": [
        {
          "output_type": "execute_result",
          "data": {
            "text/html": [
              "<div>\n",
              "<style scoped>\n",
              "    .dataframe tbody tr th:only-of-type {\n",
              "        vertical-align: middle;\n",
              "    }\n",
              "\n",
              "    .dataframe tbody tr th {\n",
              "        vertical-align: top;\n",
              "    }\n",
              "\n",
              "    .dataframe thead th {\n",
              "        text-align: right;\n",
              "    }\n",
              "</style>\n",
              "<table border=\"1\" class=\"dataframe\">\n",
              "  <thead>\n",
              "    <tr style=\"text-align: right;\">\n",
              "      <th></th>\n",
              "      <th>priceCategory_cat2</th>\n",
              "      <th>priceCategory_cat3</th>\n",
              "      <th>priceCategory_cat4</th>\n",
              "      <th>priceCategory_cat5</th>\n",
              "    </tr>\n",
              "  </thead>\n",
              "  <tbody>\n",
              "    <tr>\n",
              "      <th>0</th>\n",
              "      <td>0</td>\n",
              "      <td>1</td>\n",
              "      <td>0</td>\n",
              "      <td>0</td>\n",
              "    </tr>\n",
              "    <tr>\n",
              "      <th>1</th>\n",
              "      <td>1</td>\n",
              "      <td>0</td>\n",
              "      <td>0</td>\n",
              "      <td>0</td>\n",
              "    </tr>\n",
              "    <tr>\n",
              "      <th>2</th>\n",
              "      <td>0</td>\n",
              "      <td>0</td>\n",
              "      <td>1</td>\n",
              "      <td>0</td>\n",
              "    </tr>\n",
              "    <tr>\n",
              "      <th>3</th>\n",
              "      <td>1</td>\n",
              "      <td>0</td>\n",
              "      <td>0</td>\n",
              "      <td>0</td>\n",
              "    </tr>\n",
              "    <tr>\n",
              "      <th>4</th>\n",
              "      <td>1</td>\n",
              "      <td>0</td>\n",
              "      <td>0</td>\n",
              "      <td>0</td>\n",
              "    </tr>\n",
              "    <tr>\n",
              "      <th>...</th>\n",
              "      <td>...</td>\n",
              "      <td>...</td>\n",
              "      <td>...</td>\n",
              "      <td>...</td>\n",
              "    </tr>\n",
              "    <tr>\n",
              "      <th>568912</th>\n",
              "      <td>0</td>\n",
              "      <td>1</td>\n",
              "      <td>0</td>\n",
              "      <td>0</td>\n",
              "    </tr>\n",
              "    <tr>\n",
              "      <th>568913</th>\n",
              "      <td>0</td>\n",
              "      <td>1</td>\n",
              "      <td>0</td>\n",
              "      <td>0</td>\n",
              "    </tr>\n",
              "    <tr>\n",
              "      <th>568914</th>\n",
              "      <td>0</td>\n",
              "      <td>1</td>\n",
              "      <td>0</td>\n",
              "      <td>0</td>\n",
              "    </tr>\n",
              "    <tr>\n",
              "      <th>568915</th>\n",
              "      <td>0</td>\n",
              "      <td>1</td>\n",
              "      <td>0</td>\n",
              "      <td>0</td>\n",
              "    </tr>\n",
              "    <tr>\n",
              "      <th>568916</th>\n",
              "      <td>0</td>\n",
              "      <td>0</td>\n",
              "      <td>0</td>\n",
              "      <td>0</td>\n",
              "    </tr>\n",
              "  </tbody>\n",
              "</table>\n",
              "<p>568742 rows × 4 columns</p>\n",
              "</div>"
            ],
            "text/plain": [
              "        priceCategory_cat2  priceCategory_cat3  priceCategory_cat4  \\\n",
              "0                        0                   1                   0   \n",
              "1                        1                   0                   0   \n",
              "2                        0                   0                   1   \n",
              "3                        1                   0                   0   \n",
              "4                        1                   0                   0   \n",
              "...                    ...                 ...                 ...   \n",
              "568912                   0                   1                   0   \n",
              "568913                   0                   1                   0   \n",
              "568914                   0                   1                   0   \n",
              "568915                   0                   1                   0   \n",
              "568916                   0                   0                   0   \n",
              "\n",
              "        priceCategory_cat5  \n",
              "0                        0  \n",
              "1                        0  \n",
              "2                        0  \n",
              "3                        0  \n",
              "4                        0  \n",
              "...                    ...  \n",
              "568912                   0  \n",
              "568913                   0  \n",
              "568914                   0  \n",
              "568915                   0  \n",
              "568916                   0  \n",
              "\n",
              "[568742 rows x 4 columns]"
            ]
          },
          "metadata": {
            "tags": []
          },
          "execution_count": 51
        }
      ]
    },
    {
      "cell_type": "markdown",
      "metadata": {
        "id": "GbZnf7R-tq36"
      },
      "source": [
        "# Plotting carftTypeCode vs price"
      ]
    },
    {
      "cell_type": "code",
      "metadata": {
        "colab": {
          "base_uri": "https://localhost:8080/",
          "height": 527
        },
        "id": "eZMsBPGXtq36",
        "outputId": "a1537aaa-f287-45ad-8f32-6e604ff6bc39"
      },
      "source": [
        "data = dataset.copy()\n",
        "fig= plt.figure(figsize=(18,9))\n",
        "sns.set()\n",
        "data.groupby('craftTypeCode')['price'].mean().sort_values(ascending = False).plot.bar()\n",
        "plt.title('craftTypeCode vs price')\n",
        "plt.show()"
      ],
      "execution_count": null,
      "outputs": [
        {
          "output_type": "display_data",
          "data": {
            "image/png": "[encoded data removed]",
            "text/plain": [
              "<Figure size 1296x648 with 1 Axes>"
            ]
          },
          "metadata": {
            "tags": []
          }
        }
      ]
    },
    {
      "cell_type": "code",
      "metadata": {
        "colab": {
          "base_uri": "https://localhost:8080/"
        },
        "id": "X3Comx1Etq37",
        "outputId": "ce05abaa-6990-43f9-a9c6-e0f4c5dc3275"
      },
      "source": [
        "dataset[\"craftTypeCode\"].value_counts()"
      ],
      "execution_count": null,
      "outputs": [
        {
          "output_type": "execute_result",
          "data": {
            "text/plain": [
              "33L    111631\n",
              "359     70634\n",
              "333     58714\n",
              "773     52681\n",
              "325     31453\n",
              "738     25871\n",
              "321     22104\n",
              "33A     17706\n",
              "789     15299\n",
              "73E     14815\n",
              "73L     14487\n",
              "32L     14182\n",
              "747     14156\n",
              "73K     11470\n",
              "32A     10288\n",
              "77W      9710\n",
              "330      7498\n",
              "350      7220\n",
              "323      6295\n",
              "338      5525\n",
              "78A      5409\n",
              "331      5400\n",
              "33E      4980\n",
              "744      4474\n",
              "33G      3780\n",
              "337      3126\n",
              "33H      3026\n",
              "320      2360\n",
              "787      2212\n",
              "78B      1893\n",
              "332      1762\n",
              "351      1611\n",
              "73N      1530\n",
              "33W      1091\n",
              "336       920\n",
              "319       695\n",
              "73T       620\n",
              "32M       582\n",
              "73B       577\n",
              "33C       469\n",
              "73H       368\n",
              "33B        92\n",
              "73U        15\n",
              "73G         7\n",
              "32D         4\n",
              "Name: craftTypeCode, dtype: int64"
            ]
          },
          "metadata": {
            "tags": []
          },
          "execution_count": 53
        }
      ]
    },
    {
      "cell_type": "code",
      "metadata": {
        "id": "4AMH27HGtq38"
      },
      "source": [
        ""
      ],
      "execution_count": null,
      "outputs": []
    },
    {
      "cell_type": "code",
      "metadata": {
        "colab": {
          "base_uri": "https://localhost:8080/",
          "height": 355
        },
        "id": "RF7xOPqHtq38",
        "outputId": "456f1a9e-95c1-4cfe-f073-7658fd8d43aa"
      },
      "source": [
        "fig= plt.figure(figsize=(15,5))\n",
        "data=dataset.copy()\n",
        "plt.scatter(data['craftTypeCode'],data['price'])\n",
        "plt.xlabel('craftTypeCode')\n",
        "plt.ylabel('price')\n",
        "plt.title('craftTypeCode vs price')\n",
        "plt.show()"
      ],
      "execution_count": null,
      "outputs": [
        {
          "output_type": "display_data",
          "data": {
            "image/png": "[encoded data removed]",
            "text/plain": [
              "<Figure size 1080x360 with 1 Axes>"
            ]
          },
          "metadata": {
            "tags": []
          }
        }
      ]
    },
    {
      "cell_type": "markdown",
      "metadata": {
        "id": "kog7jwS3tq39"
      },
      "source": [
        "# Dropping some more attributes"
      ]
    },
    {
      "cell_type": "code",
      "metadata": {
        "id": "NrAXBv5Mtq39"
      },
      "source": [
        "dataset1 = dataset.drop(['flightNumber', 'craftTypeCode', 'priceClass'],axis = 1)"
      ],
      "execution_count": null,
      "outputs": []
    },
    {
      "cell_type": "code",
      "metadata": {
        "colab": {
          "base_uri": "https://localhost:8080/",
          "height": 224
        },
        "id": "BD5DXSSMtq39",
        "outputId": "69b16768-cf08-492f-cae7-2cc93c004ed8"
      },
      "source": [
        "dataset1.head()"
      ],
      "execution_count": null,
      "outputs": [
        {
          "output_type": "execute_result",
          "data": {
            "text/html": [
              "<div>\n",
              "<style scoped>\n",
              "    .dataframe tbody tr th:only-of-type {\n",
              "        vertical-align: middle;\n",
              "    }\n",
              "\n",
              "    .dataframe tbody tr th {\n",
              "        vertical-align: top;\n",
              "    }\n",
              "\n",
              "    .dataframe thead th {\n",
              "        text-align: right;\n",
              "    }\n",
              "</style>\n",
              "<table border=\"1\" class=\"dataframe\">\n",
              "  <thead>\n",
              "    <tr style=\"text-align: right;\">\n",
              "      <th></th>\n",
              "      <th>cabinClass</th>\n",
              "      <th>price</th>\n",
              "      <th>rate</th>\n",
              "      <th>dateDifference</th>\n",
              "      <th>journey</th>\n",
              "      <th>indirectFlight</th>\n",
              "      <th>depMonth</th>\n",
              "      <th>depDate</th>\n",
              "      <th>depDay</th>\n",
              "      <th>depHour</th>\n",
              "      <th>creMonth</th>\n",
              "      <th>creDate</th>\n",
              "      <th>creDay</th>\n",
              "      <th>creHour</th>\n",
              "      <th>flightDuration</th>\n",
              "      <th>airline</th>\n",
              "      <th>priceCategory</th>\n",
              "    </tr>\n",
              "  </thead>\n",
              "  <tbody>\n",
              "    <tr>\n",
              "      <th>0</th>\n",
              "      <td>2</td>\n",
              "      <td>1860</td>\n",
              "      <td>1.00</td>\n",
              "      <td>1</td>\n",
              "      <td>0</td>\n",
              "      <td>0</td>\n",
              "      <td>1</td>\n",
              "      <td>4</td>\n",
              "      <td>4</td>\n",
              "      <td>6</td>\n",
              "      <td>1</td>\n",
              "      <td>3</td>\n",
              "      <td>3</td>\n",
              "      <td>14</td>\n",
              "      <td>140.0</td>\n",
              "      <td>HO</td>\n",
              "      <td>cat3</td>\n",
              "    </tr>\n",
              "    <tr>\n",
              "      <th>1</th>\n",
              "      <td>2</td>\n",
              "      <td>1640</td>\n",
              "      <td>0.31</td>\n",
              "      <td>1</td>\n",
              "      <td>0</td>\n",
              "      <td>0</td>\n",
              "      <td>1</td>\n",
              "      <td>4</td>\n",
              "      <td>4</td>\n",
              "      <td>7</td>\n",
              "      <td>1</td>\n",
              "      <td>3</td>\n",
              "      <td>3</td>\n",
              "      <td>14</td>\n",
              "      <td>135.0</td>\n",
              "      <td>MU</td>\n",
              "      <td>cat2</td>\n",
              "    </tr>\n",
              "    <tr>\n",
              "      <th>2</th>\n",
              "      <td>2</td>\n",
              "      <td>5360</td>\n",
              "      <td>1.00</td>\n",
              "      <td>1</td>\n",
              "      <td>0</td>\n",
              "      <td>0</td>\n",
              "      <td>1</td>\n",
              "      <td>4</td>\n",
              "      <td>4</td>\n",
              "      <td>7</td>\n",
              "      <td>1</td>\n",
              "      <td>3</td>\n",
              "      <td>3</td>\n",
              "      <td>14</td>\n",
              "      <td>135.0</td>\n",
              "      <td>MU</td>\n",
              "      <td>cat4</td>\n",
              "    </tr>\n",
              "    <tr>\n",
              "      <th>3</th>\n",
              "      <td>2</td>\n",
              "      <td>1635</td>\n",
              "      <td>0.29</td>\n",
              "      <td>1</td>\n",
              "      <td>0</td>\n",
              "      <td>0</td>\n",
              "      <td>1</td>\n",
              "      <td>4</td>\n",
              "      <td>4</td>\n",
              "      <td>7</td>\n",
              "      <td>1</td>\n",
              "      <td>3</td>\n",
              "      <td>3</td>\n",
              "      <td>14</td>\n",
              "      <td>135.0</td>\n",
              "      <td>HU</td>\n",
              "      <td>cat2</td>\n",
              "    </tr>\n",
              "    <tr>\n",
              "      <th>4</th>\n",
              "      <td>2</td>\n",
              "      <td>1640</td>\n",
              "      <td>0.29</td>\n",
              "      <td>1</td>\n",
              "      <td>0</td>\n",
              "      <td>0</td>\n",
              "      <td>1</td>\n",
              "      <td>4</td>\n",
              "      <td>4</td>\n",
              "      <td>7</td>\n",
              "      <td>1</td>\n",
              "      <td>3</td>\n",
              "      <td>3</td>\n",
              "      <td>14</td>\n",
              "      <td>135.0</td>\n",
              "      <td>HU</td>\n",
              "      <td>cat2</td>\n",
              "    </tr>\n",
              "  </tbody>\n",
              "</table>\n",
              "</div>"
            ],
            "text/plain": [
              "   cabinClass  price  rate  dateDifference  journey  indirectFlight  depMonth  \\\n",
              "0           2   1860  1.00               1        0               0         1   \n",
              "1           2   1640  0.31               1        0               0         1   \n",
              "2           2   5360  1.00               1        0               0         1   \n",
              "3           2   1635  0.29               1        0               0         1   \n",
              "4           2   1640  0.29               1        0               0         1   \n",
              "\n",
              "   depDate  depDay  depHour  creMonth  creDate  creDay  creHour  \\\n",
              "0        4       4        6         1        3       3       14   \n",
              "1        4       4        7         1        3       3       14   \n",
              "2        4       4        7         1        3       3       14   \n",
              "3        4       4        7         1        3       3       14   \n",
              "4        4       4        7         1        3       3       14   \n",
              "\n",
              "   flightDuration airline priceCategory  \n",
              "0           140.0      HO          cat3  \n",
              "1           135.0      MU          cat2  \n",
              "2           135.0      MU          cat4  \n",
              "3           135.0      HU          cat2  \n",
              "4           135.0      HU          cat2  "
            ]
          },
          "metadata": {
            "tags": []
          },
          "execution_count": 56
        }
      ]
    },
    {
      "cell_type": "code",
      "metadata": {
        "id": "vMc3eR19tq4A"
      },
      "source": [
        ""
      ],
      "execution_count": null,
      "outputs": []
    },
    {
      "cell_type": "code",
      "metadata": {
        "id": "wBGFq6y8tq4A"
      },
      "source": [
        ""
      ],
      "execution_count": null,
      "outputs": []
    },
    {
      "cell_type": "code",
      "metadata": {
        "id": "wqkYGS1ftq4B"
      },
      "source": [
        ""
      ],
      "execution_count": null,
      "outputs": []
    },
    {
      "cell_type": "code",
      "metadata": {
        "id": "Z2KeZp2itq4B"
      },
      "source": [
        ""
      ],
      "execution_count": null,
      "outputs": []
    },
    {
      "cell_type": "code",
      "metadata": {
        "id": "3LI1G7NLtq4B"
      },
      "source": [
        ""
      ],
      "execution_count": null,
      "outputs": []
    },
    {
      "cell_type": "code",
      "metadata": {
        "id": "Em17HwPXtq4B"
      },
      "source": [
        ""
      ],
      "execution_count": null,
      "outputs": []
    },
    {
      "cell_type": "code",
      "metadata": {
        "colab": {
          "base_uri": "https://localhost:8080/"
        },
        "id": "SVOaFnZTtq4C",
        "outputId": "b76e08dc-49b4-4e7a-9814-d7bd8dd2105c"
      },
      "source": [
        "dataset1.shape"
      ],
      "execution_count": null,
      "outputs": [
        {
          "output_type": "execute_result",
          "data": {
            "text/plain": [
              "(568742, 17)"
            ]
          },
          "metadata": {
            "tags": []
          },
          "execution_count": 57
        }
      ]
    },
    {
      "cell_type": "markdown",
      "metadata": {
        "id": "F_H1lnTqtq4C"
      },
      "source": [
        "# Plotting continuous_features"
      ]
    },
    {
      "cell_type": "code",
      "metadata": {
        "id": "dnFM-7Hztq4D"
      },
      "source": [
        "continuous_features = ['rate', 'flightDuration', 'price']"
      ],
      "execution_count": null,
      "outputs": []
    },
    {
      "cell_type": "code",
      "metadata": {
        "colab": {
          "base_uri": "https://localhost:8080/",
          "height": 1000
        },
        "id": "GBe1W2VFtq4D",
        "outputId": "51abdcc1-b2bf-420e-b413-0104aed8e8c2"
      },
      "source": [
        "for feature in continuous_features:\n",
        "    fig= plt.figure(figsize=(15,5))\n",
        "    data=dataset1.copy()\n",
        "    data[feature].hist(bins=25)\n",
        "    plt.xlabel(feature)\n",
        "    plt.ylabel(\"Count\")\n",
        "    plt.title(feature)\n",
        "    plt.show()"
      ],
      "execution_count": null,
      "outputs": [
        {
          "output_type": "display_data",
          "data": {
            "image/png": "[encoded data removed]",
            "text/plain": [
              "<Figure size 1080x360 with 1 Axes>"
            ]
          },
          "metadata": {
            "tags": []
          }
        },
        {
          "output_type": "display_data",
          "data": {
            "image/png": "[encoded data removed]",
            "text/plain": [
              "<Figure size 1080x360 with 1 Axes>"
            ]
          },
          "metadata": {
            "tags": []
          }
        },
        {
          "output_type": "display_data",
          "data": {
            "image/png": "[encoded data removed]",
            "text/plain": [
              "<Figure size 1080x360 with 1 Axes>"
            ]
          },
          "metadata": {
            "tags": []
          }
        }
      ]
    },
    {
      "cell_type": "code",
      "metadata": {
        "id": "m8Y4E7BJtq4D"
      },
      "source": [
        ""
      ],
      "execution_count": null,
      "outputs": []
    },
    {
      "cell_type": "code",
      "metadata": {
        "colab": {
          "base_uri": "https://localhost:8080/",
          "height": 869
        },
        "id": "-S-zMgbStq4E",
        "outputId": "6f9fbd54-5fd8-43b5-9b22-a0d820e760e0"
      },
      "source": [
        "for feature in continuous_features:\n",
        "    data=dataset1.copy()\n",
        "    plt.scatter(data[feature],data['price'])\n",
        "    plt.xlabel(feature)\n",
        "    plt.ylabel('price')\n",
        "    plt.title(feature)\n",
        "    plt.show()"
      ],
      "execution_count": null,
      "outputs": [
        {
          "output_type": "display_data",
          "data": {
            "image/png": "[encoded data removed]",
            "text/plain": [
              "<Figure size 432x288 with 1 Axes>"
            ]
          },
          "metadata": {
            "tags": []
          }
        },
        {
          "output_type": "display_data",
          "data": {
            "image/png": "[encoded data removed]",
            "text/plain": [
              "<Figure size 432x288 with 1 Axes>"
            ]
          },
          "metadata": {
            "tags": []
          }
        },
        {
          "output_type": "display_data",
          "data": {
            "image/png": "[encoded data removed]",
            "text/plain": [
              "<Figure size 432x288 with 1 Axes>"
            ]
          },
          "metadata": {
            "tags": []
          }
        }
      ]
    },
    {
      "cell_type": "code",
      "metadata": {
        "id": "JB38mFshtq4F"
      },
      "source": [
        ""
      ],
      "execution_count": null,
      "outputs": []
    },
    {
      "cell_type": "code",
      "metadata": {
        "colab": {
          "base_uri": "https://localhost:8080/",
          "height": 818
        },
        "id": "nuQkDs2Ltq4F",
        "outputId": "3e7d255f-4b3c-4a07-d0bd-a5206891d35c"
      },
      "source": [
        "for feature in continuous_features:\n",
        "    data=dataset1.copy()\n",
        "    data.boxplot(column=feature)\n",
        "    plt.ylabel(feature)\n",
        "    plt.title(feature)\n",
        "    plt.show()"
      ],
      "execution_count": null,
      "outputs": [
        {
          "output_type": "display_data",
          "data": {
            "image/png": "[encoded data removed]",
            "text/plain": [
              "<Figure size 432x288 with 1 Axes>"
            ]
          },
          "metadata": {
            "tags": []
          }
        },
        {
          "output_type": "display_data",
          "data": {
            "image/png": "[encoded data removed]",
            "text/plain": [
              "<Figure size 432x288 with 1 Axes>"
            ]
          },
          "metadata": {
            "tags": []
          }
        },
        {
          "output_type": "display_data",
          "data": {
            "image/png": "[encoded data removed]",
            "text/plain": [
              "<Figure size 432x288 with 1 Axes>"
            ]
          },
          "metadata": {
            "tags": []
          }
        }
      ]
    },
    {
      "cell_type": "code",
      "metadata": {
        "id": "EHbquz2ftq4G"
      },
      "source": [
        "out_features=['flightDuration']"
      ],
      "execution_count": null,
      "outputs": []
    },
    {
      "cell_type": "markdown",
      "metadata": {
        "id": "2ypTewJZtq4G"
      },
      "source": [
        "# Removing Outliers"
      ]
    },
    {
      "cell_type": "code",
      "metadata": {
        "colab": {
          "base_uri": "https://localhost:8080/"
        },
        "id": "SaaQT1U_tq4H",
        "outputId": "f95c8a1d-ebf3-48eb-815b-1776b3f0f5cb"
      },
      "source": [
        "Q1 = dataset1[out_features].quantile(0.25)\n",
        "Q3 = dataset1[out_features].quantile(0.75)\n",
        "IQR = Q3 - Q1\n",
        "print(IQR)"
      ],
      "execution_count": null,
      "outputs": [
        {
          "output_type": "stream",
          "text": [
            "flightDuration    10.0\n",
            "dtype: float64\n"
          ],
          "name": "stdout"
        }
      ]
    },
    {
      "cell_type": "code",
      "metadata": {
        "id": "GPJvlVzBtq4H"
      },
      "source": [
        ""
      ],
      "execution_count": null,
      "outputs": []
    },
    {
      "cell_type": "code",
      "metadata": {
        "id": "lXM2tgt7tq4H"
      },
      "source": [
        "dataset1 = dataset1[~((dataset1[out_features] < (Q1 - 1.5 * IQR)) |(dataset1[out_features] > (Q3 + 1.5 * IQR))).any(axis=1)]"
      ],
      "execution_count": null,
      "outputs": []
    },
    {
      "cell_type": "code",
      "metadata": {
        "colab": {
          "base_uri": "https://localhost:8080/"
        },
        "id": "sabWa-65tq4I",
        "outputId": "c63d1724-2e1e-447a-c828-139a32634461"
      },
      "source": [
        "dataset1.shape"
      ],
      "execution_count": null,
      "outputs": [
        {
          "output_type": "execute_result",
          "data": {
            "text/plain": [
              "(556645, 17)"
            ]
          },
          "metadata": {
            "tags": []
          },
          "execution_count": 65
        }
      ]
    },
    {
      "cell_type": "markdown",
      "metadata": {
        "id": "qpX7Y4uVtq4I"
      },
      "source": [
        "# Plotting barplot for mean of price grouped by discrete_features"
      ]
    },
    {
      "cell_type": "code",
      "metadata": {
        "id": "NAZK-6q-tq4J"
      },
      "source": [
        "discrete_features = ['journey','cabinClass','dateDifference','indirectFlight','depMonth','depDate', 'depDay', 'depHour','creMonth','creDate', 'creDay', 'creHour','airline','priceCategory']"
      ],
      "execution_count": null,
      "outputs": []
    },
    {
      "cell_type": "code",
      "metadata": {
        "colab": {
          "base_uri": "https://localhost:8080/"
        },
        "id": "RwheWI6ttq4J",
        "outputId": "5c2f6b55-cce9-45a9-b389-72ed6b7a541d"
      },
      "source": [
        "discrete_features"
      ],
      "execution_count": null,
      "outputs": [
        {
          "output_type": "execute_result",
          "data": {
            "text/plain": [
              "['journey',\n",
              " 'cabinClass',\n",
              " 'dateDifference',\n",
              " 'indirectFlight',\n",
              " 'depMonth',\n",
              " 'depDate',\n",
              " 'depDay',\n",
              " 'depHour',\n",
              " 'creMonth',\n",
              " 'creDate',\n",
              " 'creDay',\n",
              " 'creHour',\n",
              " 'airline',\n",
              " 'priceCategory']"
            ]
          },
          "metadata": {
            "tags": []
          },
          "execution_count": 67
        }
      ]
    },
    {
      "cell_type": "code",
      "metadata": {
        "colab": {
          "base_uri": "https://localhost:8080/",
          "height": 1000
        },
        "id": "_LzL3h_qtq4J",
        "outputId": "46bfbe8f-d2fa-46bb-dc1b-ba29c196a399"
      },
      "source": [
        "for feature in discrete_features:\n",
        "    fig= plt.figure(figsize=(18,6))\n",
        "    sns.set()\n",
        "    data = dataset1.copy()\n",
        "    data.groupby(feature)['price'].mean().sort_values(ascending = False).plot.bar()\n",
        "    plt.xlabel(feature)\n",
        "    plt.ylabel('price')\n",
        "    plt.title(feature)\n",
        "    plt.show()"
      ],
      "execution_count": null,
      "outputs": [
        {
          "output_type": "display_data",
          "data": {
            "image/png": "[encoded data removed]",
            "text/plain": [
              "<Figure size 1296x432 with 1 Axes>"
            ]
          },
          "metadata": {
            "tags": []
          }
        },
        {
          "output_type": "display_data",
          "data": {
            "image/png": "[encoded data removed]",
            "text/plain": [
              "<Figure size 1296x432 with 1 Axes>"
            ]
          },
          "metadata": {
            "tags": []
          }
        },
        {
          "output_type": "display_data",
          "data": {
            "image/png": "[encoded data removed]",
            "text/plain": [
              "<Figure size 1296x432 with 1 Axes>"
            ]
          },
          "metadata": {
            "tags": []
          }
        },
        {
          "output_type": "display_data",
          "data": {
            "image/png": "[encoded data removed]",
            "text/plain": [
              "<Figure size 1296x432 with 1 Axes>"
            ]
          },
          "metadata": {
            "tags": []
          }
        },
        {
          "output_type": "display_data",
          "data": {
            "image/png": "[encoded data removed]",
            "text/plain": [
              "<Figure size 1296x432 with 1 Axes>"
            ]
          },
          "metadata": {
            "tags": []
          }
        },
        {
          "output_type": "display_data",
          "data": {
            "image/png": "[encoded data removed]",
            "text/plain": [
              "<Figure size 1296x432 with 1 Axes>"
            ]
          },
          "metadata": {
            "tags": []
          }
        },
        {
          "output_type": "display_data",
          "data": {
            "image/png": "[encoded data removed]",
            "text/plain": [
              "<Figure size 1296x432 with 1 Axes>"
            ]
          },
          "metadata": {
            "tags": []
          }
        },
        {
          "output_type": "display_data",
          "data": {
            "image/png": "[encoded data removed]",
            "text/plain": [
              "<Figure size 1296x432 with 1 Axes>"
            ]
          },
          "metadata": {
            "tags": []
          }
        },
        {
          "output_type": "display_data",
          "data": {
            "image/png": "[encoded data removed]",
            "text/plain": [
              "<Figure size 1296x432 with 1 Axes>"
            ]
          },
          "metadata": {
            "tags": []
          }
        },
        {
          "output_type": "display_data",
          "data": {
            "image/png": "[encoded data removed]",
            "text/plain": [
              "<Figure size 1296x432 with 1 Axes>"
            ]
          },
          "metadata": {
            "tags": []
          }
        },
        {
          "output_type": "display_data",
          "data": {
            "image/png": "[encoded data removed]",
            "text/plain": [
              "<Figure size 1296x432 with 1 Axes>"
            ]
          },
          "metadata": {
            "tags": []
          }
        },
        {
          "output_type": "display_data",
          "data": {
            "image/png": "[encoded data removed]",
            "text/plain": [
              "<Figure size 1296x432 with 1 Axes>"
            ]
          },
          "metadata": {
            "tags": []
          }
        },
        {
          "output_type": "display_data",
          "data": {
            "image/png": "[encoded data removed]",
            "text/plain": [
              "<Figure size 1296x432 with 1 Axes>"
            ]
          },
          "metadata": {
            "tags": []
          }
        },
        {
          "output_type": "display_data",
          "data": {
            "image/png": "[encoded data removed]",
            "text/plain": [
              "<Figure size 1296x432 with 1 Axes>"
            ]
          },
          "metadata": {
            "tags": []
          }
        }
      ]
    },
    {
      "cell_type": "markdown",
      "metadata": {
        "id": "UrpGjEP8tq4K"
      },
      "source": [
        "# Dropping more attributes"
      ]
    },
    {
      "cell_type": "code",
      "metadata": {
        "id": "U9hJ4t2Ztq4U"
      },
      "source": [
        "dataset2 = dataset1.drop(['journey', 'depDate', 'creDay','indirectFlight','flightDuration'],axis = 1)"
      ],
      "execution_count": null,
      "outputs": []
    },
    {
      "cell_type": "code",
      "metadata": {
        "colab": {
          "base_uri": "https://localhost:8080/"
        },
        "id": "_ZwESTWatq4V",
        "outputId": "1c5b78e1-bf38-4925-906f-e25408ebb27b"
      },
      "source": [
        "dataset2.shape"
      ],
      "execution_count": null,
      "outputs": [
        {
          "output_type": "execute_result",
          "data": {
            "text/plain": [
              "(556645, 12)"
            ]
          },
          "metadata": {
            "tags": []
          },
          "execution_count": 70
        }
      ]
    },
    {
      "cell_type": "code",
      "metadata": {
        "colab": {
          "base_uri": "https://localhost:8080/",
          "height": 204
        },
        "id": "iHjrjW29tq4X",
        "outputId": "9d4ccc76-fa51-4804-bdc1-c2acb3ab4ce3"
      },
      "source": [
        "dataset2.head()"
      ],
      "execution_count": null,
      "outputs": [
        {
          "output_type": "execute_result",
          "data": {
            "text/html": [
              "<div>\n",
              "<style scoped>\n",
              "    .dataframe tbody tr th:only-of-type {\n",
              "        vertical-align: middle;\n",
              "    }\n",
              "\n",
              "    .dataframe tbody tr th {\n",
              "        vertical-align: top;\n",
              "    }\n",
              "\n",
              "    .dataframe thead th {\n",
              "        text-align: right;\n",
              "    }\n",
              "</style>\n",
              "<table border=\"1\" class=\"dataframe\">\n",
              "  <thead>\n",
              "    <tr style=\"text-align: right;\">\n",
              "      <th></th>\n",
              "      <th>cabinClass</th>\n",
              "      <th>price</th>\n",
              "      <th>rate</th>\n",
              "      <th>dateDifference</th>\n",
              "      <th>depMonth</th>\n",
              "      <th>depDay</th>\n",
              "      <th>depHour</th>\n",
              "      <th>creMonth</th>\n",
              "      <th>creDate</th>\n",
              "      <th>creHour</th>\n",
              "      <th>airline</th>\n",
              "      <th>priceCategory</th>\n",
              "    </tr>\n",
              "  </thead>\n",
              "  <tbody>\n",
              "    <tr>\n",
              "      <th>0</th>\n",
              "      <td>2</td>\n",
              "      <td>1860</td>\n",
              "      <td>1.00</td>\n",
              "      <td>1</td>\n",
              "      <td>1</td>\n",
              "      <td>4</td>\n",
              "      <td>6</td>\n",
              "      <td>1</td>\n",
              "      <td>3</td>\n",
              "      <td>14</td>\n",
              "      <td>HO</td>\n",
              "      <td>cat3</td>\n",
              "    </tr>\n",
              "    <tr>\n",
              "      <th>1</th>\n",
              "      <td>2</td>\n",
              "      <td>1640</td>\n",
              "      <td>0.31</td>\n",
              "      <td>1</td>\n",
              "      <td>1</td>\n",
              "      <td>4</td>\n",
              "      <td>7</td>\n",
              "      <td>1</td>\n",
              "      <td>3</td>\n",
              "      <td>14</td>\n",
              "      <td>MU</td>\n",
              "      <td>cat2</td>\n",
              "    </tr>\n",
              "    <tr>\n",
              "      <th>2</th>\n",
              "      <td>2</td>\n",
              "      <td>5360</td>\n",
              "      <td>1.00</td>\n",
              "      <td>1</td>\n",
              "      <td>1</td>\n",
              "      <td>4</td>\n",
              "      <td>7</td>\n",
              "      <td>1</td>\n",
              "      <td>3</td>\n",
              "      <td>14</td>\n",
              "      <td>MU</td>\n",
              "      <td>cat4</td>\n",
              "    </tr>\n",
              "    <tr>\n",
              "      <th>3</th>\n",
              "      <td>2</td>\n",
              "      <td>1635</td>\n",
              "      <td>0.29</td>\n",
              "      <td>1</td>\n",
              "      <td>1</td>\n",
              "      <td>4</td>\n",
              "      <td>7</td>\n",
              "      <td>1</td>\n",
              "      <td>3</td>\n",
              "      <td>14</td>\n",
              "      <td>HU</td>\n",
              "      <td>cat2</td>\n",
              "    </tr>\n",
              "    <tr>\n",
              "      <th>4</th>\n",
              "      <td>2</td>\n",
              "      <td>1640</td>\n",
              "      <td>0.29</td>\n",
              "      <td>1</td>\n",
              "      <td>1</td>\n",
              "      <td>4</td>\n",
              "      <td>7</td>\n",
              "      <td>1</td>\n",
              "      <td>3</td>\n",
              "      <td>14</td>\n",
              "      <td>HU</td>\n",
              "      <td>cat2</td>\n",
              "    </tr>\n",
              "  </tbody>\n",
              "</table>\n",
              "</div>"
            ],
            "text/plain": [
              "   cabinClass  price  rate  dateDifference  depMonth  depDay  depHour  \\\n",
              "0           2   1860  1.00               1         1       4        6   \n",
              "1           2   1640  0.31               1         1       4        7   \n",
              "2           2   5360  1.00               1         1       4        7   \n",
              "3           2   1635  0.29               1         1       4        7   \n",
              "4           2   1640  0.29               1         1       4        7   \n",
              "\n",
              "   creMonth  creDate  creHour airline priceCategory  \n",
              "0         1        3       14      HO          cat3  \n",
              "1         1        3       14      MU          cat2  \n",
              "2         1        3       14      MU          cat4  \n",
              "3         1        3       14      HU          cat2  \n",
              "4         1        3       14      HU          cat2  "
            ]
          },
          "metadata": {
            "tags": []
          },
          "execution_count": 71
        }
      ]
    },
    {
      "cell_type": "markdown",
      "metadata": {
        "id": "_4nWGeAVtq4Y"
      },
      "source": [
        "# Correlation Heatmap"
      ]
    },
    {
      "cell_type": "code",
      "metadata": {
        "colab": {
          "base_uri": "https://localhost:8080/",
          "height": 1000
        },
        "id": "90xbPtKttq4Y",
        "outputId": "aebd8a96-256a-4bf4-9892-46c21176ed63"
      },
      "source": [
        "# Finds correlation between Independent and dependent attributes\n",
        "plt.figure(figsize = (18,18))\n",
        "sns.heatmap(dataset2.corr(), annot = True, cmap = \"coolwarm\")\n",
        "plt.show()"
      ],
      "execution_count": null,
      "outputs": [
        {
          "output_type": "display_data",
          "data": {
            "image/png": "[encoded data removed]",
            "text/plain": [
              "<Figure size 1296x1296 with 2 Axes>"
            ]
          },
          "metadata": {
            "tags": []
          }
        }
      ]
    },
    {
      "cell_type": "code",
      "metadata": {
        "id": "r1b812Nutq4Z"
      },
      "source": [
        "# Concatenate dataframe\n",
        "dataframe = pd.concat([dataset2, airline, priceCategory], axis = 1)"
      ],
      "execution_count": null,
      "outputs": []
    },
    {
      "cell_type": "code",
      "metadata": {
        "id": "xSrBdZ_Xtq4Z"
      },
      "source": [
        "dataframe1 = dataframe.drop(['airline','priceCategory'],axis = 1)"
      ],
      "execution_count": null,
      "outputs": []
    },
    {
      "cell_type": "code",
      "metadata": {
        "colab": {
          "base_uri": "https://localhost:8080/",
          "height": 999
        },
        "id": "Dcfhui08tq4a",
        "outputId": "1a1e794f-8c7f-4a55-a10e-f5839d68ddee"
      },
      "source": [
        "dataframe1.head()\n",
        "dataframe1.tail(10)\n",
        "pd.DataFrame.drop_duplicates(dataframe1)\n",
        "dataframe1.tail(30)"
      ],
      "execution_count": null,
      "outputs": [
        {
          "output_type": "execute_result",
          "data": {
            "text/html": [
              "<div>\n",
              "<style scoped>\n",
              "    .dataframe tbody tr th:only-of-type {\n",
              "        vertical-align: middle;\n",
              "    }\n",
              "\n",
              "    .dataframe tbody tr th {\n",
              "        vertical-align: top;\n",
              "    }\n",
              "\n",
              "    .dataframe thead th {\n",
              "        text-align: right;\n",
              "    }\n",
              "</style>\n",
              "<table border=\"1\" class=\"dataframe\">\n",
              "  <thead>\n",
              "    <tr style=\"text-align: right;\">\n",
              "      <th></th>\n",
              "      <th>cabinClass</th>\n",
              "      <th>price</th>\n",
              "      <th>rate</th>\n",
              "      <th>dateDifference</th>\n",
              "      <th>depMonth</th>\n",
              "      <th>depDay</th>\n",
              "      <th>depHour</th>\n",
              "      <th>creMonth</th>\n",
              "      <th>creDate</th>\n",
              "      <th>creHour</th>\n",
              "      <th>airline_CZ</th>\n",
              "      <th>airline_FM</th>\n",
              "      <th>airline_HO</th>\n",
              "      <th>airline_HU</th>\n",
              "      <th>airline_MF</th>\n",
              "      <th>airline_MU</th>\n",
              "      <th>priceCategory_cat2</th>\n",
              "      <th>priceCategory_cat3</th>\n",
              "      <th>priceCategory_cat4</th>\n",
              "      <th>priceCategory_cat5</th>\n",
              "    </tr>\n",
              "  </thead>\n",
              "  <tbody>\n",
              "    <tr>\n",
              "      <th>568880</th>\n",
              "      <td>1.0</td>\n",
              "      <td>670.0</td>\n",
              "      <td>0.45</td>\n",
              "      <td>7.0</td>\n",
              "      <td>7.0</td>\n",
              "      <td>6.0</td>\n",
              "      <td>21.0</td>\n",
              "      <td>7.0</td>\n",
              "      <td>14.0</td>\n",
              "      <td>23.0</td>\n",
              "      <td>0</td>\n",
              "      <td>0</td>\n",
              "      <td>0</td>\n",
              "      <td>0</td>\n",
              "      <td>0</td>\n",
              "      <td>1</td>\n",
              "      <td>0</td>\n",
              "      <td>0</td>\n",
              "      <td>0</td>\n",
              "      <td>0</td>\n",
              "    </tr>\n",
              "    <tr>\n",
              "      <th>568881</th>\n",
              "      <td>1.0</td>\n",
              "      <td>670.0</td>\n",
              "      <td>0.45</td>\n",
              "      <td>7.0</td>\n",
              "      <td>7.0</td>\n",
              "      <td>6.0</td>\n",
              "      <td>21.0</td>\n",
              "      <td>7.0</td>\n",
              "      <td>14.0</td>\n",
              "      <td>23.0</td>\n",
              "      <td>0</td>\n",
              "      <td>0</td>\n",
              "      <td>0</td>\n",
              "      <td>0</td>\n",
              "      <td>0</td>\n",
              "      <td>1</td>\n",
              "      <td>0</td>\n",
              "      <td>0</td>\n",
              "      <td>0</td>\n",
              "      <td>0</td>\n",
              "    </tr>\n",
              "    <tr>\n",
              "      <th>568882</th>\n",
              "      <td>1.0</td>\n",
              "      <td>720.0</td>\n",
              "      <td>0.49</td>\n",
              "      <td>7.0</td>\n",
              "      <td>7.0</td>\n",
              "      <td>6.0</td>\n",
              "      <td>21.0</td>\n",
              "      <td>7.0</td>\n",
              "      <td>14.0</td>\n",
              "      <td>23.0</td>\n",
              "      <td>0</td>\n",
              "      <td>0</td>\n",
              "      <td>0</td>\n",
              "      <td>0</td>\n",
              "      <td>0</td>\n",
              "      <td>1</td>\n",
              "      <td>0</td>\n",
              "      <td>0</td>\n",
              "      <td>0</td>\n",
              "      <td>0</td>\n",
              "    </tr>\n",
              "    <tr>\n",
              "      <th>568883</th>\n",
              "      <td>1.0</td>\n",
              "      <td>760.0</td>\n",
              "      <td>0.52</td>\n",
              "      <td>7.0</td>\n",
              "      <td>7.0</td>\n",
              "      <td>6.0</td>\n",
              "      <td>21.0</td>\n",
              "      <td>7.0</td>\n",
              "      <td>14.0</td>\n",
              "      <td>23.0</td>\n",
              "      <td>0</td>\n",
              "      <td>0</td>\n",
              "      <td>0</td>\n",
              "      <td>0</td>\n",
              "      <td>0</td>\n",
              "      <td>1</td>\n",
              "      <td>0</td>\n",
              "      <td>0</td>\n",
              "      <td>0</td>\n",
              "      <td>0</td>\n",
              "    </tr>\n",
              "    <tr>\n",
              "      <th>568884</th>\n",
              "      <td>1.0</td>\n",
              "      <td>640.0</td>\n",
              "      <td>0.43</td>\n",
              "      <td>7.0</td>\n",
              "      <td>7.0</td>\n",
              "      <td>6.0</td>\n",
              "      <td>21.0</td>\n",
              "      <td>7.0</td>\n",
              "      <td>14.0</td>\n",
              "      <td>23.0</td>\n",
              "      <td>0</td>\n",
              "      <td>0</td>\n",
              "      <td>0</td>\n",
              "      <td>0</td>\n",
              "      <td>0</td>\n",
              "      <td>1</td>\n",
              "      <td>0</td>\n",
              "      <td>0</td>\n",
              "      <td>0</td>\n",
              "      <td>0</td>\n",
              "    </tr>\n",
              "    <tr>\n",
              "      <th>568885</th>\n",
              "      <td>1.0</td>\n",
              "      <td>1490.0</td>\n",
              "      <td>1.00</td>\n",
              "      <td>7.0</td>\n",
              "      <td>7.0</td>\n",
              "      <td>6.0</td>\n",
              "      <td>21.0</td>\n",
              "      <td>7.0</td>\n",
              "      <td>14.0</td>\n",
              "      <td>23.0</td>\n",
              "      <td>0</td>\n",
              "      <td>0</td>\n",
              "      <td>0</td>\n",
              "      <td>0</td>\n",
              "      <td>0</td>\n",
              "      <td>1</td>\n",
              "      <td>0</td>\n",
              "      <td>0</td>\n",
              "      <td>0</td>\n",
              "      <td>0</td>\n",
              "    </tr>\n",
              "    <tr>\n",
              "      <th>568886</th>\n",
              "      <td>1.0</td>\n",
              "      <td>670.0</td>\n",
              "      <td>0.50</td>\n",
              "      <td>7.0</td>\n",
              "      <td>7.0</td>\n",
              "      <td>6.0</td>\n",
              "      <td>21.0</td>\n",
              "      <td>7.0</td>\n",
              "      <td>14.0</td>\n",
              "      <td>23.0</td>\n",
              "      <td>0</td>\n",
              "      <td>1</td>\n",
              "      <td>0</td>\n",
              "      <td>0</td>\n",
              "      <td>0</td>\n",
              "      <td>0</td>\n",
              "      <td>0</td>\n",
              "      <td>0</td>\n",
              "      <td>0</td>\n",
              "      <td>0</td>\n",
              "    </tr>\n",
              "    <tr>\n",
              "      <th>568887</th>\n",
              "      <td>1.0</td>\n",
              "      <td>670.0</td>\n",
              "      <td>0.50</td>\n",
              "      <td>7.0</td>\n",
              "      <td>7.0</td>\n",
              "      <td>6.0</td>\n",
              "      <td>21.0</td>\n",
              "      <td>7.0</td>\n",
              "      <td>14.0</td>\n",
              "      <td>23.0</td>\n",
              "      <td>0</td>\n",
              "      <td>1</td>\n",
              "      <td>0</td>\n",
              "      <td>0</td>\n",
              "      <td>0</td>\n",
              "      <td>0</td>\n",
              "      <td>0</td>\n",
              "      <td>0</td>\n",
              "      <td>0</td>\n",
              "      <td>0</td>\n",
              "    </tr>\n",
              "    <tr>\n",
              "      <th>568888</th>\n",
              "      <td>1.0</td>\n",
              "      <td>670.0</td>\n",
              "      <td>0.50</td>\n",
              "      <td>7.0</td>\n",
              "      <td>7.0</td>\n",
              "      <td>6.0</td>\n",
              "      <td>21.0</td>\n",
              "      <td>7.0</td>\n",
              "      <td>14.0</td>\n",
              "      <td>23.0</td>\n",
              "      <td>0</td>\n",
              "      <td>1</td>\n",
              "      <td>0</td>\n",
              "      <td>0</td>\n",
              "      <td>0</td>\n",
              "      <td>0</td>\n",
              "      <td>0</td>\n",
              "      <td>0</td>\n",
              "      <td>0</td>\n",
              "      <td>0</td>\n",
              "    </tr>\n",
              "    <tr>\n",
              "      <th>568889</th>\n",
              "      <td>1.0</td>\n",
              "      <td>720.0</td>\n",
              "      <td>0.53</td>\n",
              "      <td>7.0</td>\n",
              "      <td>7.0</td>\n",
              "      <td>6.0</td>\n",
              "      <td>21.0</td>\n",
              "      <td>7.0</td>\n",
              "      <td>14.0</td>\n",
              "      <td>23.0</td>\n",
              "      <td>0</td>\n",
              "      <td>1</td>\n",
              "      <td>0</td>\n",
              "      <td>0</td>\n",
              "      <td>0</td>\n",
              "      <td>0</td>\n",
              "      <td>0</td>\n",
              "      <td>0</td>\n",
              "      <td>0</td>\n",
              "      <td>0</td>\n",
              "    </tr>\n",
              "    <tr>\n",
              "      <th>568890</th>\n",
              "      <td>1.0</td>\n",
              "      <td>760.0</td>\n",
              "      <td>0.56</td>\n",
              "      <td>7.0</td>\n",
              "      <td>7.0</td>\n",
              "      <td>6.0</td>\n",
              "      <td>21.0</td>\n",
              "      <td>7.0</td>\n",
              "      <td>14.0</td>\n",
              "      <td>23.0</td>\n",
              "      <td>0</td>\n",
              "      <td>1</td>\n",
              "      <td>0</td>\n",
              "      <td>0</td>\n",
              "      <td>0</td>\n",
              "      <td>0</td>\n",
              "      <td>0</td>\n",
              "      <td>0</td>\n",
              "      <td>0</td>\n",
              "      <td>0</td>\n",
              "    </tr>\n",
              "    <tr>\n",
              "      <th>568891</th>\n",
              "      <td>1.0</td>\n",
              "      <td>610.0</td>\n",
              "      <td>0.45</td>\n",
              "      <td>7.0</td>\n",
              "      <td>7.0</td>\n",
              "      <td>6.0</td>\n",
              "      <td>21.0</td>\n",
              "      <td>7.0</td>\n",
              "      <td>14.0</td>\n",
              "      <td>23.0</td>\n",
              "      <td>0</td>\n",
              "      <td>1</td>\n",
              "      <td>0</td>\n",
              "      <td>0</td>\n",
              "      <td>0</td>\n",
              "      <td>0</td>\n",
              "      <td>1</td>\n",
              "      <td>0</td>\n",
              "      <td>0</td>\n",
              "      <td>0</td>\n",
              "    </tr>\n",
              "    <tr>\n",
              "      <th>568892</th>\n",
              "      <td>1.0</td>\n",
              "      <td>1360.0</td>\n",
              "      <td>1.00</td>\n",
              "      <td>7.0</td>\n",
              "      <td>7.0</td>\n",
              "      <td>6.0</td>\n",
              "      <td>21.0</td>\n",
              "      <td>7.0</td>\n",
              "      <td>14.0</td>\n",
              "      <td>23.0</td>\n",
              "      <td>0</td>\n",
              "      <td>1</td>\n",
              "      <td>0</td>\n",
              "      <td>0</td>\n",
              "      <td>0</td>\n",
              "      <td>0</td>\n",
              "      <td>0</td>\n",
              "      <td>0</td>\n",
              "      <td>0</td>\n",
              "      <td>0</td>\n",
              "    </tr>\n",
              "    <tr>\n",
              "      <th>568893</th>\n",
              "      <td>1.0</td>\n",
              "      <td>810.0</td>\n",
              "      <td>0.55</td>\n",
              "      <td>7.0</td>\n",
              "      <td>7.0</td>\n",
              "      <td>6.0</td>\n",
              "      <td>21.0</td>\n",
              "      <td>7.0</td>\n",
              "      <td>14.0</td>\n",
              "      <td>23.0</td>\n",
              "      <td>0</td>\n",
              "      <td>0</td>\n",
              "      <td>0</td>\n",
              "      <td>0</td>\n",
              "      <td>0</td>\n",
              "      <td>0</td>\n",
              "      <td>0</td>\n",
              "      <td>0</td>\n",
              "      <td>0</td>\n",
              "      <td>0</td>\n",
              "    </tr>\n",
              "    <tr>\n",
              "      <th>568894</th>\n",
              "      <td>1.0</td>\n",
              "      <td>830.0</td>\n",
              "      <td>0.56</td>\n",
              "      <td>7.0</td>\n",
              "      <td>7.0</td>\n",
              "      <td>6.0</td>\n",
              "      <td>21.0</td>\n",
              "      <td>7.0</td>\n",
              "      <td>14.0</td>\n",
              "      <td>23.0</td>\n",
              "      <td>0</td>\n",
              "      <td>0</td>\n",
              "      <td>0</td>\n",
              "      <td>0</td>\n",
              "      <td>0</td>\n",
              "      <td>0</td>\n",
              "      <td>0</td>\n",
              "      <td>0</td>\n",
              "      <td>0</td>\n",
              "      <td>0</td>\n",
              "    </tr>\n",
              "    <tr>\n",
              "      <th>568895</th>\n",
              "      <td>1.0</td>\n",
              "      <td>810.0</td>\n",
              "      <td>0.55</td>\n",
              "      <td>7.0</td>\n",
              "      <td>7.0</td>\n",
              "      <td>6.0</td>\n",
              "      <td>21.0</td>\n",
              "      <td>7.0</td>\n",
              "      <td>14.0</td>\n",
              "      <td>23.0</td>\n",
              "      <td>0</td>\n",
              "      <td>0</td>\n",
              "      <td>0</td>\n",
              "      <td>0</td>\n",
              "      <td>0</td>\n",
              "      <td>0</td>\n",
              "      <td>0</td>\n",
              "      <td>0</td>\n",
              "      <td>0</td>\n",
              "      <td>0</td>\n",
              "    </tr>\n",
              "    <tr>\n",
              "      <th>568896</th>\n",
              "      <td>1.0</td>\n",
              "      <td>830.0</td>\n",
              "      <td>0.56</td>\n",
              "      <td>7.0</td>\n",
              "      <td>7.0</td>\n",
              "      <td>6.0</td>\n",
              "      <td>21.0</td>\n",
              "      <td>7.0</td>\n",
              "      <td>14.0</td>\n",
              "      <td>23.0</td>\n",
              "      <td>0</td>\n",
              "      <td>0</td>\n",
              "      <td>0</td>\n",
              "      <td>0</td>\n",
              "      <td>0</td>\n",
              "      <td>0</td>\n",
              "      <td>0</td>\n",
              "      <td>0</td>\n",
              "      <td>0</td>\n",
              "      <td>0</td>\n",
              "    </tr>\n",
              "    <tr>\n",
              "      <th>568897</th>\n",
              "      <td>1.0</td>\n",
              "      <td>1490.0</td>\n",
              "      <td>1.00</td>\n",
              "      <td>7.0</td>\n",
              "      <td>7.0</td>\n",
              "      <td>6.0</td>\n",
              "      <td>21.0</td>\n",
              "      <td>7.0</td>\n",
              "      <td>14.0</td>\n",
              "      <td>23.0</td>\n",
              "      <td>0</td>\n",
              "      <td>0</td>\n",
              "      <td>0</td>\n",
              "      <td>0</td>\n",
              "      <td>0</td>\n",
              "      <td>0</td>\n",
              "      <td>0</td>\n",
              "      <td>0</td>\n",
              "      <td>0</td>\n",
              "      <td>0</td>\n",
              "    </tr>\n",
              "    <tr>\n",
              "      <th>568898</th>\n",
              "      <td>1.0</td>\n",
              "      <td>980.0</td>\n",
              "      <td>0.66</td>\n",
              "      <td>7.0</td>\n",
              "      <td>7.0</td>\n",
              "      <td>6.0</td>\n",
              "      <td>21.0</td>\n",
              "      <td>7.0</td>\n",
              "      <td>14.0</td>\n",
              "      <td>23.0</td>\n",
              "      <td>0</td>\n",
              "      <td>0</td>\n",
              "      <td>0</td>\n",
              "      <td>0</td>\n",
              "      <td>0</td>\n",
              "      <td>0</td>\n",
              "      <td>0</td>\n",
              "      <td>0</td>\n",
              "      <td>0</td>\n",
              "      <td>0</td>\n",
              "    </tr>\n",
              "    <tr>\n",
              "      <th>568899</th>\n",
              "      <td>1.0</td>\n",
              "      <td>1130.0</td>\n",
              "      <td>0.76</td>\n",
              "      <td>7.0</td>\n",
              "      <td>7.0</td>\n",
              "      <td>6.0</td>\n",
              "      <td>21.0</td>\n",
              "      <td>7.0</td>\n",
              "      <td>14.0</td>\n",
              "      <td>23.0</td>\n",
              "      <td>0</td>\n",
              "      <td>0</td>\n",
              "      <td>0</td>\n",
              "      <td>0</td>\n",
              "      <td>0</td>\n",
              "      <td>0</td>\n",
              "      <td>1</td>\n",
              "      <td>0</td>\n",
              "      <td>0</td>\n",
              "      <td>0</td>\n",
              "    </tr>\n",
              "    <tr>\n",
              "      <th>568900</th>\n",
              "      <td>1.0</td>\n",
              "      <td>1210.0</td>\n",
              "      <td>0.82</td>\n",
              "      <td>7.0</td>\n",
              "      <td>7.0</td>\n",
              "      <td>6.0</td>\n",
              "      <td>21.0</td>\n",
              "      <td>7.0</td>\n",
              "      <td>14.0</td>\n",
              "      <td>23.0</td>\n",
              "      <td>0</td>\n",
              "      <td>0</td>\n",
              "      <td>0</td>\n",
              "      <td>0</td>\n",
              "      <td>0</td>\n",
              "      <td>0</td>\n",
              "      <td>0</td>\n",
              "      <td>0</td>\n",
              "      <td>0</td>\n",
              "      <td>0</td>\n",
              "    </tr>\n",
              "    <tr>\n",
              "      <th>568901</th>\n",
              "      <td>1.0</td>\n",
              "      <td>1140.0</td>\n",
              "      <td>0.77</td>\n",
              "      <td>7.0</td>\n",
              "      <td>7.0</td>\n",
              "      <td>6.0</td>\n",
              "      <td>21.0</td>\n",
              "      <td>7.0</td>\n",
              "      <td>14.0</td>\n",
              "      <td>23.0</td>\n",
              "      <td>0</td>\n",
              "      <td>0</td>\n",
              "      <td>1</td>\n",
              "      <td>0</td>\n",
              "      <td>0</td>\n",
              "      <td>0</td>\n",
              "      <td>1</td>\n",
              "      <td>0</td>\n",
              "      <td>0</td>\n",
              "      <td>0</td>\n",
              "    </tr>\n",
              "    <tr>\n",
              "      <th>568902</th>\n",
              "      <td>1.0</td>\n",
              "      <td>1070.0</td>\n",
              "      <td>0.72</td>\n",
              "      <td>7.0</td>\n",
              "      <td>7.0</td>\n",
              "      <td>6.0</td>\n",
              "      <td>21.0</td>\n",
              "      <td>7.0</td>\n",
              "      <td>14.0</td>\n",
              "      <td>23.0</td>\n",
              "      <td>0</td>\n",
              "      <td>0</td>\n",
              "      <td>1</td>\n",
              "      <td>0</td>\n",
              "      <td>0</td>\n",
              "      <td>0</td>\n",
              "      <td>1</td>\n",
              "      <td>0</td>\n",
              "      <td>0</td>\n",
              "      <td>0</td>\n",
              "    </tr>\n",
              "    <tr>\n",
              "      <th>568903</th>\n",
              "      <td>1.0</td>\n",
              "      <td>1065.0</td>\n",
              "      <td>0.72</td>\n",
              "      <td>7.0</td>\n",
              "      <td>7.0</td>\n",
              "      <td>6.0</td>\n",
              "      <td>21.0</td>\n",
              "      <td>7.0</td>\n",
              "      <td>14.0</td>\n",
              "      <td>23.0</td>\n",
              "      <td>0</td>\n",
              "      <td>0</td>\n",
              "      <td>1</td>\n",
              "      <td>0</td>\n",
              "      <td>0</td>\n",
              "      <td>0</td>\n",
              "      <td>1</td>\n",
              "      <td>0</td>\n",
              "      <td>0</td>\n",
              "      <td>0</td>\n",
              "    </tr>\n",
              "    <tr>\n",
              "      <th>568904</th>\n",
              "      <td>1.0</td>\n",
              "      <td>1070.0</td>\n",
              "      <td>0.72</td>\n",
              "      <td>7.0</td>\n",
              "      <td>7.0</td>\n",
              "      <td>6.0</td>\n",
              "      <td>21.0</td>\n",
              "      <td>7.0</td>\n",
              "      <td>14.0</td>\n",
              "      <td>23.0</td>\n",
              "      <td>0</td>\n",
              "      <td>0</td>\n",
              "      <td>1</td>\n",
              "      <td>0</td>\n",
              "      <td>0</td>\n",
              "      <td>0</td>\n",
              "      <td>1</td>\n",
              "      <td>0</td>\n",
              "      <td>0</td>\n",
              "      <td>0</td>\n",
              "    </tr>\n",
              "    <tr>\n",
              "      <th>568905</th>\n",
              "      <td>1.0</td>\n",
              "      <td>1190.0</td>\n",
              "      <td>0.80</td>\n",
              "      <td>7.0</td>\n",
              "      <td>7.0</td>\n",
              "      <td>6.0</td>\n",
              "      <td>21.0</td>\n",
              "      <td>7.0</td>\n",
              "      <td>14.0</td>\n",
              "      <td>23.0</td>\n",
              "      <td>0</td>\n",
              "      <td>0</td>\n",
              "      <td>1</td>\n",
              "      <td>0</td>\n",
              "      <td>0</td>\n",
              "      <td>0</td>\n",
              "      <td>1</td>\n",
              "      <td>0</td>\n",
              "      <td>0</td>\n",
              "      <td>0</td>\n",
              "    </tr>\n",
              "    <tr>\n",
              "      <th>568906</th>\n",
              "      <td>1.0</td>\n",
              "      <td>1042.0</td>\n",
              "      <td>0.70</td>\n",
              "      <td>7.0</td>\n",
              "      <td>7.0</td>\n",
              "      <td>6.0</td>\n",
              "      <td>21.0</td>\n",
              "      <td>7.0</td>\n",
              "      <td>14.0</td>\n",
              "      <td>23.0</td>\n",
              "      <td>0</td>\n",
              "      <td>0</td>\n",
              "      <td>1</td>\n",
              "      <td>0</td>\n",
              "      <td>0</td>\n",
              "      <td>0</td>\n",
              "      <td>1</td>\n",
              "      <td>0</td>\n",
              "      <td>0</td>\n",
              "      <td>0</td>\n",
              "    </tr>\n",
              "    <tr>\n",
              "      <th>568907</th>\n",
              "      <td>1.0</td>\n",
              "      <td>1050.0</td>\n",
              "      <td>0.71</td>\n",
              "      <td>7.0</td>\n",
              "      <td>7.0</td>\n",
              "      <td>6.0</td>\n",
              "      <td>21.0</td>\n",
              "      <td>7.0</td>\n",
              "      <td>14.0</td>\n",
              "      <td>23.0</td>\n",
              "      <td>0</td>\n",
              "      <td>0</td>\n",
              "      <td>1</td>\n",
              "      <td>0</td>\n",
              "      <td>0</td>\n",
              "      <td>0</td>\n",
              "      <td>1</td>\n",
              "      <td>0</td>\n",
              "      <td>0</td>\n",
              "      <td>0</td>\n",
              "    </tr>\n",
              "    <tr>\n",
              "      <th>568908</th>\n",
              "      <td>1.0</td>\n",
              "      <td>1090.0</td>\n",
              "      <td>0.74</td>\n",
              "      <td>7.0</td>\n",
              "      <td>7.0</td>\n",
              "      <td>6.0</td>\n",
              "      <td>21.0</td>\n",
              "      <td>7.0</td>\n",
              "      <td>14.0</td>\n",
              "      <td>23.0</td>\n",
              "      <td>0</td>\n",
              "      <td>0</td>\n",
              "      <td>1</td>\n",
              "      <td>0</td>\n",
              "      <td>0</td>\n",
              "      <td>0</td>\n",
              "      <td>1</td>\n",
              "      <td>0</td>\n",
              "      <td>0</td>\n",
              "      <td>0</td>\n",
              "    </tr>\n",
              "    <tr>\n",
              "      <th>568909</th>\n",
              "      <td>1.0</td>\n",
              "      <td>1490.0</td>\n",
              "      <td>1.00</td>\n",
              "      <td>7.0</td>\n",
              "      <td>7.0</td>\n",
              "      <td>6.0</td>\n",
              "      <td>21.0</td>\n",
              "      <td>7.0</td>\n",
              "      <td>14.0</td>\n",
              "      <td>23.0</td>\n",
              "      <td>0</td>\n",
              "      <td>0</td>\n",
              "      <td>1</td>\n",
              "      <td>0</td>\n",
              "      <td>0</td>\n",
              "      <td>0</td>\n",
              "      <td>0</td>\n",
              "      <td>0</td>\n",
              "      <td>0</td>\n",
              "      <td>0</td>\n",
              "    </tr>\n",
              "  </tbody>\n",
              "</table>\n",
              "</div>"
            ],
            "text/plain": [
              "        cabinClass   price  rate  dateDifference  depMonth  depDay  depHour  \\\n",
              "568880         1.0   670.0  0.45             7.0       7.0     6.0     21.0   \n",
              "568881         1.0   670.0  0.45             7.0       7.0     6.0     21.0   \n",
              "568882         1.0   720.0  0.49             7.0       7.0     6.0     21.0   \n",
              "568883         1.0   760.0  0.52             7.0       7.0     6.0     21.0   \n",
              "568884         1.0   640.0  0.43             7.0       7.0     6.0     21.0   \n",
              "568885         1.0  1490.0  1.00             7.0       7.0     6.0     21.0   \n",
              "568886         1.0   670.0  0.50             7.0       7.0     6.0     21.0   \n",
              "568887         1.0   670.0  0.50             7.0       7.0     6.0     21.0   \n",
              "568888         1.0   670.0  0.50             7.0       7.0     6.0     21.0   \n",
              "568889         1.0   720.0  0.53             7.0       7.0     6.0     21.0   \n",
              "568890         1.0   760.0  0.56             7.0       7.0     6.0     21.0   \n",
              "568891         1.0   610.0  0.45             7.0       7.0     6.0     21.0   \n",
              "568892         1.0  1360.0  1.00             7.0       7.0     6.0     21.0   \n",
              "568893         1.0   810.0  0.55             7.0       7.0     6.0     21.0   \n",
              "568894         1.0   830.0  0.56             7.0       7.0     6.0     21.0   \n",
              "568895         1.0   810.0  0.55             7.0       7.0     6.0     21.0   \n",
              "568896         1.0   830.0  0.56             7.0       7.0     6.0     21.0   \n",
              "568897         1.0  1490.0  1.00             7.0       7.0     6.0     21.0   \n",
              "568898         1.0   980.0  0.66             7.0       7.0     6.0     21.0   \n",
              "568899         1.0  1130.0  0.76             7.0       7.0     6.0     21.0   \n",
              "568900         1.0  1210.0  0.82             7.0       7.0     6.0     21.0   \n",
              "568901         1.0  1140.0  0.77             7.0       7.0     6.0     21.0   \n",
              "568902         1.0  1070.0  0.72             7.0       7.0     6.0     21.0   \n",
              "568903         1.0  1065.0  0.72             7.0       7.0     6.0     21.0   \n",
              "568904         1.0  1070.0  0.72             7.0       7.0     6.0     21.0   \n",
              "568905         1.0  1190.0  0.80             7.0       7.0     6.0     21.0   \n",
              "568906         1.0  1042.0  0.70             7.0       7.0     6.0     21.0   \n",
              "568907         1.0  1050.0  0.71             7.0       7.0     6.0     21.0   \n",
              "568908         1.0  1090.0  0.74             7.0       7.0     6.0     21.0   \n",
              "568909         1.0  1490.0  1.00             7.0       7.0     6.0     21.0   \n",
              "\n",
              "        creMonth  creDate  creHour  airline_CZ  airline_FM  airline_HO  \\\n",
              "568880       7.0     14.0     23.0           0           0           0   \n",
              "568881       7.0     14.0     23.0           0           0           0   \n",
              "568882       7.0     14.0     23.0           0           0           0   \n",
              "568883       7.0     14.0     23.0           0           0           0   \n",
              "568884       7.0     14.0     23.0           0           0           0   \n",
              "568885       7.0     14.0     23.0           0           0           0   \n",
              "568886       7.0     14.0     23.0           0           1           0   \n",
              "568887       7.0     14.0     23.0           0           1           0   \n",
              "568888       7.0     14.0     23.0           0           1           0   \n",
              "568889       7.0     14.0     23.0           0           1           0   \n",
              "568890       7.0     14.0     23.0           0           1           0   \n",
              "568891       7.0     14.0     23.0           0           1           0   \n",
              "568892       7.0     14.0     23.0           0           1           0   \n",
              "568893       7.0     14.0     23.0           0           0           0   \n",
              "568894       7.0     14.0     23.0           0           0           0   \n",
              "568895       7.0     14.0     23.0           0           0           0   \n",
              "568896       7.0     14.0     23.0           0           0           0   \n",
              "568897       7.0     14.0     23.0           0           0           0   \n",
              "568898       7.0     14.0     23.0           0           0           0   \n",
              "568899       7.0     14.0     23.0           0           0           0   \n",
              "568900       7.0     14.0     23.0           0           0           0   \n",
              "568901       7.0     14.0     23.0           0           0           1   \n",
              "568902       7.0     14.0     23.0           0           0           1   \n",
              "568903       7.0     14.0     23.0           0           0           1   \n",
              "568904       7.0     14.0     23.0           0           0           1   \n",
              "568905       7.0     14.0     23.0           0           0           1   \n",
              "568906       7.0     14.0     23.0           0           0           1   \n",
              "568907       7.0     14.0     23.0           0           0           1   \n",
              "568908       7.0     14.0     23.0           0           0           1   \n",
              "568909       7.0     14.0     23.0           0           0           1   \n",
              "\n",
              "        airline_HU  airline_MF  airline_MU  priceCategory_cat2  \\\n",
              "568880           0           0           1                   0   \n",
              "568881           0           0           1                   0   \n",
              "568882           0           0           1                   0   \n",
              "568883           0           0           1                   0   \n",
              "568884           0           0           1                   0   \n",
              "568885           0           0           1                   0   \n",
              "568886           0           0           0                   0   \n",
              "568887           0           0           0                   0   \n",
              "568888           0           0           0                   0   \n",
              "568889           0           0           0                   0   \n",
              "568890           0           0           0                   0   \n",
              "568891           0           0           0                   1   \n",
              "568892           0           0           0                   0   \n",
              "568893           0           0           0                   0   \n",
              "568894           0           0           0                   0   \n",
              "568895           0           0           0                   0   \n",
              "568896           0           0           0                   0   \n",
              "568897           0           0           0                   0   \n",
              "568898           0           0           0                   0   \n",
              "568899           0           0           0                   1   \n",
              "568900           0           0           0                   0   \n",
              "568901           0           0           0                   1   \n",
              "568902           0           0           0                   1   \n",
              "568903           0           0           0                   1   \n",
              "568904           0           0           0                   1   \n",
              "568905           0           0           0                   1   \n",
              "568906           0           0           0                   1   \n",
              "568907           0           0           0                   1   \n",
              "568908           0           0           0                   1   \n",
              "568909           0           0           0                   0   \n",
              "\n",
              "        priceCategory_cat3  priceCategory_cat4  priceCategory_cat5  \n",
              "568880                   0                   0                   0  \n",
              "568881                   0                   0                   0  \n",
              "568882                   0                   0                   0  \n",
              "568883                   0                   0                   0  \n",
              "568884                   0                   0                   0  \n",
              "568885                   0                   0                   0  \n",
              "568886                   0                   0                   0  \n",
              "568887                   0                   0                   0  \n",
              "568888                   0                   0                   0  \n",
              "568889                   0                   0                   0  \n",
              "568890                   0                   0                   0  \n",
              "568891                   0                   0                   0  \n",
              "568892                   0                   0                   0  \n",
              "568893                   0                   0                   0  \n",
              "568894                   0                   0                   0  \n",
              "568895                   0                   0                   0  \n",
              "568896                   0                   0                   0  \n",
              "568897                   0                   0                   0  \n",
              "568898                   0                   0                   0  \n",
              "568899                   0                   0                   0  \n",
              "568900                   0                   0                   0  \n",
              "568901                   0                   0                   0  \n",
              "568902                   0                   0                   0  \n",
              "568903                   0                   0                   0  \n",
              "568904                   0                   0                   0  \n",
              "568905                   0                   0                   0  \n",
              "568906                   0                   0                   0  \n",
              "568907                   0                   0                   0  \n",
              "568908                   0                   0                   0  \n",
              "568909                   0                   0                   0  "
            ]
          },
          "metadata": {
            "tags": []
          },
          "execution_count": 103
        }
      ]
    },
    {
      "cell_type": "code",
      "metadata": {
        "colab": {
          "base_uri": "https://localhost:8080/"
        },
        "id": "n2g2BhIutq4a",
        "outputId": "26af0297-edf4-4dac-c9e4-04b051f76725"
      },
      "source": [
        "dataframe1.shape"
      ],
      "execution_count": null,
      "outputs": [
        {
          "output_type": "execute_result",
          "data": {
            "text/plain": [
              "(556645, 20)"
            ]
          },
          "metadata": {
            "tags": []
          },
          "execution_count": 104
        }
      ]
    },
    {
      "cell_type": "code",
      "metadata": {
        "id": "l3bIeRYjtq4b"
      },
      "source": [
        "dataframe2 = dataframe1.drop(['creHour','creDate','depDay'],axis =1)"
      ],
      "execution_count": null,
      "outputs": []
    },
    {
      "cell_type": "code",
      "metadata": {
        "colab": {
          "base_uri": "https://localhost:8080/",
          "height": 224
        },
        "id": "v_-932e0tq4b",
        "outputId": "0f3a2a8f-37a5-469c-f151-34e352d3c352"
      },
      "source": [
        "dataframe2.head()"
      ],
      "execution_count": null,
      "outputs": [
        {
          "output_type": "execute_result",
          "data": {
            "text/html": [
              "<div>\n",
              "<style scoped>\n",
              "    .dataframe tbody tr th:only-of-type {\n",
              "        vertical-align: middle;\n",
              "    }\n",
              "\n",
              "    .dataframe tbody tr th {\n",
              "        vertical-align: top;\n",
              "    }\n",
              "\n",
              "    .dataframe thead th {\n",
              "        text-align: right;\n",
              "    }\n",
              "</style>\n",
              "<table border=\"1\" class=\"dataframe\">\n",
              "  <thead>\n",
              "    <tr style=\"text-align: right;\">\n",
              "      <th></th>\n",
              "      <th>cabinClass</th>\n",
              "      <th>price</th>\n",
              "      <th>rate</th>\n",
              "      <th>dateDifference</th>\n",
              "      <th>depMonth</th>\n",
              "      <th>depHour</th>\n",
              "      <th>creMonth</th>\n",
              "      <th>airline_CZ</th>\n",
              "      <th>airline_FM</th>\n",
              "      <th>airline_HO</th>\n",
              "      <th>airline_HU</th>\n",
              "      <th>airline_MF</th>\n",
              "      <th>airline_MU</th>\n",
              "      <th>priceCategory_cat2</th>\n",
              "      <th>priceCategory_cat3</th>\n",
              "      <th>priceCategory_cat4</th>\n",
              "      <th>priceCategory_cat5</th>\n",
              "    </tr>\n",
              "  </thead>\n",
              "  <tbody>\n",
              "    <tr>\n",
              "      <th>0</th>\n",
              "      <td>2.0</td>\n",
              "      <td>1860.0</td>\n",
              "      <td>1.00</td>\n",
              "      <td>1.0</td>\n",
              "      <td>1.0</td>\n",
              "      <td>6.0</td>\n",
              "      <td>1.0</td>\n",
              "      <td>0</td>\n",
              "      <td>0</td>\n",
              "      <td>1</td>\n",
              "      <td>0</td>\n",
              "      <td>0</td>\n",
              "      <td>0</td>\n",
              "      <td>0</td>\n",
              "      <td>1</td>\n",
              "      <td>0</td>\n",
              "      <td>0</td>\n",
              "    </tr>\n",
              "    <tr>\n",
              "      <th>1</th>\n",
              "      <td>2.0</td>\n",
              "      <td>1640.0</td>\n",
              "      <td>0.31</td>\n",
              "      <td>1.0</td>\n",
              "      <td>1.0</td>\n",
              "      <td>7.0</td>\n",
              "      <td>1.0</td>\n",
              "      <td>0</td>\n",
              "      <td>0</td>\n",
              "      <td>0</td>\n",
              "      <td>0</td>\n",
              "      <td>0</td>\n",
              "      <td>1</td>\n",
              "      <td>1</td>\n",
              "      <td>0</td>\n",
              "      <td>0</td>\n",
              "      <td>0</td>\n",
              "    </tr>\n",
              "    <tr>\n",
              "      <th>2</th>\n",
              "      <td>2.0</td>\n",
              "      <td>5360.0</td>\n",
              "      <td>1.00</td>\n",
              "      <td>1.0</td>\n",
              "      <td>1.0</td>\n",
              "      <td>7.0</td>\n",
              "      <td>1.0</td>\n",
              "      <td>0</td>\n",
              "      <td>0</td>\n",
              "      <td>0</td>\n",
              "      <td>0</td>\n",
              "      <td>0</td>\n",
              "      <td>1</td>\n",
              "      <td>0</td>\n",
              "      <td>0</td>\n",
              "      <td>1</td>\n",
              "      <td>0</td>\n",
              "    </tr>\n",
              "    <tr>\n",
              "      <th>3</th>\n",
              "      <td>2.0</td>\n",
              "      <td>1635.0</td>\n",
              "      <td>0.29</td>\n",
              "      <td>1.0</td>\n",
              "      <td>1.0</td>\n",
              "      <td>7.0</td>\n",
              "      <td>1.0</td>\n",
              "      <td>0</td>\n",
              "      <td>0</td>\n",
              "      <td>0</td>\n",
              "      <td>1</td>\n",
              "      <td>0</td>\n",
              "      <td>0</td>\n",
              "      <td>1</td>\n",
              "      <td>0</td>\n",
              "      <td>0</td>\n",
              "      <td>0</td>\n",
              "    </tr>\n",
              "    <tr>\n",
              "      <th>4</th>\n",
              "      <td>2.0</td>\n",
              "      <td>1640.0</td>\n",
              "      <td>0.29</td>\n",
              "      <td>1.0</td>\n",
              "      <td>1.0</td>\n",
              "      <td>7.0</td>\n",
              "      <td>1.0</td>\n",
              "      <td>0</td>\n",
              "      <td>0</td>\n",
              "      <td>0</td>\n",
              "      <td>1</td>\n",
              "      <td>0</td>\n",
              "      <td>0</td>\n",
              "      <td>1</td>\n",
              "      <td>0</td>\n",
              "      <td>0</td>\n",
              "      <td>0</td>\n",
              "    </tr>\n",
              "  </tbody>\n",
              "</table>\n",
              "</div>"
            ],
            "text/plain": [
              "   cabinClass   price  rate  dateDifference  depMonth  depHour  creMonth  \\\n",
              "0         2.0  1860.0  1.00             1.0       1.0      6.0       1.0   \n",
              "1         2.0  1640.0  0.31             1.0       1.0      7.0       1.0   \n",
              "2         2.0  5360.0  1.00             1.0       1.0      7.0       1.0   \n",
              "3         2.0  1635.0  0.29             1.0       1.0      7.0       1.0   \n",
              "4         2.0  1640.0  0.29             1.0       1.0      7.0       1.0   \n",
              "\n",
              "   airline_CZ  airline_FM  airline_HO  airline_HU  airline_MF  airline_MU  \\\n",
              "0           0           0           1           0           0           0   \n",
              "1           0           0           0           0           0           1   \n",
              "2           0           0           0           0           0           1   \n",
              "3           0           0           0           1           0           0   \n",
              "4           0           0           0           1           0           0   \n",
              "\n",
              "   priceCategory_cat2  priceCategory_cat3  priceCategory_cat4  \\\n",
              "0                   0                   1                   0   \n",
              "1                   1                   0                   0   \n",
              "2                   0                   0                   1   \n",
              "3                   1                   0                   0   \n",
              "4                   1                   0                   0   \n",
              "\n",
              "   priceCategory_cat5  \n",
              "0                   0  \n",
              "1                   0  \n",
              "2                   0  \n",
              "3                   0  \n",
              "4                   0  "
            ]
          },
          "metadata": {
            "tags": []
          },
          "execution_count": 78
        }
      ]
    },
    {
      "cell_type": "code",
      "metadata": {
        "colab": {
          "base_uri": "https://localhost:8080/",
          "height": 439
        },
        "id": "75unYaeWtq4c",
        "outputId": "29d0fd28-74dd-4769-c135-5c057cf4ff1c"
      },
      "source": [
        "dataframe2.shape\n",
        "dataframe2.tail(10)\n",
        "pd.DataFrame.drop_duplicates(dataframe2)\n"
      ],
      "execution_count": null,
      "outputs": [
        {
          "output_type": "execute_result",
          "data": {
            "text/html": [
              "<div>\n",
              "<style scoped>\n",
              "    .dataframe tbody tr th:only-of-type {\n",
              "        vertical-align: middle;\n",
              "    }\n",
              "\n",
              "    .dataframe tbody tr th {\n",
              "        vertical-align: top;\n",
              "    }\n",
              "\n",
              "    .dataframe thead th {\n",
              "        text-align: right;\n",
              "    }\n",
              "</style>\n",
              "<table border=\"1\" class=\"dataframe\">\n",
              "  <thead>\n",
              "    <tr style=\"text-align: right;\">\n",
              "      <th></th>\n",
              "      <th>cabinClass</th>\n",
              "      <th>price</th>\n",
              "      <th>rate</th>\n",
              "      <th>dateDifference</th>\n",
              "      <th>depMonth</th>\n",
              "      <th>depHour</th>\n",
              "      <th>creMonth</th>\n",
              "      <th>airline_CZ</th>\n",
              "      <th>airline_FM</th>\n",
              "      <th>airline_HO</th>\n",
              "      <th>airline_HU</th>\n",
              "      <th>airline_MF</th>\n",
              "      <th>airline_MU</th>\n",
              "      <th>priceCategory_cat2</th>\n",
              "      <th>priceCategory_cat3</th>\n",
              "      <th>priceCategory_cat4</th>\n",
              "      <th>priceCategory_cat5</th>\n",
              "    </tr>\n",
              "  </thead>\n",
              "  <tbody>\n",
              "    <tr>\n",
              "      <th>0</th>\n",
              "      <td>2.0</td>\n",
              "      <td>1860.0</td>\n",
              "      <td>1.00</td>\n",
              "      <td>1.0</td>\n",
              "      <td>1.0</td>\n",
              "      <td>6.0</td>\n",
              "      <td>1.0</td>\n",
              "      <td>0</td>\n",
              "      <td>0</td>\n",
              "      <td>1</td>\n",
              "      <td>0</td>\n",
              "      <td>0</td>\n",
              "      <td>0</td>\n",
              "      <td>0</td>\n",
              "      <td>1</td>\n",
              "      <td>0</td>\n",
              "      <td>0</td>\n",
              "    </tr>\n",
              "    <tr>\n",
              "      <th>1</th>\n",
              "      <td>2.0</td>\n",
              "      <td>1640.0</td>\n",
              "      <td>0.31</td>\n",
              "      <td>1.0</td>\n",
              "      <td>1.0</td>\n",
              "      <td>7.0</td>\n",
              "      <td>1.0</td>\n",
              "      <td>0</td>\n",
              "      <td>0</td>\n",
              "      <td>0</td>\n",
              "      <td>0</td>\n",
              "      <td>0</td>\n",
              "      <td>1</td>\n",
              "      <td>1</td>\n",
              "      <td>0</td>\n",
              "      <td>0</td>\n",
              "      <td>0</td>\n",
              "    </tr>\n",
              "    <tr>\n",
              "      <th>2</th>\n",
              "      <td>2.0</td>\n",
              "      <td>5360.0</td>\n",
              "      <td>1.00</td>\n",
              "      <td>1.0</td>\n",
              "      <td>1.0</td>\n",
              "      <td>7.0</td>\n",
              "      <td>1.0</td>\n",
              "      <td>0</td>\n",
              "      <td>0</td>\n",
              "      <td>0</td>\n",
              "      <td>0</td>\n",
              "      <td>0</td>\n",
              "      <td>1</td>\n",
              "      <td>0</td>\n",
              "      <td>0</td>\n",
              "      <td>1</td>\n",
              "      <td>0</td>\n",
              "    </tr>\n",
              "    <tr>\n",
              "      <th>3</th>\n",
              "      <td>2.0</td>\n",
              "      <td>1635.0</td>\n",
              "      <td>0.29</td>\n",
              "      <td>1.0</td>\n",
              "      <td>1.0</td>\n",
              "      <td>7.0</td>\n",
              "      <td>1.0</td>\n",
              "      <td>0</td>\n",
              "      <td>0</td>\n",
              "      <td>0</td>\n",
              "      <td>1</td>\n",
              "      <td>0</td>\n",
              "      <td>0</td>\n",
              "      <td>1</td>\n",
              "      <td>0</td>\n",
              "      <td>0</td>\n",
              "      <td>0</td>\n",
              "    </tr>\n",
              "    <tr>\n",
              "      <th>4</th>\n",
              "      <td>2.0</td>\n",
              "      <td>1640.0</td>\n",
              "      <td>0.29</td>\n",
              "      <td>1.0</td>\n",
              "      <td>1.0</td>\n",
              "      <td>7.0</td>\n",
              "      <td>1.0</td>\n",
              "      <td>0</td>\n",
              "      <td>0</td>\n",
              "      <td>0</td>\n",
              "      <td>1</td>\n",
              "      <td>0</td>\n",
              "      <td>0</td>\n",
              "      <td>1</td>\n",
              "      <td>0</td>\n",
              "      <td>0</td>\n",
              "      <td>0</td>\n",
              "    </tr>\n",
              "    <tr>\n",
              "      <th>...</th>\n",
              "      <td>...</td>\n",
              "      <td>...</td>\n",
              "      <td>...</td>\n",
              "      <td>...</td>\n",
              "      <td>...</td>\n",
              "      <td>...</td>\n",
              "      <td>...</td>\n",
              "      <td>...</td>\n",
              "      <td>...</td>\n",
              "      <td>...</td>\n",
              "      <td>...</td>\n",
              "      <td>...</td>\n",
              "      <td>...</td>\n",
              "      <td>...</td>\n",
              "      <td>...</td>\n",
              "      <td>...</td>\n",
              "      <td>...</td>\n",
              "    </tr>\n",
              "    <tr>\n",
              "      <th>568903</th>\n",
              "      <td>1.0</td>\n",
              "      <td>1065.0</td>\n",
              "      <td>0.72</td>\n",
              "      <td>7.0</td>\n",
              "      <td>7.0</td>\n",
              "      <td>21.0</td>\n",
              "      <td>7.0</td>\n",
              "      <td>0</td>\n",
              "      <td>0</td>\n",
              "      <td>1</td>\n",
              "      <td>0</td>\n",
              "      <td>0</td>\n",
              "      <td>0</td>\n",
              "      <td>1</td>\n",
              "      <td>0</td>\n",
              "      <td>0</td>\n",
              "      <td>0</td>\n",
              "    </tr>\n",
              "    <tr>\n",
              "      <th>568905</th>\n",
              "      <td>1.0</td>\n",
              "      <td>1190.0</td>\n",
              "      <td>0.80</td>\n",
              "      <td>7.0</td>\n",
              "      <td>7.0</td>\n",
              "      <td>21.0</td>\n",
              "      <td>7.0</td>\n",
              "      <td>0</td>\n",
              "      <td>0</td>\n",
              "      <td>1</td>\n",
              "      <td>0</td>\n",
              "      <td>0</td>\n",
              "      <td>0</td>\n",
              "      <td>1</td>\n",
              "      <td>0</td>\n",
              "      <td>0</td>\n",
              "      <td>0</td>\n",
              "    </tr>\n",
              "    <tr>\n",
              "      <th>568906</th>\n",
              "      <td>1.0</td>\n",
              "      <td>1042.0</td>\n",
              "      <td>0.70</td>\n",
              "      <td>7.0</td>\n",
              "      <td>7.0</td>\n",
              "      <td>21.0</td>\n",
              "      <td>7.0</td>\n",
              "      <td>0</td>\n",
              "      <td>0</td>\n",
              "      <td>1</td>\n",
              "      <td>0</td>\n",
              "      <td>0</td>\n",
              "      <td>0</td>\n",
              "      <td>1</td>\n",
              "      <td>0</td>\n",
              "      <td>0</td>\n",
              "      <td>0</td>\n",
              "    </tr>\n",
              "    <tr>\n",
              "      <th>568907</th>\n",
              "      <td>1.0</td>\n",
              "      <td>1050.0</td>\n",
              "      <td>0.71</td>\n",
              "      <td>7.0</td>\n",
              "      <td>7.0</td>\n",
              "      <td>21.0</td>\n",
              "      <td>7.0</td>\n",
              "      <td>0</td>\n",
              "      <td>0</td>\n",
              "      <td>1</td>\n",
              "      <td>0</td>\n",
              "      <td>0</td>\n",
              "      <td>0</td>\n",
              "      <td>1</td>\n",
              "      <td>0</td>\n",
              "      <td>0</td>\n",
              "      <td>0</td>\n",
              "    </tr>\n",
              "    <tr>\n",
              "      <th>568908</th>\n",
              "      <td>1.0</td>\n",
              "      <td>1090.0</td>\n",
              "      <td>0.74</td>\n",
              "      <td>7.0</td>\n",
              "      <td>7.0</td>\n",
              "      <td>21.0</td>\n",
              "      <td>7.0</td>\n",
              "      <td>0</td>\n",
              "      <td>0</td>\n",
              "      <td>1</td>\n",
              "      <td>0</td>\n",
              "      <td>0</td>\n",
              "      <td>0</td>\n",
              "      <td>1</td>\n",
              "      <td>0</td>\n",
              "      <td>0</td>\n",
              "      <td>0</td>\n",
              "    </tr>\n",
              "  </tbody>\n",
              "</table>\n",
              "<p>95256 rows × 17 columns</p>\n",
              "</div>"
            ],
            "text/plain": [
              "        cabinClass   price  rate  dateDifference  depMonth  depHour  creMonth  \\\n",
              "0              2.0  1860.0  1.00             1.0       1.0      6.0       1.0   \n",
              "1              2.0  1640.0  0.31             1.0       1.0      7.0       1.0   \n",
              "2              2.0  5360.0  1.00             1.0       1.0      7.0       1.0   \n",
              "3              2.0  1635.0  0.29             1.0       1.0      7.0       1.0   \n",
              "4              2.0  1640.0  0.29             1.0       1.0      7.0       1.0   \n",
              "...            ...     ...   ...             ...       ...      ...       ...   \n",
              "568903         1.0  1065.0  0.72             7.0       7.0     21.0       7.0   \n",
              "568905         1.0  1190.0  0.80             7.0       7.0     21.0       7.0   \n",
              "568906         1.0  1042.0  0.70             7.0       7.0     21.0       7.0   \n",
              "568907         1.0  1050.0  0.71             7.0       7.0     21.0       7.0   \n",
              "568908         1.0  1090.0  0.74             7.0       7.0     21.0       7.0   \n",
              "\n",
              "        airline_CZ  airline_FM  airline_HO  airline_HU  airline_MF  \\\n",
              "0                0           0           1           0           0   \n",
              "1                0           0           0           0           0   \n",
              "2                0           0           0           0           0   \n",
              "3                0           0           0           1           0   \n",
              "4                0           0           0           1           0   \n",
              "...            ...         ...         ...         ...         ...   \n",
              "568903           0           0           1           0           0   \n",
              "568905           0           0           1           0           0   \n",
              "568906           0           0           1           0           0   \n",
              "568907           0           0           1           0           0   \n",
              "568908           0           0           1           0           0   \n",
              "\n",
              "        airline_MU  priceCategory_cat2  priceCategory_cat3  \\\n",
              "0                0                   0                   1   \n",
              "1                1                   1                   0   \n",
              "2                1                   0                   0   \n",
              "3                0                   1                   0   \n",
              "4                0                   1                   0   \n",
              "...            ...                 ...                 ...   \n",
              "568903           0                   1                   0   \n",
              "568905           0                   1                   0   \n",
              "568906           0                   1                   0   \n",
              "568907           0                   1                   0   \n",
              "568908           0                   1                   0   \n",
              "\n",
              "        priceCategory_cat4  priceCategory_cat5  \n",
              "0                        0                   0  \n",
              "1                        0                   0  \n",
              "2                        1                   0  \n",
              "3                        0                   0  \n",
              "4                        0                   0  \n",
              "...                    ...                 ...  \n",
              "568903                   0                   0  \n",
              "568905                   0                   0  \n",
              "568906                   0                   0  \n",
              "568907                   0                   0  \n",
              "568908                   0                   0  \n",
              "\n",
              "[95256 rows x 17 columns]"
            ]
          },
          "metadata": {
            "tags": []
          },
          "execution_count": 106
        }
      ]
    },
    {
      "cell_type": "code",
      "metadata": {
        "id": "dDq1d9Xn8lWN"
      },
      "source": [
        "feature_list =dataframe2.drop(['price'], axis = 1).columns"
      ],
      "execution_count": null,
      "outputs": []
    },
    {
      "cell_type": "markdown",
      "metadata": {
        "id": "6FKFNVrpLNkv"
      },
      "source": [
        "**Splitting the DataSet into X and y sets of** **Attributes**"
      ]
    },
    {
      "cell_type": "code",
      "metadata": {
        "colab": {
          "base_uri": "https://localhost:8080/"
        },
        "id": "dthkuIE49Deh",
        "outputId": "992acabc-10ef-4ef4-cbf1-e588df27caa9"
      },
      "source": [
        "X=dataframe2.drop(['price'], axis = 1).iloc[:,0:].values\n",
        "print(X)\n",
        "y=dataframe2.iloc[:,1].values\n",
        "print(y)"
      ],
      "execution_count": null,
      "outputs": [
        {
          "output_type": "stream",
          "text": [
            "[[2.   1.   1.   ... 1.   0.   0.  ]\n",
            " [2.   0.31 1.   ... 0.   0.   0.  ]\n",
            " [2.   1.   1.   ... 0.   1.   0.  ]\n",
            " ...\n",
            " [1.   0.71 7.   ... 0.   0.   0.  ]\n",
            " [1.   0.74 7.   ... 0.   0.   0.  ]\n",
            " [1.   1.   7.   ... 0.   0.   0.  ]]\n",
            "[1860. 1640. 5360. ... 1050. 1090. 1490.]\n"
          ],
          "name": "stdout"
        }
      ]
    },
    {
      "cell_type": "markdown",
      "metadata": {
        "id": "rlDVnSTeLnr4"
      },
      "source": [
        "**Split Data into Training And Testing Sets**"
      ]
    },
    {
      "cell_type": "code",
      "metadata": {
        "id": "5bei-OKZ9EGG"
      },
      "source": [
        "# Using Skicit-learn to split data into training and testing sets\n",
        "from sklearn.model_selection import train_test_split\n",
        "# Split the data into training and testing sets\n",
        "train_features, test_features, train_labels, test_labels = train_test_split(X, y, test_size = 0.30, random_state = 42)"
      ],
      "execution_count": null,
      "outputs": []
    },
    {
      "cell_type": "code",
      "metadata": {
        "colab": {
          "base_uri": "https://localhost:8080/"
        },
        "id": "ANzRqfAS9HAM",
        "outputId": "71948e12-4a57-46c8-e00d-02c61e1cf9cc"
      },
      "source": [
        "print('Training Features Shape:', train_features.shape)\n",
        "print('Training Labels Shape:', train_labels.shape)\n",
        "print('Testing Features Shape:', test_features.shape)\n",
        "print('Testing Labels Shape:', test_labels.shape)"
      ],
      "execution_count": null,
      "outputs": [
        {
          "output_type": "stream",
          "text": [
            "Training Features Shape: (389651, 16)\n",
            "Training Labels Shape: (389651,)\n",
            "Testing Features Shape: (166994, 16)\n",
            "Testing Labels Shape: (166994,)\n"
          ],
          "name": "stdout"
        }
      ]
    },
    {
      "cell_type": "markdown",
      "metadata": {
        "id": "Egf8_Cr1D1AT"
      },
      "source": [
        "Just to recap, to get the data into a form acceptable for machine learning we:\n",
        "1. One-hot encoded categorical variables\n",
        "2. Split data into features and labels\n",
        "3. Converted to arrays\n",
        "4. Split data into training and testing sets"
      ]
    },
    {
      "cell_type": "markdown",
      "metadata": {
        "id": "oGAAFVvDMDjT"
      },
      "source": [
        "**Importing And Training The Model**"
      ]
    },
    {
      "cell_type": "code",
      "metadata": {
        "id": "RQM0ByHw9JD1"
      },
      "source": [
        "# Import the model we are using\n",
        "from sklearn.ensemble import RandomForestRegressor\n",
        "# Instantiate model with 1000 decision trees\n",
        "rf = RandomForestRegressor(n_estimators = 1000, random_state = 42)\n",
        "# Train the model on training data\n",
        "rf.fit(train_features, train_labels);"
      ],
      "execution_count": null,
      "outputs": []
    },
    {
      "cell_type": "markdown",
      "metadata": {
        "id": "klFABJ1rMhjY"
      },
      "source": [
        "**Forest's Predict Method on the Test Data**"
      ]
    },
    {
      "cell_type": "code",
      "metadata": {
        "colab": {
          "base_uri": "https://localhost:8080/"
        },
        "id": "44iffbfK9Lzo",
        "outputId": "0db2d559-0b42-421f-e1d5-41d5c2c7103f"
      },
      "source": [
        "# Use the forest's predict method on the test data\n",
        "predictions = rf.predict(test_features)\n",
        "# Calculate the absolute errors\n",
        "errors = abs(predictions - test_labels)\n",
        "# Print out the mean absolute error (mae)\n",
        "print('Mean Absolute Error:', round(np.mean(errors), 2), 'degrees.')"
      ],
      "execution_count": null,
      "outputs": [
        {
          "output_type": "stream",
          "text": [
            "Mean Absolute Error: 1.19 degrees.\n"
          ],
          "name": "stdout"
        }
      ]
    },
    {
      "cell_type": "markdown",
      "metadata": {
        "id": "7Rh0wToMM27g"
      },
      "source": [
        "**Calculating The Accuracy of the Model**"
      ]
    },
    {
      "cell_type": "code",
      "metadata": {
        "colab": {
          "base_uri": "https://localhost:8080/"
        },
        "id": "yqdJBWmk9OSq",
        "outputId": "2122650d-40c9-4afc-83f8-a43789c4ca8b"
      },
      "source": [
        "# Calculate mean absolute percentage error (MAPE)\n",
        "mape = 100 * (errors / test_labels)\n",
        "# Calculate and display accuracy\n",
        "accuracy = 100 - np.mean(mape)\n",
        "print('Accuracy:', round(accuracy, 2), '%.')"
      ],
      "execution_count": null,
      "outputs": [
        {
          "output_type": "stream",
          "text": [
            "Accuracy: 99.92 %.\n"
          ],
          "name": "stdout"
        }
      ]
    },
    {
      "cell_type": "markdown",
      "metadata": {
        "id": "ytiGpT9oM_gA"
      },
      "source": [
        "**Visualising The Decision Tree**"
      ]
    },
    {
      "cell_type": "code",
      "metadata": {
        "id": "6ck5uR2C9Q0u"
      },
      "source": [
        "# Import tools needed for visualization\n",
        "from sklearn.tree import export_graphviz\n",
        "import pydot\n",
        "# Pull out one tree from the forest\n",
        "tree = rf.estimators_[5]\n",
        "# Import tools needed for visualization\n",
        "from sklearn.tree import export_graphviz\n",
        "import pydot\n",
        "# Pull out one tree from the forest\n",
        "tree = rf.estimators_[5]\n",
        "# Export the image to a dot file\n",
        "export_graphviz(tree, out_file = 'tree.dot', feature_names = feature_list, rounded = True, precision = 1)\n",
        "# Use dot file to create a graph\n",
        "(graph, ) = pydot.graph_from_dot_file('tree.dot')\n",
        "# Write graph to a png file\n",
        "graph.write_png('tree.png')"
      ],
      "execution_count": null,
      "outputs": []
    },
    {
      "cell_type": "markdown",
      "metadata": {
        "id": "U_lmYSweNG6o"
      },
      "source": [
        "**Limit The Depth of The Tree**"
      ]
    },
    {
      "cell_type": "code",
      "metadata": {
        "id": "y9pwKjpBK0za"
      },
      "source": [
        "# Limit depth of tree to 3 levels\n",
        "rf_small = RandomForestRegressor(n_estimators=10, max_depth = 3)\n",
        "rf_small.fit(train_features, train_labels)\n",
        "# Extract the small tree\n",
        "tree_small = rf_small.estimators_[5]\n",
        "# Save the tree as a png image\n",
        "export_graphviz(tree_small, out_file = 'small_tree.dot', feature_names = feature_list, rounded = True, precision = 1)\n",
        "(graph, ) = pydot.graph_from_dot_file('small_tree.dot')\n",
        "graph.write_png('small_tree.png');"
      ],
      "execution_count": null,
      "outputs": []
    },
    {
      "cell_type": "markdown",
      "metadata": {
        "id": "G6NtO72cNYDN"
      },
      "source": [
        "**Numerical Feature Importance**"
      ]
    },
    {
      "cell_type": "code",
      "metadata": {
        "id": "t5zbwaugLAb9"
      },
      "source": [
        "# Get numerical feature importances\n",
        "importances = list(rf.feature_importances_)\n",
        "# List of tuples with variable and importance\n",
        "feature_importances = [(X, round(importance, 2)) for X, importance in zip(feature_list, importances)]\n",
        "# Sort the feature importances by most important first\n",
        "feature_importances = sorted(feature_importances, key = lambda x: x[1], reverse = True)\n",
        "# Print out the feature and importances \n",
        "[print('Variable: {:20} Importance: {}'.format(*pair)) for pair in feature_importances];"
      ],
      "execution_count": null,
      "outputs": []
    },
    {
      "cell_type": "markdown",
      "metadata": {
        "id": "ZG4veFsmNipI"
      },
      "source": [
        "**Plotting Graph Between Variable And Numerical Importance**"
      ]
    },
    {
      "cell_type": "code",
      "metadata": {
        "colab": {
          "background_save": true
        },
        "id": "dJhyrS0MLK1C",
        "outputId": "bcfabbe7-da37-4053-d58f-23571d6f5ecd"
      },
      "source": [
        "# Import matplotlib for plotting and use magic command for Jupyter Notebooks\n",
        "import matplotlib.pyplot as plt\n",
        "%matplotlib inline\n",
        "# Set the style\n",
        "plt.style.use('fivethirtyeight')\n",
        "# list of x locations for plotting\n",
        "x_values = list(range(len(importances)))\n",
        "# Make a bar chart\n",
        "plt.bar(x_values, importances, orientation = 'vertical')\n",
        "# Tick labels for x axis\n",
        "plt.xticks(x_values, feature_list, rotation='vertical')\n",
        "# Axis labels and title\n",
        "plt.ylabel('Importance'); plt.xlabel('Variable'); plt.title('Variable Importances');"
      ],
      "execution_count": null,
      "outputs": [
        {
          "output_type": "display_data",
          "data": {
            "image/png": "[encoded data removed]",
            "text/plain": [
              "<Figure size 432x288 with 1 Axes>"
            ]
          },
          "metadata": {
            "tags": []
          }
        }
      ]
    },
    {
      "cell_type": "markdown",
      "metadata": {
        "id": "Dk8eCuPFNtg9"
      },
      "source": [
        "**New Random Forest with Only Feature Importance Variable**"
      ]
    },
    {
      "cell_type": "code",
      "metadata": {
        "colab": {
          "background_save": true
        },
        "id": "JJlnw5cELlBg"
      },
      "source": [
        "# New random forest with only the two most important variables\n",
        "rf_most_important = RandomForestRegressor(n_estimators= 1000, random_state=42)\n",
        "# Extract the two most important features\n",
        "important_indices = [feature_list.get_loc('cabinClass'), feature_list.get_loc('rate'),feature_list.get_loc('priceCategory_cat4')]\n",
        "train_important = train_features[:, important_indices]\n",
        "test_important = test_features[:, important_indices]\n",
        "# Train the random forest\n",
        "rf_most_important.fit(train_important, train_labels)\n",
        "# Make predictions and determine the error\n",
        "predictions = rf_most_important.predict(test_important)\n",
        "errors = abs(predictions - test_labels)"
      ],
      "execution_count": null,
      "outputs": []
    },
    {
      "cell_type": "markdown",
      "metadata": {
        "id": "Kup4t7FtN8n8"
      },
      "source": [
        "**Performance Matrix Of The Model**"
      ]
    },
    {
      "cell_type": "code",
      "metadata": {
        "id": "i187jUN4OEjl"
      },
      "source": [
        "# Display the performance metrics\n",
        "print('Mean Absolute Error:', round(np.mean(errors), 2), 'degrees.')\n",
        "mape = np.mean(100 * (errors / test_labels))\n",
        "accuracy = 100 - mape\n",
        "print('Accuracy:', round(accuracy, 2), '%.')"
      ],
      "execution_count": null,
      "outputs": []
    },
    {
      "cell_type": "code",
      "metadata": {
        "id": "OlQiqLUVg0O5"
      },
      "source": [
        "y_pred = rf.predict(test_features)\n",
        "\n",
        "print(rf.score(train_features,train_labels))\n",
        "\n",
        "print(rf.score(test_features,test_labels))\n",
        "print(y_pred)"
      ],
      "execution_count": null,
      "outputs": []
    },
    {
      "cell_type": "code",
      "metadata": {
        "id": "YMcQHWHwh72C"
      },
      "source": [
        "#To show distribution\n",
        "import sklearn.metrics as metrics\n",
        "#To show scatter\n",
        "plt.scatter(test_labels, y_pred, alpha = 0.5)\n",
        "plt.xlabel(\"test_labels\")\n",
        "plt.ylabel(\"y_pred\")\n",
        "plt.show()\n",
        "print('MAE:', metrics.mean_absolute_error(test_labels, y_pred))\n",
        "print('MSE:', metrics.mean_squared_error(test_labels, y_pred))"
      ],
      "execution_count": null,
      "outputs": []
    },
    {
      "cell_type": "code",
      "metadata": {
        "id": "rfPPOmDofwmX"
      },
      "source": [
        ""
      ],
      "execution_count": null,
      "outputs": []
    },
    {
      "cell_type": "markdown",
      "metadata": {
        "id": "vq1nape5tq4c"
      },
      "source": [
        "Conclusion:\n",
        "1. We have removed outliers completely from our dataset but we also have a planning to replace the outliers with some specific value.\n",
        "2. We have added as many attributes as we can to our dataset. We will choose a subset of this dataset for our modeling purpose depending upon our model requirement.\n",
        "3. We have added dummy_variables by thinking its importance in some models, though we have not decided our model yet.\n",
        "4. We have plotted heatmap after dropping several attributes to get better visualization.\n",
        "5. We are assuming cabinClass as ordinal attribute so we encoded it as rank.\n",
        "6. We have not taken a categorical attribute craftTypeCode in our analysis as we have not noticed anything interesting there.\n",
        "7. As our continuous features are not showing normal distribution so we have not comfortably done any statistical significance tests yet.\n",
        "8. We are using Random Forest Regressor as our Model.\n",
        "9. The Traing and Testing of Data is done as 70:30 ratio.\n",
        "10. The Accuracy of the Model came out be 99.92%.\n",
        "11. Find the Numerical Importance of Features.\n",
        "12.  Make a New Random Forest with Important Features.\n",
        "13. Compare the Accuracy with this new Rndom Forest Model."
      ]
    }
  ]
}